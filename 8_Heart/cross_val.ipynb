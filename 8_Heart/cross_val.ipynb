{
 "cells": [
  {
   "cell_type": "code",
   "execution_count": 1,
   "id": "6c4732bc",
   "metadata": {},
   "outputs": [],
   "source": [
    "import numpy as np\n",
    "import pandas as pd\n",
    "\n",
    "from sklearn.tree import DecisionTreeClassifier\n",
    "from sklearn.ensemble import RandomForestClassifier\n",
    "\n",
    "from sklearn.neighbors import KNeighborsClassifier\n",
    "\n",
    "from sklearn.preprocessing import StandardScaler\n",
    "from sklearn.pipeline import Pipeline\n",
    "from sklearn.compose import ColumnTransformer\n",
    "from sklearn.model_selection import train_test_split\n",
    "\n",
    "from sklearn import metrics"
   ]
  },
  {
   "cell_type": "code",
   "execution_count": 2,
   "id": "91958c8c",
   "metadata": {},
   "outputs": [
    {
     "data": {
      "text/html": [
       "<div>\n",
       "<style scoped>\n",
       "    .dataframe tbody tr th:only-of-type {\n",
       "        vertical-align: middle;\n",
       "    }\n",
       "\n",
       "    .dataframe tbody tr th {\n",
       "        vertical-align: top;\n",
       "    }\n",
       "\n",
       "    .dataframe thead th {\n",
       "        text-align: right;\n",
       "    }\n",
       "</style>\n",
       "<table border=\"1\" class=\"dataframe\">\n",
       "  <thead>\n",
       "    <tr style=\"text-align: right;\">\n",
       "      <th></th>\n",
       "      <th>age</th>\n",
       "      <th>sex</th>\n",
       "      <th>cp</th>\n",
       "      <th>trtbps</th>\n",
       "      <th>chol</th>\n",
       "      <th>fbs</th>\n",
       "      <th>restecg</th>\n",
       "      <th>thalachh</th>\n",
       "      <th>exng</th>\n",
       "      <th>oldpeak</th>\n",
       "      <th>slp</th>\n",
       "      <th>caa</th>\n",
       "      <th>thall</th>\n",
       "      <th>output</th>\n",
       "    </tr>\n",
       "  </thead>\n",
       "  <tbody>\n",
       "    <tr>\n",
       "      <th>0</th>\n",
       "      <td>63</td>\n",
       "      <td>1</td>\n",
       "      <td>3</td>\n",
       "      <td>145</td>\n",
       "      <td>233</td>\n",
       "      <td>1</td>\n",
       "      <td>0</td>\n",
       "      <td>150</td>\n",
       "      <td>0</td>\n",
       "      <td>2.3</td>\n",
       "      <td>0</td>\n",
       "      <td>0</td>\n",
       "      <td>1</td>\n",
       "      <td>1</td>\n",
       "    </tr>\n",
       "    <tr>\n",
       "      <th>1</th>\n",
       "      <td>37</td>\n",
       "      <td>1</td>\n",
       "      <td>2</td>\n",
       "      <td>130</td>\n",
       "      <td>250</td>\n",
       "      <td>0</td>\n",
       "      <td>1</td>\n",
       "      <td>187</td>\n",
       "      <td>0</td>\n",
       "      <td>3.5</td>\n",
       "      <td>0</td>\n",
       "      <td>0</td>\n",
       "      <td>2</td>\n",
       "      <td>1</td>\n",
       "    </tr>\n",
       "    <tr>\n",
       "      <th>2</th>\n",
       "      <td>41</td>\n",
       "      <td>0</td>\n",
       "      <td>1</td>\n",
       "      <td>130</td>\n",
       "      <td>204</td>\n",
       "      <td>0</td>\n",
       "      <td>0</td>\n",
       "      <td>172</td>\n",
       "      <td>0</td>\n",
       "      <td>1.4</td>\n",
       "      <td>2</td>\n",
       "      <td>0</td>\n",
       "      <td>2</td>\n",
       "      <td>1</td>\n",
       "    </tr>\n",
       "    <tr>\n",
       "      <th>3</th>\n",
       "      <td>56</td>\n",
       "      <td>1</td>\n",
       "      <td>1</td>\n",
       "      <td>120</td>\n",
       "      <td>236</td>\n",
       "      <td>0</td>\n",
       "      <td>1</td>\n",
       "      <td>178</td>\n",
       "      <td>0</td>\n",
       "      <td>0.8</td>\n",
       "      <td>2</td>\n",
       "      <td>0</td>\n",
       "      <td>2</td>\n",
       "      <td>1</td>\n",
       "    </tr>\n",
       "    <tr>\n",
       "      <th>4</th>\n",
       "      <td>57</td>\n",
       "      <td>0</td>\n",
       "      <td>0</td>\n",
       "      <td>120</td>\n",
       "      <td>354</td>\n",
       "      <td>0</td>\n",
       "      <td>1</td>\n",
       "      <td>163</td>\n",
       "      <td>1</td>\n",
       "      <td>0.6</td>\n",
       "      <td>2</td>\n",
       "      <td>0</td>\n",
       "      <td>2</td>\n",
       "      <td>1</td>\n",
       "    </tr>\n",
       "  </tbody>\n",
       "</table>\n",
       "</div>"
      ],
      "text/plain": [
       "   age  sex  cp  trtbps  chol  fbs  restecg  thalachh  exng  oldpeak  slp  \\\n",
       "0   63    1   3     145   233    1        0       150     0      2.3    0   \n",
       "1   37    1   2     130   250    0        1       187     0      3.5    0   \n",
       "2   41    0   1     130   204    0        0       172     0      1.4    2   \n",
       "3   56    1   1     120   236    0        1       178     0      0.8    2   \n",
       "4   57    0   0     120   354    0        1       163     1      0.6    2   \n",
       "\n",
       "   caa  thall  output  \n",
       "0    0      1       1  \n",
       "1    0      2       1  \n",
       "2    0      2       1  \n",
       "3    0      2       1  \n",
       "4    0      2       1  "
      ]
     },
     "execution_count": 2,
     "metadata": {},
     "output_type": "execute_result"
    }
   ],
   "source": [
    "data = pd.read_csv('heart.csv')\n",
    "data.head()"
   ]
  },
  {
   "cell_type": "code",
   "execution_count": 3,
   "id": "24907b50",
   "metadata": {},
   "outputs": [],
   "source": [
    "y = data.output\n",
    "\n",
    "X = data.drop('output', axis = 1)"
   ]
  },
  {
   "cell_type": "code",
   "execution_count": 4,
   "id": "55a37b89",
   "metadata": {},
   "outputs": [],
   "source": [
    "X_train, X_valid, y_train, y_valid = train_test_split(X, y, test_size = 0.2, random_state = 23)"
   ]
  },
  {
   "cell_type": "markdown",
   "id": "083ad329",
   "metadata": {},
   "source": [
    "# Before Scaling"
   ]
  },
  {
   "cell_type": "markdown",
   "id": "646d0419",
   "metadata": {},
   "source": [
    "## DecisionTree"
   ]
  },
  {
   "cell_type": "code",
   "execution_count": 5,
   "id": "5f8b0da9",
   "metadata": {},
   "outputs": [
    {
     "name": "stdout",
     "output_type": "stream",
     "text": [
      "DecisionTree\n",
      "> Acc: 0.8032786885245902\n"
     ]
    }
   ],
   "source": [
    "model_dt = DecisionTreeClassifier(random_state = 23)\n",
    "model_dt.fit(X_train, y_train)\n",
    "\n",
    "preds_dt = model_dt.predict(X_valid)\n",
    "acc_score_dt = metrics.accuracy_score(preds_dt, y_valid)\n",
    "\n",
    "print('DecisionTree')\n",
    "print(f'> Acc: {acc_score_dt}')"
   ]
  },
  {
   "cell_type": "markdown",
   "id": "578ce81d",
   "metadata": {},
   "source": [
    "## RandomForest"
   ]
  },
  {
   "cell_type": "code",
   "execution_count": 6,
   "id": "25e48b3a",
   "metadata": {},
   "outputs": [
    {
     "name": "stdout",
     "output_type": "stream",
     "text": [
      "RandomForest\n",
      "> Acc: 0.8032786885245902\n"
     ]
    }
   ],
   "source": [
    "model_rf = RandomForestClassifier(random_state = 23)\n",
    "model_rf.fit(X_train, y_train)\n",
    "\n",
    "preds_rf = model_rf.predict(X_valid)\n",
    "acc_score_rf = metrics.accuracy_score(preds_rf, y_valid)\n",
    "\n",
    "print('RandomForest')\n",
    "print(f'> Acc: {acc_score_rf}')"
   ]
  },
  {
   "cell_type": "markdown",
   "id": "6479d8ed",
   "metadata": {},
   "source": [
    "## KNeighbors"
   ]
  },
  {
   "cell_type": "code",
   "execution_count": 7,
   "id": "019b6895",
   "metadata": {},
   "outputs": [
    {
     "name": "stdout",
     "output_type": "stream",
     "text": [
      "KNeighbors\n",
      "> Acc: 0.7049180327868853\n"
     ]
    }
   ],
   "source": [
    "model_knn = KNeighborsClassifier()\n",
    "model_knn.fit(X_train, y_train)\n",
    "\n",
    "preds_knn = model_knn.predict(X_valid)\n",
    "acc_score_knn = metrics.accuracy_score(preds_knn, y_valid)\n",
    "\n",
    "print('KNeighbors')\n",
    "print(f'> Acc: {acc_score_knn}')"
   ]
  },
  {
   "cell_type": "code",
   "execution_count": null,
   "id": "ad46aafe",
   "metadata": {},
   "outputs": [],
   "source": []
  },
  {
   "cell_type": "code",
   "execution_count": null,
   "id": "6e26f9cf",
   "metadata": {},
   "outputs": [],
   "source": []
  },
  {
   "cell_type": "markdown",
   "id": "fb0b5514",
   "metadata": {},
   "source": [
    "# After Scaling"
   ]
  },
  {
   "cell_type": "markdown",
   "id": "20e8420d",
   "metadata": {},
   "source": [
    "## DecisionTree"
   ]
  },
  {
   "cell_type": "code",
   "execution_count": 8,
   "id": "3b2774aa",
   "metadata": {},
   "outputs": [
    {
     "data": {
      "text/plain": [
       "Pipeline(steps=[('preprocessor', StandardScaler()),\n",
       "                ('model', DecisionTreeClassifier(random_state=11))])"
      ]
     },
     "execution_count": 8,
     "metadata": {},
     "output_type": "execute_result"
    }
   ],
   "source": [
    "model_dt = DecisionTreeClassifier(random_state = 11)\n",
    "\n",
    "clf_dt = Pipeline(steps =[('preprocessor', StandardScaler()),\n",
    "                               ('model', model_dt)])\n",
    "clf_dt.fit(X_train, y_train)"
   ]
  },
  {
   "cell_type": "code",
   "execution_count": 9,
   "id": "c4e6931a",
   "metadata": {},
   "outputs": [
    {
     "name": "stdout",
     "output_type": "stream",
     "text": [
      "DecisionTree\n",
      "> Acc: 0.7704918032786885\n"
     ]
    }
   ],
   "source": [
    "preds_dt = clf_dt.predict(X_valid)\n",
    "acc_score_dt = metrics.accuracy_score(preds_dt, y_valid)\n",
    "\n",
    "print('DecisionTree')\n",
    "print(f'> Acc: {acc_score_dt}')"
   ]
  },
  {
   "cell_type": "code",
   "execution_count": null,
   "id": "a3155d11",
   "metadata": {},
   "outputs": [],
   "source": []
  },
  {
   "cell_type": "markdown",
   "id": "a417575a",
   "metadata": {},
   "source": [
    "## RandomForest"
   ]
  },
  {
   "cell_type": "code",
   "execution_count": 10,
   "id": "65d7fbd6",
   "metadata": {},
   "outputs": [
    {
     "data": {
      "text/plain": [
       "Pipeline(steps=[('preprocessor', StandardScaler()),\n",
       "                ('model', RandomForestClassifier(random_state=11))])"
      ]
     },
     "execution_count": 10,
     "metadata": {},
     "output_type": "execute_result"
    }
   ],
   "source": [
    "model_rf = RandomForestClassifier(random_state = 11)\n",
    "\n",
    "clf_rf = Pipeline(steps =[('preprocessor', StandardScaler()),\n",
    "                               ('model', model_rf)])\n",
    "clf_rf.fit(X_train, y_train)"
   ]
  },
  {
   "cell_type": "code",
   "execution_count": 11,
   "id": "4de0100b",
   "metadata": {},
   "outputs": [
    {
     "name": "stdout",
     "output_type": "stream",
     "text": [
      "RandomForest\n",
      "> Acc: 0.7868852459016393\n"
     ]
    }
   ],
   "source": [
    "preds_rf = clf_rf.predict(X_valid)\n",
    "acc_score_rf = metrics.accuracy_score(preds_rf, y_valid)\n",
    "\n",
    "print('RandomForest')\n",
    "print(f'> Acc: {acc_score_rf}')"
   ]
  },
  {
   "cell_type": "markdown",
   "id": "f62ddc07",
   "metadata": {},
   "source": [
    "## KNeighbors"
   ]
  },
  {
   "cell_type": "code",
   "execution_count": 12,
   "id": "38597430",
   "metadata": {},
   "outputs": [
    {
     "data": {
      "text/plain": [
       "Pipeline(steps=[('preprocessor', StandardScaler()),\n",
       "                ('model', KNeighborsClassifier())])"
      ]
     },
     "execution_count": 12,
     "metadata": {},
     "output_type": "execute_result"
    }
   ],
   "source": [
    "model_knn = KNeighborsClassifier()\n",
    "\n",
    "clf_knn = Pipeline(steps =[('preprocessor', StandardScaler()),\n",
    "                               ('model', model_knn)])\n",
    "clf_knn.fit(X_train, y_train)"
   ]
  },
  {
   "cell_type": "code",
   "execution_count": 13,
   "id": "d4c0c6fe",
   "metadata": {},
   "outputs": [
    {
     "name": "stdout",
     "output_type": "stream",
     "text": [
      "RandomForest\n",
      "> Acc: 0.8360655737704918\n"
     ]
    }
   ],
   "source": [
    "preds_knn = clf_knn.predict(X_valid)\n",
    "acc_score_knn = metrics.accuracy_score(preds_knn, y_valid)\n",
    "\n",
    "print('KNeighbors')\n",
    "print(f'> Acc: {acc_score_knn}')"
   ]
  },
  {
   "cell_type": "markdown",
   "id": "a3a21eab",
   "metadata": {},
   "source": [
    "With scaled features, KNeighborsClassifier has outperformed other models used"
   ]
  },
  {
   "cell_type": "code",
   "execution_count": 1,
   "id": "b921efbc",
   "metadata": {},
   "outputs": [],
   "source": [
    "# neighbors = [2, 3, 4, 5, 6, 7, 10, 13, 15, 18, 20]\n",
    "\n",
    "# for k in neighbors:\n",
    "#     model_knn = KNeighborsClassifier(%xdel)\n",
    "#     clf_knn = Pipeline(steps =[('preprocessor', StandardScaler()),\n",
    "#                                ('model', model_knn)])\n",
    "    \n",
    "#     clf_knn.fit(X_train, y_tra\n",
    "    \n",
    "#     preds_knn = clf_knn.predict(X_valid)\n",
    "#     acc = metrics.accuracy_score(preds_knn, y_valid)\n",
    "    \n",
    "#     print(f'KNeighbors (K) > {k}')\n",
    "#     print(f'> Acc: {acc}')"
   ]
  },
  {
   "cell_type": "code",
   "execution_count": null,
   "id": "bee3bf88",
   "metadata": {},
   "outputs": [],
   "source": []
  },
  {
   "cell_type": "code",
   "execution_count": null,
   "id": "499d12a5",
   "metadata": {},
   "outputs": [],
   "source": []
  },
  {
   "cell_type": "code",
   "execution_count": null,
   "id": "b220ade3",
   "metadata": {},
   "outputs": [],
   "source": []
  },
  {
   "cell_type": "code",
   "execution_count": null,
   "id": "6e6a7345",
   "metadata": {},
   "outputs": [],
   "source": []
  },
  {
   "cell_type": "code",
   "execution_count": null,
   "id": "c55429c5",
   "metadata": {},
   "outputs": [],
   "source": []
  }
 ],
 "metadata": {
  "kernelspec": {
   "display_name": "Python 3 (ipykernel)",
   "language": "python",
   "name": "python3"
  },
  "language_info": {
   "codemirror_mode": {
    "name": "ipython",
    "version": 3
   },
   "file_extension": ".py",
   "mimetype": "text/x-python",
   "name": "python",
   "nbconvert_exporter": "python",
   "pygments_lexer": "ipython3",
   "version": "3.9.13"
  }
 },
 "nbformat": 4,
 "nbformat_minor": 5
}
