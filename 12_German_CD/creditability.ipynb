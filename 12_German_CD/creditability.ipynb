{
 "cells": [
  {
   "cell_type": "markdown",
   "id": "d29d3737",
   "metadata": {},
   "source": [
    "## About this Dataset\n",
    "+ Context\n",
    "\n",
    "When a bank receives a loan application, based on the applicant’s profile the bank has to make a decision regarding whether to go ahead with the loan approval or not. Two types of risks are associated with the bank’s decision.\"\n",
    "\n",
    "\"If the applicant is a good credit risk, i.e. is likely to repay the loan, then not approving the loan to the person results in a loss of business to the bank\n",
    "If the applicant is a bad credit risk, i.e. is not likely to repay the loan, then approving the loan to the person results in a financial loss to the bank.\"\n",
    "\n",
    "The predictors that may potentially have any influence on Creditability:\n",
    "\n",
    "+ Account Balance: No account (1), None (No balance) (2), Some Balance (3)\n",
    "\n",
    "+ Payment Status: Some Problems (1), Paid Up (2), No Problems (in this bank) (3)\n",
    "\n",
    "+ Savings/Stock Value: None, Below 100 DM, [100, 1000] DM, Above 1000 DM\n",
    "\n",
    "+ Employment Length: Below 1 year (including unemployed), [1, 4), [4, 7), Above 7\n",
    "\n",
    "+ Sex/Marital Status: Male Divorced/Single, Male Married/Widowed, Female\n",
    "\n",
    "+ No of Credits at this bank: 1, More than 1\n",
    "\n",
    "+ Guarantor: None, Yes\n",
    "\n",
    "+ Concurrent Credits: Other Banks or Dept Stores, None\n",
    "\n",
    "+ ForeignWorker variable may be dropped from the study\n",
    "\n",
    "+ Purpose of Credit: New car, Used car, Home Related, Other\n",
    "\n",
    "https://online.stat.psu.edu/stat508/resource/analysis/gcd\n",
    "\n",
    "Content\n",
    "\n",
    "The German Credit Data contains data on 20 variables and the classification whether an applicant is considered a Good or a Bad credit risk for 1000 loan applicants. A predictive model developed on this data is expected to provide a bank manager guidance for making a decision whether to approve a loan to a prospective applicant based on his/her profiles.\n",
    "\n",
    "Acknowledgements\n",
    "https://online.stat.psu.edu/stat508/resource/analysis/gcd\n",
    "\n",
    "Photo by Alice Pasqual on Unsplash\n",
    "\n",
    "Inspiration\n",
    "Unemployment in time of crisis."
   ]
  },
  {
   "cell_type": "code",
   "execution_count": 1,
   "id": "9b62a757",
   "metadata": {},
   "outputs": [],
   "source": [
    "import numpy as np\n",
    "import pandas as pd\n",
    "import matplotlib.pyplot as plt\n",
    "import seaborn as sns"
   ]
  },
  {
   "cell_type": "markdown",
   "id": "8df2acd0",
   "metadata": {},
   "source": [
    "## Loading data and EDA"
   ]
  },
  {
   "cell_type": "code",
   "execution_count": 2,
   "id": "ad74a791",
   "metadata": {},
   "outputs": [
    {
     "data": {
      "text/html": [
       "<div>\n",
       "<style scoped>\n",
       "    .dataframe tbody tr th:only-of-type {\n",
       "        vertical-align: middle;\n",
       "    }\n",
       "\n",
       "    .dataframe tbody tr th {\n",
       "        vertical-align: top;\n",
       "    }\n",
       "\n",
       "    .dataframe thead th {\n",
       "        text-align: right;\n",
       "    }\n",
       "</style>\n",
       "<table border=\"1\" class=\"dataframe\">\n",
       "  <thead>\n",
       "    <tr style=\"text-align: right;\">\n",
       "      <th></th>\n",
       "      <th>Creditability</th>\n",
       "      <th>Account_Balance</th>\n",
       "      <th>Duration_of_Credit_monthly</th>\n",
       "      <th>Payment_Status_of_Previous_Credit</th>\n",
       "      <th>Purpose</th>\n",
       "      <th>Credit_Amount</th>\n",
       "      <th>Value_Savings_Stocks</th>\n",
       "      <th>Length_of_current_employment</th>\n",
       "      <th>Instalment_per_cent</th>\n",
       "      <th>Sex_Marital_Status</th>\n",
       "      <th>...</th>\n",
       "      <th>Duration_in_Current_address</th>\n",
       "      <th>Most_valuable_available_asset</th>\n",
       "      <th>Age_years</th>\n",
       "      <th>Concurrent_Credits</th>\n",
       "      <th>Type_of_apartment</th>\n",
       "      <th>No_of_Credits_at_this_Bank</th>\n",
       "      <th>Occupation</th>\n",
       "      <th>No_of_dependents</th>\n",
       "      <th>Telephone</th>\n",
       "      <th>Foreign_Worker</th>\n",
       "    </tr>\n",
       "  </thead>\n",
       "  <tbody>\n",
       "    <tr>\n",
       "      <th>0</th>\n",
       "      <td>1</td>\n",
       "      <td>1</td>\n",
       "      <td>18</td>\n",
       "      <td>4</td>\n",
       "      <td>2</td>\n",
       "      <td>1049</td>\n",
       "      <td>1</td>\n",
       "      <td>2</td>\n",
       "      <td>4</td>\n",
       "      <td>2</td>\n",
       "      <td>...</td>\n",
       "      <td>4</td>\n",
       "      <td>2</td>\n",
       "      <td>21</td>\n",
       "      <td>3</td>\n",
       "      <td>1</td>\n",
       "      <td>1</td>\n",
       "      <td>3</td>\n",
       "      <td>1</td>\n",
       "      <td>1</td>\n",
       "      <td>1</td>\n",
       "    </tr>\n",
       "    <tr>\n",
       "      <th>1</th>\n",
       "      <td>1</td>\n",
       "      <td>1</td>\n",
       "      <td>9</td>\n",
       "      <td>4</td>\n",
       "      <td>0</td>\n",
       "      <td>2799</td>\n",
       "      <td>1</td>\n",
       "      <td>3</td>\n",
       "      <td>2</td>\n",
       "      <td>3</td>\n",
       "      <td>...</td>\n",
       "      <td>2</td>\n",
       "      <td>1</td>\n",
       "      <td>36</td>\n",
       "      <td>3</td>\n",
       "      <td>1</td>\n",
       "      <td>2</td>\n",
       "      <td>3</td>\n",
       "      <td>2</td>\n",
       "      <td>1</td>\n",
       "      <td>1</td>\n",
       "    </tr>\n",
       "    <tr>\n",
       "      <th>2</th>\n",
       "      <td>1</td>\n",
       "      <td>2</td>\n",
       "      <td>12</td>\n",
       "      <td>2</td>\n",
       "      <td>9</td>\n",
       "      <td>841</td>\n",
       "      <td>2</td>\n",
       "      <td>4</td>\n",
       "      <td>2</td>\n",
       "      <td>2</td>\n",
       "      <td>...</td>\n",
       "      <td>4</td>\n",
       "      <td>1</td>\n",
       "      <td>23</td>\n",
       "      <td>3</td>\n",
       "      <td>1</td>\n",
       "      <td>1</td>\n",
       "      <td>2</td>\n",
       "      <td>1</td>\n",
       "      <td>1</td>\n",
       "      <td>1</td>\n",
       "    </tr>\n",
       "    <tr>\n",
       "      <th>3</th>\n",
       "      <td>1</td>\n",
       "      <td>1</td>\n",
       "      <td>12</td>\n",
       "      <td>4</td>\n",
       "      <td>0</td>\n",
       "      <td>2122</td>\n",
       "      <td>1</td>\n",
       "      <td>3</td>\n",
       "      <td>3</td>\n",
       "      <td>3</td>\n",
       "      <td>...</td>\n",
       "      <td>2</td>\n",
       "      <td>1</td>\n",
       "      <td>39</td>\n",
       "      <td>3</td>\n",
       "      <td>1</td>\n",
       "      <td>2</td>\n",
       "      <td>2</td>\n",
       "      <td>2</td>\n",
       "      <td>1</td>\n",
       "      <td>2</td>\n",
       "    </tr>\n",
       "    <tr>\n",
       "      <th>4</th>\n",
       "      <td>1</td>\n",
       "      <td>1</td>\n",
       "      <td>12</td>\n",
       "      <td>4</td>\n",
       "      <td>0</td>\n",
       "      <td>2171</td>\n",
       "      <td>1</td>\n",
       "      <td>3</td>\n",
       "      <td>4</td>\n",
       "      <td>3</td>\n",
       "      <td>...</td>\n",
       "      <td>4</td>\n",
       "      <td>2</td>\n",
       "      <td>38</td>\n",
       "      <td>1</td>\n",
       "      <td>2</td>\n",
       "      <td>2</td>\n",
       "      <td>2</td>\n",
       "      <td>1</td>\n",
       "      <td>1</td>\n",
       "      <td>2</td>\n",
       "    </tr>\n",
       "  </tbody>\n",
       "</table>\n",
       "<p>5 rows × 21 columns</p>\n",
       "</div>"
      ],
      "text/plain": [
       "   Creditability  Account_Balance  Duration_of_Credit_monthly  \\\n",
       "0              1                1                          18   \n",
       "1              1                1                           9   \n",
       "2              1                2                          12   \n",
       "3              1                1                          12   \n",
       "4              1                1                          12   \n",
       "\n",
       "   Payment_Status_of_Previous_Credit  Purpose  Credit_Amount  \\\n",
       "0                                  4        2           1049   \n",
       "1                                  4        0           2799   \n",
       "2                                  2        9            841   \n",
       "3                                  4        0           2122   \n",
       "4                                  4        0           2171   \n",
       "\n",
       "   Value_Savings_Stocks  Length_of_current_employment  Instalment_per_cent  \\\n",
       "0                     1                             2                    4   \n",
       "1                     1                             3                    2   \n",
       "2                     2                             4                    2   \n",
       "3                     1                             3                    3   \n",
       "4                     1                             3                    4   \n",
       "\n",
       "   Sex_Marital_Status  ...  Duration_in_Current_address  \\\n",
       "0                   2  ...                            4   \n",
       "1                   3  ...                            2   \n",
       "2                   2  ...                            4   \n",
       "3                   3  ...                            2   \n",
       "4                   3  ...                            4   \n",
       "\n",
       "   Most_valuable_available_asset  Age_years  Concurrent_Credits  \\\n",
       "0                              2         21                   3   \n",
       "1                              1         36                   3   \n",
       "2                              1         23                   3   \n",
       "3                              1         39                   3   \n",
       "4                              2         38                   1   \n",
       "\n",
       "   Type_of_apartment  No_of_Credits_at_this_Bank  Occupation  \\\n",
       "0                  1                           1           3   \n",
       "1                  1                           2           3   \n",
       "2                  1                           1           2   \n",
       "3                  1                           2           2   \n",
       "4                  2                           2           2   \n",
       "\n",
       "   No_of_dependents  Telephone  Foreign_Worker  \n",
       "0                 1          1               1  \n",
       "1                 2          1               1  \n",
       "2                 1          1               1  \n",
       "3                 2          1               2  \n",
       "4                 1          1               2  \n",
       "\n",
       "[5 rows x 21 columns]"
      ]
     },
     "execution_count": 2,
     "metadata": {},
     "output_type": "execute_result"
    }
   ],
   "source": [
    "data = pd.read_csv('german.csv', sep=';')\n",
    "data.head()"
   ]
  },
  {
   "cell_type": "code",
   "execution_count": 3,
   "id": "b56ef194",
   "metadata": {},
   "outputs": [
    {
     "data": {
      "text/plain": [
       "(1000, 21)"
      ]
     },
     "execution_count": 3,
     "metadata": {},
     "output_type": "execute_result"
    }
   ],
   "source": [
    "data.shape"
   ]
  },
  {
   "cell_type": "code",
   "execution_count": 4,
   "id": "99382396",
   "metadata": {},
   "outputs": [
    {
     "name": "stdout",
     "output_type": "stream",
     "text": [
      "<class 'pandas.core.frame.DataFrame'>\n",
      "RangeIndex: 1000 entries, 0 to 999\n",
      "Data columns (total 21 columns):\n",
      " #   Column                             Non-Null Count  Dtype\n",
      "---  ------                             --------------  -----\n",
      " 0   Creditability                      1000 non-null   int64\n",
      " 1   Account_Balance                    1000 non-null   int64\n",
      " 2   Duration_of_Credit_monthly         1000 non-null   int64\n",
      " 3   Payment_Status_of_Previous_Credit  1000 non-null   int64\n",
      " 4   Purpose                            1000 non-null   int64\n",
      " 5   Credit_Amount                      1000 non-null   int64\n",
      " 6   Value_Savings_Stocks               1000 non-null   int64\n",
      " 7   Length_of_current_employment       1000 non-null   int64\n",
      " 8   Instalment_per_cent                1000 non-null   int64\n",
      " 9   Sex_Marital_Status                 1000 non-null   int64\n",
      " 10  Guarantors                         1000 non-null   int64\n",
      " 11  Duration_in_Current_address        1000 non-null   int64\n",
      " 12  Most_valuable_available_asset      1000 non-null   int64\n",
      " 13  Age_years                          1000 non-null   int64\n",
      " 14  Concurrent_Credits                 1000 non-null   int64\n",
      " 15  Type_of_apartment                  1000 non-null   int64\n",
      " 16  No_of_Credits_at_this_Bank         1000 non-null   int64\n",
      " 17  Occupation                         1000 non-null   int64\n",
      " 18  No_of_dependents                   1000 non-null   int64\n",
      " 19  Telephone                          1000 non-null   int64\n",
      " 20  Foreign_Worker                     1000 non-null   int64\n",
      "dtypes: int64(21)\n",
      "memory usage: 164.2 KB\n"
     ]
    }
   ],
   "source": [
    "data.info()"
   ]
  },
  {
   "cell_type": "code",
   "execution_count": 5,
   "id": "cdca91d7",
   "metadata": {},
   "outputs": [
    {
     "data": {
      "text/plain": [
       "1    700\n",
       "0    300\n",
       "Name: Creditability, dtype: int64"
      ]
     },
     "execution_count": 5,
     "metadata": {},
     "output_type": "execute_result"
    }
   ],
   "source": [
    "data.Creditability.value_counts()"
   ]
  },
  {
   "cell_type": "code",
   "execution_count": 6,
   "id": "852442ab",
   "metadata": {},
   "outputs": [
    {
     "data": {
      "text/plain": [
       "<AxesSubplot:>"
      ]
     },
     "execution_count": 6,
     "metadata": {},
     "output_type": "execute_result"
    },
    {
     "data": {
      "image/png": "[encoded data removed]",
      "text/plain": [
       "<Figure size 432x288 with 1 Axes>"
      ]
     },
     "metadata": {
      "needs_background": "light"
     },
     "output_type": "display_data"
    }
   ],
   "source": [
    "data.Creditability.value_counts().plot(kind = 'bar')"
   ]
  },
  {
   "cell_type": "code",
   "execution_count": 7,
   "id": "49609fc6",
   "metadata": {},
   "outputs": [
    {
     "data": {
      "text/plain": [
       "Creditability                        0\n",
       "Account_Balance                      0\n",
       "Duration_of_Credit_monthly           0\n",
       "Payment_Status_of_Previous_Credit    0\n",
       "Purpose                              0\n",
       "Credit_Amount                        0\n",
       "Value_Savings_Stocks                 0\n",
       "Length_of_current_employment         0\n",
       "Instalment_per_cent                  0\n",
       "Sex_Marital_Status                   0\n",
       "Guarantors                           0\n",
       "Duration_in_Current_address          0\n",
       "Most_valuable_available_asset        0\n",
       "Age_years                            0\n",
       "Concurrent_Credits                   0\n",
       "Type_of_apartment                    0\n",
       "No_of_Credits_at_this_Bank           0\n",
       "Occupation                           0\n",
       "No_of_dependents                     0\n",
       "Telephone                            0\n",
       "Foreign_Worker                       0\n",
       "dtype: int64"
      ]
     },
     "execution_count": 7,
     "metadata": {},
     "output_type": "execute_result"
    }
   ],
   "source": [
    "data.isnull().sum()"
   ]
  },
  {
   "cell_type": "code",
   "execution_count": 8,
   "id": "a2e880a0",
   "metadata": {},
   "outputs": [],
   "source": [
    "# Target\n",
    "y = data.Creditability\n",
    "\n",
    "# Features\n",
    "X = data.drop('Creditability', axis = 1)"
   ]
  },
  {
   "cell_type": "code",
   "execution_count": 9,
   "id": "64de9009",
   "metadata": {},
   "outputs": [
    {
     "data": {
      "text/plain": [
       "Index(['Account_Balance', 'Duration_of_Credit_monthly',\n",
       "       'Payment_Status_of_Previous_Credit', 'Purpose', 'Credit_Amount',\n",
       "       'Value_Savings_Stocks', 'Length_of_current_employment',\n",
       "       'Instalment_per_cent', 'Sex_Marital_Status', 'Guarantors',\n",
       "       'Duration_in_Current_address', 'Most_valuable_available_asset',\n",
       "       'Age_years', 'Concurrent_Credits', 'Type_of_apartment',\n",
       "       'No_of_Credits_at_this_Bank', 'Occupation', 'No_of_dependents',\n",
       "       'Telephone', 'Foreign_Worker'],\n",
       "      dtype='object')"
      ]
     },
     "execution_count": 9,
     "metadata": {},
     "output_type": "execute_result"
    }
   ],
   "source": [
    "features = X.columns\n",
    "features"
   ]
  },
  {
   "cell_type": "code",
   "execution_count": 10,
   "id": "f5acc52a",
   "metadata": {},
   "outputs": [
    {
     "data": {
      "text/plain": [
       "<AxesSubplot:ylabel='Frequency'>"
      ]
     },
     "execution_count": 10,
     "metadata": {},
     "output_type": "execute_result"
    },
    {
     "data": {
      "image/png": "[encoded data removed]",
      "text/plain": [
       "<Figure size 432x288 with 1 Axes>"
      ]
     },
     "metadata": {
      "needs_background": "light"
     },
     "output_type": "display_data"
    }
   ],
   "source": [
    "X.Account_Balance.plot(kind = 'hist')"
   ]
  },
  {
   "cell_type": "code",
   "execution_count": 11,
   "id": "44a7d167",
   "metadata": {},
   "outputs": [
    {
     "data": {
      "text/plain": [
       "4    394\n",
       "1    274\n",
       "2    269\n",
       "3     63\n",
       "Name: Account_Balance, dtype: int64"
      ]
     },
     "execution_count": 11,
     "metadata": {},
     "output_type": "execute_result"
    }
   ],
   "source": [
    "X['Account_Balance'].value_counts()"
   ]
  },
  {
   "cell_type": "code",
   "execution_count": 12,
   "id": "a9d8b7e4",
   "metadata": {},
   "outputs": [
    {
     "data": {
      "text/plain": [
       "4    39.4\n",
       "1    27.4\n",
       "2    26.9\n",
       "3     6.3\n",
       "Name: Account_Balance, dtype: float64"
      ]
     },
     "execution_count": 12,
     "metadata": {},
     "output_type": "execute_result"
    }
   ],
   "source": [
    "tran_acc_bal = X['Account_Balance'].value_counts() / len(X) * 100\n",
    "tran_acc_bal"
   ]
  },
  {
   "cell_type": "code",
   "execution_count": null,
   "id": "371bef99",
   "metadata": {},
   "outputs": [],
   "source": []
  },
  {
   "cell_type": "code",
   "execution_count": 13,
   "id": "f44700d0",
   "metadata": {},
   "outputs": [
    {
     "data": {
      "image/png": "[encoded data removed]",
      "text/plain": [
       "<Figure size 1008x576 with 19 Axes>"
      ]
     },
     "metadata": {
      "needs_background": "light"
     },
     "output_type": "display_data"
    }
   ],
   "source": [
    "plt.figure(figsize = (14, 8))\n",
    "for i, j in zip(range(1, 20), features):\n",
    "    \n",
    "    plt.subplot(7, 3, i)\n",
    "    \n",
    "    X[j].hist(label = j)\n",
    "    \n",
    "    plt.legend()"
   ]
  },
  {
   "cell_type": "code",
   "execution_count": 14,
   "id": "a9175009",
   "metadata": {},
   "outputs": [
    {
     "data": {
      "text/plain": [
       "<matplotlib.legend.Legend at 0x28053d9bc70>"
      ]
     },
     "execution_count": 14,
     "metadata": {},
     "output_type": "execute_result"
    },
    {
     "data": {
      "image/png": "[encoded data removed]",
      "text/plain": [
       "<Figure size 432x288 with 1 Axes>"
      ]
     },
     "metadata": {
      "needs_background": "light"
     },
     "output_type": "display_data"
    }
   ],
   "source": [
    "X['Duration_of_Credit_monthly'].hist(label = features[1])\n",
    "plt.legend()"
   ]
  },
  {
   "cell_type": "code",
   "execution_count": 15,
   "id": "2316bc4b",
   "metadata": {},
   "outputs": [
    {
     "data": {
      "text/plain": [
       "2    530\n",
       "4    293\n",
       "3     88\n",
       "1     49\n",
       "0     40\n",
       "Name: Payment_Status_of_Previous_Credit, dtype: int64"
      ]
     },
     "execution_count": 15,
     "metadata": {},
     "output_type": "execute_result"
    }
   ],
   "source": [
    "X['Payment_Status_of_Previous_Credit'].value_counts()"
   ]
  },
  {
   "cell_type": "code",
   "execution_count": 16,
   "id": "d7d50813",
   "metadata": {},
   "outputs": [
    {
     "data": {
      "text/plain": [
       "<matplotlib.legend.Legend at 0x28053a97dc0>"
      ]
     },
     "execution_count": 16,
     "metadata": {},
     "output_type": "execute_result"
    },
    {
     "data": {
      "image/png": "[encoded data removed]",
      "text/plain": [
       "<Figure size 432x288 with 1 Axes>"
      ]
     },
     "metadata": {
      "needs_background": "light"
     },
     "output_type": "display_data"
    }
   ],
   "source": [
    "X['Payment_Status_of_Previous_Credit'].hist(label = [features[2]])\n",
    "plt.legend()"
   ]
  },
  {
   "cell_type": "code",
   "execution_count": 17,
   "id": "70ac4b7f",
   "metadata": {},
   "outputs": [
    {
     "data": {
      "text/plain": [
       "3     280\n",
       "0     234\n",
       "2     181\n",
       "1     103\n",
       "9      97\n",
       "6      50\n",
       "5      22\n",
       "4      12\n",
       "10     12\n",
       "8       9\n",
       "Name: Purpose, dtype: int64"
      ]
     },
     "execution_count": 17,
     "metadata": {},
     "output_type": "execute_result"
    }
   ],
   "source": [
    "X['Purpose'].value_counts()"
   ]
  },
  {
   "cell_type": "code",
   "execution_count": 18,
   "id": "1791fb40",
   "metadata": {},
   "outputs": [
    {
     "data": {
      "text/plain": [
       "<matplotlib.legend.Legend at 0x28053b147f0>"
      ]
     },
     "execution_count": 18,
     "metadata": {},
     "output_type": "execute_result"
    },
    {
     "data": {
      "image/png": "[encoded data removed]",
      "text/plain": [
       "<Figure size 432x288 with 1 Axes>"
      ]
     },
     "metadata": {
      "needs_background": "light"
     },
     "output_type": "display_data"
    }
   ],
   "source": [
    "X['Purpose'].hist(label = features[3])\n",
    "plt.legend()"
   ]
  },
  {
   "cell_type": "code",
   "execution_count": 19,
   "id": "684f19a0",
   "metadata": {},
   "outputs": [
    {
     "data": {
      "text/plain": [
       "<matplotlib.legend.Legend at 0x28053b8bd00>"
      ]
     },
     "execution_count": 19,
     "metadata": {},
     "output_type": "execute_result"
    },
    {
     "data": {
      "image/png": "[encoded data removed]",
      "text/plain": [
       "<Figure size 432x288 with 1 Axes>"
      ]
     },
     "metadata": {
      "needs_background": "light"
     },
     "output_type": "display_data"
    }
   ],
   "source": [
    "X['Credit_Amount'].hist(label = features[4])\n",
    "plt.legend()"
   ]
  },
  {
   "cell_type": "code",
   "execution_count": 20,
   "id": "329abc72",
   "metadata": {},
   "outputs": [
    {
     "data": {
      "text/plain": [
       "count     1000.00000\n",
       "mean      3271.24800\n",
       "std       2822.75176\n",
       "min        250.00000\n",
       "25%       1365.50000\n",
       "50%       2319.50000\n",
       "75%       3972.25000\n",
       "max      18424.00000\n",
       "Name: Credit_Amount, dtype: float64"
      ]
     },
     "execution_count": 20,
     "metadata": {},
     "output_type": "execute_result"
    }
   ],
   "source": [
    "X['Credit_Amount'].describe()"
   ]
  },
  {
   "cell_type": "code",
   "execution_count": 21,
   "id": "0fd0f6d3",
   "metadata": {},
   "outputs": [
    {
     "data": {
      "text/plain": [
       "<matplotlib.legend.Legend at 0x28053bdc550>"
      ]
     },
     "execution_count": 21,
     "metadata": {},
     "output_type": "execute_result"
    },
    {
     "data": {
      "image/png": "[encoded data removed]",
      "text/plain": [
       "<Figure size 432x288 with 1 Axes>"
      ]
     },
     "metadata": {
      "needs_background": "light"
     },
     "output_type": "display_data"
    }
   ],
   "source": [
    "X['Value_Savings_Stocks'].hist(label = features[5])\n",
    "plt.legend()"
   ]
  },
  {
   "cell_type": "code",
   "execution_count": 22,
   "id": "4c93286c",
   "metadata": {},
   "outputs": [
    {
     "data": {
      "text/plain": [
       "<matplotlib.legend.Legend at 0x28053b82910>"
      ]
     },
     "execution_count": 22,
     "metadata": {},
     "output_type": "execute_result"
    },
    {
     "data": {
      "image/png": "[encoded data removed]",
      "text/plain": [
       "<Figure size 432x288 with 1 Axes>"
      ]
     },
     "metadata": {
      "needs_background": "light"
     },
     "output_type": "display_data"
    }
   ],
   "source": [
    "X['Length_of_current_employment'].hist(label = features[6])\n",
    "plt.legend()"
   ]
  },
  {
   "cell_type": "code",
   "execution_count": null,
   "id": "50e1ec34",
   "metadata": {},
   "outputs": [],
   "source": []
  },
  {
   "cell_type": "code",
   "execution_count": 23,
   "id": "0d7a97a1",
   "metadata": {},
   "outputs": [
    {
     "data": {
      "text/plain": [
       "<AxesSubplot:>"
      ]
     },
     "execution_count": 23,
     "metadata": {},
     "output_type": "execute_result"
    },
    {
     "data": {
      "image/png": "[encoded data removed]",
      "text/plain": [
       "<Figure size 432x288 with 1 Axes>"
      ]
     },
     "metadata": {
      "needs_background": "light"
     },
     "output_type": "display_data"
    }
   ],
   "source": [
    "X['Length_of_current_employment'].hist(label = 'Length_of_current_employment')"
   ]
  },
  {
   "cell_type": "code",
   "execution_count": 24,
   "id": "ba0a63ec",
   "metadata": {},
   "outputs": [
    {
     "data": {
      "text/plain": [
       "<AxesSubplot:>"
      ]
     },
     "execution_count": 24,
     "metadata": {},
     "output_type": "execute_result"
    },
    {
     "data": {
      "image/png": "[encoded data removed]",
      "text/plain": [
       "<Figure size 432x288 with 1 Axes>"
      ]
     },
     "metadata": {
      "needs_background": "light"
     },
     "output_type": "display_data"
    }
   ],
   "source": [
    "X['Guarantors'].hist(label = 'Guarantors')"
   ]
  },
  {
   "cell_type": "code",
   "execution_count": 25,
   "id": "7f403ede",
   "metadata": {},
   "outputs": [
    {
     "data": {
      "text/plain": [
       "<AxesSubplot:>"
      ]
     },
     "execution_count": 25,
     "metadata": {},
     "output_type": "execute_result"
    },
    {
     "data": {
      "image/png": "[encoded data removed]",
      "text/plain": [
       "<Figure size 432x288 with 1 Axes>"
      ]
     },
     "metadata": {
      "needs_background": "light"
     },
     "output_type": "display_data"
    }
   ],
   "source": [
    "X['Most_valuable_available_asset'].hist(label = 'Most_valuable_available_asset')"
   ]
  },
  {
   "cell_type": "code",
   "execution_count": 26,
   "id": "09745550",
   "metadata": {},
   "outputs": [
    {
     "data": {
      "text/plain": [
       "<matplotlib.legend.Legend at 0x28054144730>"
      ]
     },
     "execution_count": 26,
     "metadata": {},
     "output_type": "execute_result"
    },
    {
     "data": {
      "image/png": "[encoded data removed]",
      "text/plain": [
       "<Figure size 432x288 with 1 Axes>"
      ]
     },
     "metadata": {
      "needs_background": "light"
     },
     "output_type": "display_data"
    }
   ],
   "source": [
    "X['Age_years'].hist(label = 'Age_years')\n",
    "plt.legend()"
   ]
  },
  {
   "cell_type": "code",
   "execution_count": 27,
   "id": "f203bef6",
   "metadata": {},
   "outputs": [
    {
     "data": {
      "text/plain": [
       "<matplotlib.legend.Legend at 0x28053473610>"
      ]
     },
     "execution_count": 27,
     "metadata": {},
     "output_type": "execute_result"
    },
    {
     "data": {
      "image/png": "[encoded data removed]",
      "text/plain": [
       "<Figure size 432x288 with 1 Axes>"
      ]
     },
     "metadata": {
      "needs_background": "light"
     },
     "output_type": "display_data"
    }
   ],
   "source": [
    "X['Concurrent_Credits'].hist(label = 'Concurrent_Credits')\n",
    "plt.legend()"
   ]
  },
  {
   "cell_type": "code",
   "execution_count": 28,
   "id": "9ff76d05",
   "metadata": {},
   "outputs": [
    {
     "data": {
      "text/plain": [
       "<matplotlib.legend.Legend at 0x28053d802e0>"
      ]
     },
     "execution_count": 28,
     "metadata": {},
     "output_type": "execute_result"
    },
    {
     "data": {
      "image/png": "[encoded data removed]",
      "text/plain": [
       "<Figure size 432x288 with 1 Axes>"
      ]
     },
     "metadata": {
      "needs_background": "light"
     },
     "output_type": "display_data"
    }
   ],
   "source": [
    "X['No_of_Credits_at_this_Bank'].hist(label = 'No_of_Credits_at_this_Bank')\n",
    "plt.legend()"
   ]
  },
  {
   "cell_type": "code",
   "execution_count": 29,
   "id": "b5961c6c",
   "metadata": {},
   "outputs": [
    {
     "data": {
      "text/plain": [
       "<matplotlib.legend.Legend at 0x28054157b50>"
      ]
     },
     "execution_count": 29,
     "metadata": {},
     "output_type": "execute_result"
    },
    {
     "data": {
      "image/png": "[encoded data removed]",
      "text/plain": [
       "<Figure size 432x288 with 1 Axes>"
      ]
     },
     "metadata": {
      "needs_background": "light"
     },
     "output_type": "display_data"
    }
   ],
   "source": [
    "X['Occupation'].hist(label = 'Occupation')\n",
    "plt.legend()"
   ]
  },
  {
   "cell_type": "code",
   "execution_count": 30,
   "id": "2ddce97c",
   "metadata": {},
   "outputs": [
    {
     "data": {
      "text/plain": [
       "<AxesSubplot:xlabel='Age_years', ylabel='Credit_Amount'>"
      ]
     },
     "execution_count": 30,
     "metadata": {},
     "output_type": "execute_result"
    },
    {
     "data": {
      "image/png": "[encoded data removed]",
      "text/plain": [
       "<Figure size 432x288 with 1 Axes>"
      ]
     },
     "metadata": {
      "needs_background": "light"
     },
     "output_type": "display_data"
    }
   ],
   "source": [
    "sns.regplot(x = X['Age_years'], y = X['Credit_Amount'])"
   ]
  },
  {
   "cell_type": "markdown",
   "id": "4284496c",
   "metadata": {},
   "source": [
    "## Predictive Modelling"
   ]
  },
  {
   "cell_type": "code",
   "execution_count": 31,
   "id": "f28e88c9",
   "metadata": {},
   "outputs": [],
   "source": [
    "# Tree-based\n",
    "from sklearn.tree import DecisionTreeClassifier\n",
    "from sklearn.ensemble import RandomForestClassifier\n",
    "\n",
    "# LogisticRegression\n",
    "from sklearn.linear_model import LogisticRegression\n",
    "\n",
    "# Distance-based\n",
    "from sklearn.svm import SVC\n",
    "from sklearn.neighbors import KNeighborsClassifier\n",
    "\n",
    "# Preprocessing \n",
    "from sklearn.preprocessing import StandardScaler\n",
    "from sklearn.model_selection import train_test_split\n",
    "\n",
    "# Model Validation\n",
    "from sklearn import metrics"
   ]
  },
  {
   "cell_type": "code",
   "execution_count": 32,
   "id": "b03d71ee",
   "metadata": {},
   "outputs": [],
   "source": [
    "X_train, X_valid, y_train, y_valid = train_test_split(X, y, test_size = 0.2)"
   ]
  },
  {
   "cell_type": "markdown",
   "id": "0f01dba5",
   "metadata": {},
   "source": [
    "+ ## DecisionTree"
   ]
  },
  {
   "cell_type": "code",
   "execution_count": 33,
   "id": "bc4c832c",
   "metadata": {},
   "outputs": [
    {
     "data": {
      "text/plain": [
       "DecisionTreeClassifier(random_state=0)"
      ]
     },
     "execution_count": 33,
     "metadata": {},
     "output_type": "execute_result"
    }
   ],
   "source": [
    "model_dt = DecisionTreeClassifier(random_state = 0)\n",
    "model_dt.fit(X_train, y_train)"
   ]
  },
  {
   "cell_type": "code",
   "execution_count": 34,
   "id": "3dccfb6c",
   "metadata": {},
   "outputs": [
    {
     "name": "stdout",
     "output_type": "stream",
     "text": [
      "DecisionTree Accuracy: 0.7\n",
      "              precision    recall  f1-score   support\n",
      "\n",
      "           0       0.48      0.54      0.51        57\n",
      "           1       0.81      0.76      0.78       143\n",
      "\n",
      "    accuracy                           0.70       200\n",
      "   macro avg       0.64      0.65      0.65       200\n",
      "weighted avg       0.71      0.70      0.71       200\n",
      "\n"
     ]
    }
   ],
   "source": [
    "preds_dt = model_dt.predict(X_valid)\n",
    "acc_score = metrics.accuracy_score(y_valid, preds_dt)\n",
    "print(f'DecisionTree Accuracy: {acc_score}')\n",
    "\n",
    "class_report = metrics.classification_report(y_valid, preds_dt)\n",
    "print(class_report)"
   ]
  },
  {
   "cell_type": "markdown",
   "id": "f0442f9f",
   "metadata": {},
   "source": [
    "+ ## RandomForest"
   ]
  },
  {
   "cell_type": "code",
   "execution_count": 35,
   "id": "a13c6054",
   "metadata": {},
   "outputs": [
    {
     "data": {
      "text/plain": [
       "RandomForestClassifier(random_state=11)"
      ]
     },
     "execution_count": 35,
     "metadata": {},
     "output_type": "execute_result"
    }
   ],
   "source": [
    "model_rf = RandomForestClassifier(random_state = 11)\n",
    "model_rf.fit(X_train, y_train)"
   ]
  },
  {
   "cell_type": "code",
   "execution_count": 36,
   "id": "28191fd0",
   "metadata": {},
   "outputs": [
    {
     "name": "stdout",
     "output_type": "stream",
     "text": [
      "RandomForest Accuracy: 0.785\n",
      "              precision    recall  f1-score   support\n",
      "\n",
      "           0       0.73      0.39      0.51        57\n",
      "           1       0.79      0.94      0.86       143\n",
      "\n",
      "    accuracy                           0.79       200\n",
      "   macro avg       0.76      0.67      0.68       200\n",
      "weighted avg       0.78      0.79      0.76       200\n",
      "\n"
     ]
    }
   ],
   "source": [
    "preds_rf = model_rf.predict(X_valid)\n",
    "acc_score = metrics.accuracy_score(y_valid, preds_rf)\n",
    "print(f'RandomForest Accuracy: {acc_score}')\n",
    "\n",
    "class_report = metrics.classification_report(y_valid, preds_rf)\n",
    "print(class_report)"
   ]
  },
  {
   "cell_type": "markdown",
   "id": "6b95d125",
   "metadata": {},
   "source": [
    "+ ## LogisticRegression"
   ]
  },
  {
   "cell_type": "code",
   "execution_count": 37,
   "id": "960faf3e",
   "metadata": {},
   "outputs": [
    {
     "data": {
      "text/plain": [
       "LogisticRegression(max_iter=1000)"
      ]
     },
     "execution_count": 37,
     "metadata": {},
     "output_type": "execute_result"
    }
   ],
   "source": [
    "model_lr = LogisticRegression(max_iter = 1000)\n",
    "model_lr.fit(X_train, y_train)"
   ]
  },
  {
   "cell_type": "code",
   "execution_count": 38,
   "id": "512a7830",
   "metadata": {},
   "outputs": [
    {
     "name": "stdout",
     "output_type": "stream",
     "text": [
      "LogisticRegression Accuracy: 0.81\n",
      "              precision    recall  f1-score   support\n",
      "\n",
      "           0       0.77      0.47      0.59        57\n",
      "           1       0.82      0.94      0.88       143\n",
      "\n",
      "    accuracy                           0.81       200\n",
      "   macro avg       0.79      0.71      0.73       200\n",
      "weighted avg       0.80      0.81      0.79       200\n",
      "\n"
     ]
    }
   ],
   "source": [
    "preds_lr = model_lr.predict(X_valid)\n",
    "acc_score = metrics.accuracy_score(y_valid, preds_lr)\n",
    "print(f'LogisticRegression Accuracy: {acc_score}')\n",
    "\n",
    "class_report = metrics.classification_report(y_valid, preds_lr)\n",
    "print(class_report)"
   ]
  },
  {
   "cell_type": "code",
   "execution_count": null,
   "id": "f1c6ec88",
   "metadata": {},
   "outputs": [],
   "source": []
  },
  {
   "cell_type": "markdown",
   "id": "f15539b7",
   "metadata": {},
   "source": [
    "+ ## SupportVector"
   ]
  },
  {
   "cell_type": "code",
   "execution_count": 39,
   "id": "d97733ca",
   "metadata": {},
   "outputs": [
    {
     "data": {
      "text/plain": [
       "SVC()"
      ]
     },
     "execution_count": 39,
     "metadata": {},
     "output_type": "execute_result"
    }
   ],
   "source": [
    "model_svc = SVC()\n",
    "model_svc.fit(X_train, y_train)"
   ]
  },
  {
   "cell_type": "code",
   "execution_count": 40,
   "id": "6c47a7f6",
   "metadata": {},
   "outputs": [
    {
     "name": "stdout",
     "output_type": "stream",
     "text": [
      "SupportVector Accuracy: 0.745\n",
      "              precision    recall  f1-score   support\n",
      "\n",
      "           0       0.88      0.12      0.22        57\n",
      "           1       0.74      0.99      0.85       143\n",
      "\n",
      "    accuracy                           0.74       200\n",
      "   macro avg       0.81      0.56      0.53       200\n",
      "weighted avg       0.78      0.74      0.67       200\n",
      "\n"
     ]
    }
   ],
   "source": [
    "preds_svc = model_svc.predict(X_valid)\n",
    "acc_score = metrics.accuracy_score(y_valid, preds_svc)\n",
    "print(f'SupportVector Accuracy: {acc_score}')\n",
    "\n",
    "class_report = metrics.classification_report(y_valid, preds_svc)\n",
    "print(class_report)"
   ]
  },
  {
   "cell_type": "code",
   "execution_count": null,
   "id": "76fc49b4",
   "metadata": {},
   "outputs": [],
   "source": []
  },
  {
   "cell_type": "code",
   "execution_count": null,
   "id": "ef853fd9",
   "metadata": {},
   "outputs": [],
   "source": []
  },
  {
   "cell_type": "markdown",
   "id": "6b1dce06",
   "metadata": {},
   "source": [
    "+ ## KNeighbors"
   ]
  },
  {
   "cell_type": "code",
   "execution_count": 41,
   "id": "daef47bd",
   "metadata": {},
   "outputs": [
    {
     "data": {
      "text/plain": [
       "KNeighborsClassifier()"
      ]
     },
     "execution_count": 41,
     "metadata": {},
     "output_type": "execute_result"
    }
   ],
   "source": [
    "model_knn = KNeighborsClassifier()\n",
    "model_knn.fit(X_train, y_train)"
   ]
  },
  {
   "cell_type": "code",
   "execution_count": 42,
   "id": "8205b90e",
   "metadata": {},
   "outputs": [
    {
     "name": "stdout",
     "output_type": "stream",
     "text": [
      "KNeighbors Accuracy: 0.665\n",
      "\n",
      "               precision    recall  f1-score   support\n",
      "\n",
      "           0       0.38      0.26      0.31        57\n",
      "           1       0.74      0.83      0.78       143\n",
      "\n",
      "    accuracy                           0.67       200\n",
      "   macro avg       0.56      0.54      0.54       200\n",
      "weighted avg       0.63      0.67      0.65       200\n",
      "\n"
     ]
    }
   ],
   "source": [
    "preds_knn = model_knn.predict(X_valid)\n",
    "acc_score = metrics.accuracy_score(y_valid, preds_knn)\n",
    "print(f'KNeighbors Accuracy: {acc_score}')\n",
    "\n",
    "class_report = metrics.classification_report(y_valid, preds_knn)\n",
    "print('\\n', class_report)"
   ]
  },
  {
   "cell_type": "code",
   "execution_count": null,
   "id": "6c60fab1",
   "metadata": {},
   "outputs": [],
   "source": []
  },
  {
   "cell_type": "markdown",
   "id": "fce412d7",
   "metadata": {},
   "source": [
    "## Deep Learning\n",
    "+ Deep Neural Networks using Tensorflow and Keras"
   ]
  },
  {
   "cell_type": "code",
   "execution_count": 43,
   "id": "5ec55200",
   "metadata": {},
   "outputs": [],
   "source": [
    "from tensorflow.keras import Sequential, layers, callbacks"
   ]
  },
  {
   "cell_type": "code",
   "execution_count": 44,
   "id": "b3c0f4ab",
   "metadata": {},
   "outputs": [],
   "source": [
    "model_dnn = Sequential([\n",
    "    layers.Dense(224, activation = 'relu', input_shape = [20]),\n",
    "    layers.BatchNormalization(),\n",
    "    layers.Dense(124, activation = 'relu'),\n",
    "    layers.Dense(124, activation = 'relu'),\n",
    "    layers.Dense(1, activation = 'sigmoid')\n",
    "])\n",
    "\n",
    "model_dnn.compile(optimizer = 'adam', loss = 'binary_crossentropy')"
   ]
  },
  {
   "cell_type": "code",
   "execution_count": 45,
   "id": "89ba15fd",
   "metadata": {},
   "outputs": [],
   "source": [
    "early_stopping = callbacks.EarlyStopping(\n",
    "    min_delta = 0.001, \n",
    "    patience = 20,\n",
    "    restore_best_weights = True\n",
    ")"
   ]
  },
  {
   "cell_type": "code",
   "execution_count": 46,
   "id": "03f638a5",
   "metadata": {},
   "outputs": [
    {
     "name": "stdout",
     "output_type": "stream",
     "text": [
      "Epoch 1/1000\n",
      "7/7 [==============================] - 0s 60ms/step - loss: 0.6634 - val_loss: 0.6933\n",
      "Epoch 2/1000\n",
      "7/7 [==============================] - 0s 9ms/step - loss: 0.6507 - val_loss: 0.6912\n",
      "Epoch 3/1000\n",
      "7/7 [==============================] - 0s 9ms/step - loss: 0.6256 - val_loss: 0.7453\n",
      "Epoch 4/1000\n",
      "7/7 [==============================] - 0s 11ms/step - loss: 0.6120 - val_loss: 0.6360\n",
      "Epoch 5/1000\n",
      "7/7 [==============================] - 0s 9ms/step - loss: 0.6005 - val_loss: 0.6100\n",
      "Epoch 6/1000\n",
      "7/7 [==============================] - 0s 9ms/step - loss: 0.5924 - val_loss: 0.6476\n",
      "Epoch 7/1000\n",
      "7/7 [==============================] - 0s 8ms/step - loss: 0.5884 - val_loss: 0.5941\n",
      "Epoch 8/1000\n",
      "7/7 [==============================] - 0s 9ms/step - loss: 0.5852 - val_loss: 0.6014\n",
      "Epoch 9/1000\n",
      "7/7 [==============================] - 0s 9ms/step - loss: 0.5608 - val_loss: 0.5985\n",
      "Epoch 10/1000\n",
      "7/7 [==============================] - 0s 9ms/step - loss: 0.5613 - val_loss: 0.5915\n",
      "Epoch 11/1000\n",
      "7/7 [==============================] - 0s 8ms/step - loss: 0.5502 - val_loss: 0.5598\n",
      "Epoch 12/1000\n",
      "7/7 [==============================] - 0s 8ms/step - loss: 0.5642 - val_loss: 0.6049\n",
      "Epoch 13/1000\n",
      "7/7 [==============================] - 0s 8ms/step - loss: 0.5592 - val_loss: 0.5788\n",
      "Epoch 14/1000\n",
      "7/7 [==============================] - 0s 9ms/step - loss: 0.5460 - val_loss: 0.5844\n",
      "Epoch 15/1000\n",
      "7/7 [==============================] - 0s 9ms/step - loss: 0.5470 - val_loss: 0.5692\n",
      "Epoch 16/1000\n",
      "7/7 [==============================] - 0s 9ms/step - loss: 0.5496 - val_loss: 0.6253\n",
      "Epoch 17/1000\n",
      "7/7 [==============================] - 0s 10ms/step - loss: 0.5430 - val_loss: 0.5756\n",
      "Epoch 18/1000\n",
      "7/7 [==============================] - 0s 9ms/step - loss: 0.5378 - val_loss: 0.5896\n",
      "Epoch 19/1000\n",
      "7/7 [==============================] - 0s 9ms/step - loss: 0.5352 - val_loss: 0.5449\n",
      "Epoch 20/1000\n",
      "7/7 [==============================] - 0s 9ms/step - loss: 0.5541 - val_loss: 0.5452\n",
      "Epoch 21/1000\n",
      "7/7 [==============================] - 0s 9ms/step - loss: 0.5346 - val_loss: 0.5924\n",
      "Epoch 22/1000\n",
      "7/7 [==============================] - 0s 10ms/step - loss: 0.5432 - val_loss: 0.5651\n",
      "Epoch 23/1000\n",
      "7/7 [==============================] - 0s 9ms/step - loss: 0.5289 - val_loss: 0.5718\n",
      "Epoch 24/1000\n",
      "7/7 [==============================] - 0s 9ms/step - loss: 0.5259 - val_loss: 0.5645\n",
      "Epoch 25/1000\n",
      "7/7 [==============================] - 0s 9ms/step - loss: 0.5163 - val_loss: 0.6112\n",
      "Epoch 26/1000\n",
      "7/7 [==============================] - 0s 10ms/step - loss: 0.5281 - val_loss: 0.7537\n",
      "Epoch 27/1000\n",
      "7/7 [==============================] - 0s 9ms/step - loss: 0.5253 - val_loss: 0.7999\n",
      "Epoch 28/1000\n",
      "7/7 [==============================] - 0s 10ms/step - loss: 0.5297 - val_loss: 0.7148\n",
      "Epoch 29/1000\n",
      "7/7 [==============================] - 0s 10ms/step - loss: 0.5380 - val_loss: 0.7066\n",
      "Epoch 30/1000\n",
      "7/7 [==============================] - 0s 10ms/step - loss: 0.5442 - val_loss: 0.7282\n",
      "Epoch 31/1000\n",
      "7/7 [==============================] - 0s 10ms/step - loss: 0.5199 - val_loss: 0.8604\n",
      "Epoch 32/1000\n",
      "7/7 [==============================] - 0s 9ms/step - loss: 0.5165 - val_loss: 0.7633\n",
      "Epoch 33/1000\n",
      "7/7 [==============================] - 0s 9ms/step - loss: 0.5094 - val_loss: 0.8145\n",
      "Epoch 34/1000\n",
      "7/7 [==============================] - 0s 9ms/step - loss: 0.5263 - val_loss: 0.8985\n",
      "Epoch 35/1000\n",
      "7/7 [==============================] - 0s 8ms/step - loss: 0.5131 - val_loss: 0.9146\n",
      "Epoch 36/1000\n",
      "7/7 [==============================] - 0s 7ms/step - loss: 0.4988 - val_loss: 0.9428\n",
      "Epoch 37/1000\n",
      "7/7 [==============================] - 0s 8ms/step - loss: 0.5004 - val_loss: 0.7302\n",
      "Epoch 38/1000\n",
      "7/7 [==============================] - 0s 8ms/step - loss: 0.4919 - val_loss: 0.7147\n",
      "Epoch 39/1000\n",
      "7/7 [==============================] - 0s 8ms/step - loss: 0.5060 - val_loss: 0.5702\n"
     ]
    }
   ],
   "source": [
    "model_dl = model_dnn.fit(X_train, y_train,\n",
    "                      validation_data = (X_valid, y_valid),\n",
    "                      batch_size = 128,\n",
    "                      epochs = 1000,\n",
    "                      callbacks = [early_stopping]\n",
    "                    )"
   ]
  },
  {
   "cell_type": "code",
   "execution_count": 47,
   "id": "33bc9073",
   "metadata": {},
   "outputs": [
    {
     "data": {
      "text/html": [
       "<div>\n",
       "<style scoped>\n",
       "    .dataframe tbody tr th:only-of-type {\n",
       "        vertical-align: middle;\n",
       "    }\n",
       "\n",
       "    .dataframe tbody tr th {\n",
       "        vertical-align: top;\n",
       "    }\n",
       "\n",
       "    .dataframe thead th {\n",
       "        text-align: right;\n",
       "    }\n",
       "</style>\n",
       "<table border=\"1\" class=\"dataframe\">\n",
       "  <thead>\n",
       "    <tr style=\"text-align: right;\">\n",
       "      <th></th>\n",
       "      <th>loss</th>\n",
       "      <th>val_loss</th>\n",
       "    </tr>\n",
       "  </thead>\n",
       "  <tbody>\n",
       "    <tr>\n",
       "      <th>0</th>\n",
       "      <td>0.663443</td>\n",
       "      <td>0.693277</td>\n",
       "    </tr>\n",
       "    <tr>\n",
       "      <th>1</th>\n",
       "      <td>0.650725</td>\n",
       "      <td>0.691246</td>\n",
       "    </tr>\n",
       "    <tr>\n",
       "      <th>2</th>\n",
       "      <td>0.625641</td>\n",
       "      <td>0.745269</td>\n",
       "    </tr>\n",
       "    <tr>\n",
       "      <th>3</th>\n",
       "      <td>0.612025</td>\n",
       "      <td>0.636023</td>\n",
       "    </tr>\n",
       "    <tr>\n",
       "      <th>4</th>\n",
       "      <td>0.600486</td>\n",
       "      <td>0.610040</td>\n",
       "    </tr>\n",
       "  </tbody>\n",
       "</table>\n",
       "</div>"
      ],
      "text/plain": [
       "       loss  val_loss\n",
       "0  0.663443  0.693277\n",
       "1  0.650725  0.691246\n",
       "2  0.625641  0.745269\n",
       "3  0.612025  0.636023\n",
       "4  0.600486  0.610040"
      ]
     },
     "execution_count": 47,
     "metadata": {},
     "output_type": "execute_result"
    }
   ],
   "source": [
    "dl_hist = pd.DataFrame(model_dl.history)\n",
    "dl_hist.head()"
   ]
  },
  {
   "cell_type": "code",
   "execution_count": 48,
   "id": "e74fcde2",
   "metadata": {},
   "outputs": [
    {
     "data": {
      "text/plain": [
       "<AxesSubplot:>"
      ]
     },
     "execution_count": 48,
     "metadata": {},
     "output_type": "execute_result"
    },
    {
     "data": {
      "image/png": "[encoded data removed]",
      "text/plain": [
       "<Figure size 432x288 with 1 Axes>"
      ]
     },
     "metadata": {
      "needs_background": "light"
     },
     "output_type": "display_data"
    }
   ],
   "source": [
    "dl_hist.plot()"
   ]
  },
  {
   "cell_type": "code",
   "execution_count": 49,
   "id": "2fbf9579",
   "metadata": {},
   "outputs": [
    {
     "data": {
      "text/plain": [
       "0.5449081659317017"
      ]
     },
     "execution_count": 49,
     "metadata": {},
     "output_type": "execute_result"
    }
   ],
   "source": [
    "dl_hist.val_loss.min()"
   ]
  },
  {
   "cell_type": "code",
   "execution_count": 50,
   "id": "31d41683",
   "metadata": {},
   "outputs": [
    {
     "data": {
      "text/plain": [
       "array([[0.79394203],\n",
       "       [0.821594  ],\n",
       "       [0.65790427],\n",
       "       [0.57120574],\n",
       "       [0.6973396 ],\n",
       "       [0.75067073],\n",
       "       [0.7462295 ],\n",
       "       [0.8244981 ],\n",
       "       [0.69577587],\n",
       "       [0.72093487]], dtype=float32)"
      ]
     },
     "execution_count": 50,
     "metadata": {},
     "output_type": "execute_result"
    }
   ],
   "source": [
    "preds_dl = model_dnn.predict(X_valid)\n",
    "preds_dl[:10]"
   ]
  },
  {
   "cell_type": "code",
   "execution_count": 51,
   "id": "8f38045c",
   "metadata": {},
   "outputs": [
    {
     "data": {
      "text/html": [
       "<div>\n",
       "<style scoped>\n",
       "    .dataframe tbody tr th:only-of-type {\n",
       "        vertical-align: middle;\n",
       "    }\n",
       "\n",
       "    .dataframe tbody tr th {\n",
       "        vertical-align: top;\n",
       "    }\n",
       "\n",
       "    .dataframe thead th {\n",
       "        text-align: right;\n",
       "    }\n",
       "</style>\n",
       "<table border=\"1\" class=\"dataframe\">\n",
       "  <thead>\n",
       "    <tr style=\"text-align: right;\">\n",
       "      <th></th>\n",
       "      <th>Account_Balance</th>\n",
       "      <th>Duration_of_Credit_monthly</th>\n",
       "      <th>Payment_Status_of_Previous_Credit</th>\n",
       "      <th>Purpose</th>\n",
       "      <th>Credit_Amount</th>\n",
       "      <th>Value_Savings_Stocks</th>\n",
       "      <th>Length_of_current_employment</th>\n",
       "      <th>Instalment_per_cent</th>\n",
       "      <th>Sex_Marital_Status</th>\n",
       "      <th>Guarantors</th>\n",
       "      <th>Duration_in_Current_address</th>\n",
       "      <th>Most_valuable_available_asset</th>\n",
       "      <th>Age_years</th>\n",
       "      <th>Concurrent_Credits</th>\n",
       "      <th>Type_of_apartment</th>\n",
       "      <th>No_of_Credits_at_this_Bank</th>\n",
       "      <th>Occupation</th>\n",
       "      <th>No_of_dependents</th>\n",
       "      <th>Telephone</th>\n",
       "      <th>Foreign_Worker</th>\n",
       "    </tr>\n",
       "  </thead>\n",
       "  <tbody>\n",
       "    <tr>\n",
       "      <th>752</th>\n",
       "      <td>2</td>\n",
       "      <td>9</td>\n",
       "      <td>4</td>\n",
       "      <td>6</td>\n",
       "      <td>1136</td>\n",
       "      <td>4</td>\n",
       "      <td>5</td>\n",
       "      <td>4</td>\n",
       "      <td>3</td>\n",
       "      <td>1</td>\n",
       "      <td>3</td>\n",
       "      <td>4</td>\n",
       "      <td>32</td>\n",
       "      <td>3</td>\n",
       "      <td>3</td>\n",
       "      <td>2</td>\n",
       "      <td>3</td>\n",
       "      <td>2</td>\n",
       "      <td>1</td>\n",
       "      <td>1</td>\n",
       "    </tr>\n",
       "    <tr>\n",
       "      <th>283</th>\n",
       "      <td>2</td>\n",
       "      <td>21</td>\n",
       "      <td>3</td>\n",
       "      <td>0</td>\n",
       "      <td>2353</td>\n",
       "      <td>1</td>\n",
       "      <td>3</td>\n",
       "      <td>1</td>\n",
       "      <td>1</td>\n",
       "      <td>1</td>\n",
       "      <td>4</td>\n",
       "      <td>2</td>\n",
       "      <td>47</td>\n",
       "      <td>3</td>\n",
       "      <td>2</td>\n",
       "      <td>2</td>\n",
       "      <td>3</td>\n",
       "      <td>1</td>\n",
       "      <td>1</td>\n",
       "      <td>1</td>\n",
       "    </tr>\n",
       "    <tr>\n",
       "      <th>990</th>\n",
       "      <td>1</td>\n",
       "      <td>18</td>\n",
       "      <td>2</td>\n",
       "      <td>6</td>\n",
       "      <td>750</td>\n",
       "      <td>1</td>\n",
       "      <td>1</td>\n",
       "      <td>4</td>\n",
       "      <td>2</td>\n",
       "      <td>1</td>\n",
       "      <td>1</td>\n",
       "      <td>1</td>\n",
       "      <td>27</td>\n",
       "      <td>3</td>\n",
       "      <td>2</td>\n",
       "      <td>1</td>\n",
       "      <td>1</td>\n",
       "      <td>1</td>\n",
       "      <td>1</td>\n",
       "      <td>1</td>\n",
       "    </tr>\n",
       "    <tr>\n",
       "      <th>821</th>\n",
       "      <td>1</td>\n",
       "      <td>36</td>\n",
       "      <td>3</td>\n",
       "      <td>6</td>\n",
       "      <td>6887</td>\n",
       "      <td>1</td>\n",
       "      <td>3</td>\n",
       "      <td>4</td>\n",
       "      <td>3</td>\n",
       "      <td>1</td>\n",
       "      <td>3</td>\n",
       "      <td>2</td>\n",
       "      <td>29</td>\n",
       "      <td>2</td>\n",
       "      <td>2</td>\n",
       "      <td>1</td>\n",
       "      <td>3</td>\n",
       "      <td>1</td>\n",
       "      <td>2</td>\n",
       "      <td>1</td>\n",
       "    </tr>\n",
       "    <tr>\n",
       "      <th>404</th>\n",
       "      <td>4</td>\n",
       "      <td>18</td>\n",
       "      <td>2</td>\n",
       "      <td>3</td>\n",
       "      <td>4594</td>\n",
       "      <td>1</td>\n",
       "      <td>2</td>\n",
       "      <td>3</td>\n",
       "      <td>3</td>\n",
       "      <td>1</td>\n",
       "      <td>2</td>\n",
       "      <td>3</td>\n",
       "      <td>32</td>\n",
       "      <td>3</td>\n",
       "      <td>2</td>\n",
       "      <td>1</td>\n",
       "      <td>3</td>\n",
       "      <td>1</td>\n",
       "      <td>2</td>\n",
       "      <td>1</td>\n",
       "    </tr>\n",
       "  </tbody>\n",
       "</table>\n",
       "</div>"
      ],
      "text/plain": [
       "     Account_Balance  Duration_of_Credit_monthly  \\\n",
       "752                2                           9   \n",
       "283                2                          21   \n",
       "990                1                          18   \n",
       "821                1                          36   \n",
       "404                4                          18   \n",
       "\n",
       "     Payment_Status_of_Previous_Credit  Purpose  Credit_Amount  \\\n",
       "752                                  4        6           1136   \n",
       "283                                  3        0           2353   \n",
       "990                                  2        6            750   \n",
       "821                                  3        6           6887   \n",
       "404                                  2        3           4594   \n",
       "\n",
       "     Value_Savings_Stocks  Length_of_current_employment  Instalment_per_cent  \\\n",
       "752                     4                             5                    4   \n",
       "283                     1                             3                    1   \n",
       "990                     1                             1                    4   \n",
       "821                     1                             3                    4   \n",
       "404                     1                             2                    3   \n",
       "\n",
       "     Sex_Marital_Status  Guarantors  Duration_in_Current_address  \\\n",
       "752                   3           1                            3   \n",
       "283                   1           1                            4   \n",
       "990                   2           1                            1   \n",
       "821                   3           1                            3   \n",
       "404                   3           1                            2   \n",
       "\n",
       "     Most_valuable_available_asset  Age_years  Concurrent_Credits  \\\n",
       "752                              4         32                   3   \n",
       "283                              2         47                   3   \n",
       "990                              1         27                   3   \n",
       "821                              2         29                   2   \n",
       "404                              3         32                   3   \n",
       "\n",
       "     Type_of_apartment  No_of_Credits_at_this_Bank  Occupation  \\\n",
       "752                  3                           2           3   \n",
       "283                  2                           2           3   \n",
       "990                  2                           1           1   \n",
       "821                  2                           1           3   \n",
       "404                  2                           1           3   \n",
       "\n",
       "     No_of_dependents  Telephone  Foreign_Worker  \n",
       "752                 2          1               1  \n",
       "283                 1          1               1  \n",
       "990                 1          1               1  \n",
       "821                 1          2               1  \n",
       "404                 1          2               1  "
      ]
     },
     "execution_count": 51,
     "metadata": {},
     "output_type": "execute_result"
    }
   ],
   "source": [
    "X_valid.head()"
   ]
  },
  {
   "cell_type": "code",
   "execution_count": 52,
   "id": "fad204af",
   "metadata": {},
   "outputs": [
    {
     "data": {
      "text/plain": [
       "752    0\n",
       "283    1\n",
       "990    0\n",
       "821    0\n",
       "404    1\n",
       "23     1\n",
       "140    1\n",
       "678    1\n",
       "282    1\n",
       "176    1\n",
       "Name: Creditability, dtype: int64"
      ]
     },
     "execution_count": 52,
     "metadata": {},
     "output_type": "execute_result"
    }
   ],
   "source": [
    "y_valid.head(10)"
   ]
  },
  {
   "cell_type": "code",
   "execution_count": 53,
   "id": "05c1fd03",
   "metadata": {},
   "outputs": [
    {
     "data": {
      "text/html": [
       "<div>\n",
       "<style scoped>\n",
       "    .dataframe tbody tr th:only-of-type {\n",
       "        vertical-align: middle;\n",
       "    }\n",
       "\n",
       "    .dataframe tbody tr th {\n",
       "        vertical-align: top;\n",
       "    }\n",
       "\n",
       "    .dataframe thead th {\n",
       "        text-align: right;\n",
       "    }\n",
       "</style>\n",
       "<table border=\"1\" class=\"dataframe\">\n",
       "  <thead>\n",
       "    <tr style=\"text-align: right;\">\n",
       "      <th></th>\n",
       "      <th>Creditability</th>\n",
       "      <th>Account_Balance</th>\n",
       "      <th>Duration_of_Credit_monthly</th>\n",
       "      <th>Payment_Status_of_Previous_Credit</th>\n",
       "      <th>Purpose</th>\n",
       "      <th>Credit_Amount</th>\n",
       "      <th>Value_Savings_Stocks</th>\n",
       "      <th>Length_of_current_employment</th>\n",
       "      <th>Instalment_per_cent</th>\n",
       "      <th>Sex_Marital_Status</th>\n",
       "      <th>...</th>\n",
       "      <th>Duration_in_Current_address</th>\n",
       "      <th>Most_valuable_available_asset</th>\n",
       "      <th>Age_years</th>\n",
       "      <th>Concurrent_Credits</th>\n",
       "      <th>Type_of_apartment</th>\n",
       "      <th>No_of_Credits_at_this_Bank</th>\n",
       "      <th>Occupation</th>\n",
       "      <th>No_of_dependents</th>\n",
       "      <th>Telephone</th>\n",
       "      <th>Foreign_Worker</th>\n",
       "    </tr>\n",
       "  </thead>\n",
       "  <tbody>\n",
       "    <tr>\n",
       "      <th>752</th>\n",
       "      <td>0</td>\n",
       "      <td>2</td>\n",
       "      <td>9</td>\n",
       "      <td>4</td>\n",
       "      <td>6</td>\n",
       "      <td>1136</td>\n",
       "      <td>4</td>\n",
       "      <td>5</td>\n",
       "      <td>4</td>\n",
       "      <td>3</td>\n",
       "      <td>...</td>\n",
       "      <td>3</td>\n",
       "      <td>4</td>\n",
       "      <td>32</td>\n",
       "      <td>3</td>\n",
       "      <td>3</td>\n",
       "      <td>2</td>\n",
       "      <td>3</td>\n",
       "      <td>2</td>\n",
       "      <td>1</td>\n",
       "      <td>1</td>\n",
       "    </tr>\n",
       "    <tr>\n",
       "      <th>283</th>\n",
       "      <td>1</td>\n",
       "      <td>2</td>\n",
       "      <td>21</td>\n",
       "      <td>3</td>\n",
       "      <td>0</td>\n",
       "      <td>2353</td>\n",
       "      <td>1</td>\n",
       "      <td>3</td>\n",
       "      <td>1</td>\n",
       "      <td>1</td>\n",
       "      <td>...</td>\n",
       "      <td>4</td>\n",
       "      <td>2</td>\n",
       "      <td>47</td>\n",
       "      <td>3</td>\n",
       "      <td>2</td>\n",
       "      <td>2</td>\n",
       "      <td>3</td>\n",
       "      <td>1</td>\n",
       "      <td>1</td>\n",
       "      <td>1</td>\n",
       "    </tr>\n",
       "    <tr>\n",
       "      <th>990</th>\n",
       "      <td>0</td>\n",
       "      <td>1</td>\n",
       "      <td>18</td>\n",
       "      <td>2</td>\n",
       "      <td>6</td>\n",
       "      <td>750</td>\n",
       "      <td>1</td>\n",
       "      <td>1</td>\n",
       "      <td>4</td>\n",
       "      <td>2</td>\n",
       "      <td>...</td>\n",
       "      <td>1</td>\n",
       "      <td>1</td>\n",
       "      <td>27</td>\n",
       "      <td>3</td>\n",
       "      <td>2</td>\n",
       "      <td>1</td>\n",
       "      <td>1</td>\n",
       "      <td>1</td>\n",
       "      <td>1</td>\n",
       "      <td>1</td>\n",
       "    </tr>\n",
       "    <tr>\n",
       "      <th>821</th>\n",
       "      <td>0</td>\n",
       "      <td>1</td>\n",
       "      <td>36</td>\n",
       "      <td>3</td>\n",
       "      <td>6</td>\n",
       "      <td>6887</td>\n",
       "      <td>1</td>\n",
       "      <td>3</td>\n",
       "      <td>4</td>\n",
       "      <td>3</td>\n",
       "      <td>...</td>\n",
       "      <td>3</td>\n",
       "      <td>2</td>\n",
       "      <td>29</td>\n",
       "      <td>2</td>\n",
       "      <td>2</td>\n",
       "      <td>1</td>\n",
       "      <td>3</td>\n",
       "      <td>1</td>\n",
       "      <td>2</td>\n",
       "      <td>1</td>\n",
       "    </tr>\n",
       "    <tr>\n",
       "      <th>404</th>\n",
       "      <td>1</td>\n",
       "      <td>4</td>\n",
       "      <td>18</td>\n",
       "      <td>2</td>\n",
       "      <td>3</td>\n",
       "      <td>4594</td>\n",
       "      <td>1</td>\n",
       "      <td>2</td>\n",
       "      <td>3</td>\n",
       "      <td>3</td>\n",
       "      <td>...</td>\n",
       "      <td>2</td>\n",
       "      <td>3</td>\n",
       "      <td>32</td>\n",
       "      <td>3</td>\n",
       "      <td>2</td>\n",
       "      <td>1</td>\n",
       "      <td>3</td>\n",
       "      <td>1</td>\n",
       "      <td>2</td>\n",
       "      <td>1</td>\n",
       "    </tr>\n",
       "    <tr>\n",
       "      <th>...</th>\n",
       "      <td>...</td>\n",
       "      <td>...</td>\n",
       "      <td>...</td>\n",
       "      <td>...</td>\n",
       "      <td>...</td>\n",
       "      <td>...</td>\n",
       "      <td>...</td>\n",
       "      <td>...</td>\n",
       "      <td>...</td>\n",
       "      <td>...</td>\n",
       "      <td>...</td>\n",
       "      <td>...</td>\n",
       "      <td>...</td>\n",
       "      <td>...</td>\n",
       "      <td>...</td>\n",
       "      <td>...</td>\n",
       "      <td>...</td>\n",
       "      <td>...</td>\n",
       "      <td>...</td>\n",
       "      <td>...</td>\n",
       "      <td>...</td>\n",
       "    </tr>\n",
       "    <tr>\n",
       "      <th>174</th>\n",
       "      <td>1</td>\n",
       "      <td>4</td>\n",
       "      <td>12</td>\n",
       "      <td>2</td>\n",
       "      <td>3</td>\n",
       "      <td>1963</td>\n",
       "      <td>1</td>\n",
       "      <td>4</td>\n",
       "      <td>4</td>\n",
       "      <td>3</td>\n",
       "      <td>...</td>\n",
       "      <td>2</td>\n",
       "      <td>3</td>\n",
       "      <td>31</td>\n",
       "      <td>3</td>\n",
       "      <td>1</td>\n",
       "      <td>2</td>\n",
       "      <td>4</td>\n",
       "      <td>2</td>\n",
       "      <td>2</td>\n",
       "      <td>1</td>\n",
       "    </tr>\n",
       "    <tr>\n",
       "      <th>651</th>\n",
       "      <td>1</td>\n",
       "      <td>2</td>\n",
       "      <td>6</td>\n",
       "      <td>2</td>\n",
       "      <td>3</td>\n",
       "      <td>368</td>\n",
       "      <td>5</td>\n",
       "      <td>5</td>\n",
       "      <td>4</td>\n",
       "      <td>3</td>\n",
       "      <td>...</td>\n",
       "      <td>4</td>\n",
       "      <td>2</td>\n",
       "      <td>38</td>\n",
       "      <td>3</td>\n",
       "      <td>2</td>\n",
       "      <td>1</td>\n",
       "      <td>3</td>\n",
       "      <td>1</td>\n",
       "      <td>1</td>\n",
       "      <td>1</td>\n",
       "    </tr>\n",
       "    <tr>\n",
       "      <th>196</th>\n",
       "      <td>1</td>\n",
       "      <td>4</td>\n",
       "      <td>6</td>\n",
       "      <td>4</td>\n",
       "      <td>0</td>\n",
       "      <td>6761</td>\n",
       "      <td>1</td>\n",
       "      <td>4</td>\n",
       "      <td>1</td>\n",
       "      <td>3</td>\n",
       "      <td>...</td>\n",
       "      <td>3</td>\n",
       "      <td>4</td>\n",
       "      <td>45</td>\n",
       "      <td>3</td>\n",
       "      <td>2</td>\n",
       "      <td>2</td>\n",
       "      <td>4</td>\n",
       "      <td>2</td>\n",
       "      <td>2</td>\n",
       "      <td>1</td>\n",
       "    </tr>\n",
       "    <tr>\n",
       "      <th>975</th>\n",
       "      <td>0</td>\n",
       "      <td>1</td>\n",
       "      <td>30</td>\n",
       "      <td>2</td>\n",
       "      <td>5</td>\n",
       "      <td>11998</td>\n",
       "      <td>1</td>\n",
       "      <td>2</td>\n",
       "      <td>1</td>\n",
       "      <td>1</td>\n",
       "      <td>...</td>\n",
       "      <td>1</td>\n",
       "      <td>4</td>\n",
       "      <td>34</td>\n",
       "      <td>1</td>\n",
       "      <td>2</td>\n",
       "      <td>1</td>\n",
       "      <td>2</td>\n",
       "      <td>1</td>\n",
       "      <td>2</td>\n",
       "      <td>1</td>\n",
       "    </tr>\n",
       "    <tr>\n",
       "      <th>675</th>\n",
       "      <td>1</td>\n",
       "      <td>3</td>\n",
       "      <td>6</td>\n",
       "      <td>4</td>\n",
       "      <td>0</td>\n",
       "      <td>1323</td>\n",
       "      <td>2</td>\n",
       "      <td>5</td>\n",
       "      <td>2</td>\n",
       "      <td>1</td>\n",
       "      <td>...</td>\n",
       "      <td>4</td>\n",
       "      <td>3</td>\n",
       "      <td>28</td>\n",
       "      <td>3</td>\n",
       "      <td>2</td>\n",
       "      <td>2</td>\n",
       "      <td>3</td>\n",
       "      <td>2</td>\n",
       "      <td>2</td>\n",
       "      <td>1</td>\n",
       "    </tr>\n",
       "  </tbody>\n",
       "</table>\n",
       "<p>200 rows × 21 columns</p>\n",
       "</div>"
      ],
      "text/plain": [
       "     Creditability  Account_Balance  Duration_of_Credit_monthly  \\\n",
       "752              0                2                           9   \n",
       "283              1                2                          21   \n",
       "990              0                1                          18   \n",
       "821              0                1                          36   \n",
       "404              1                4                          18   \n",
       "..             ...              ...                         ...   \n",
       "174              1                4                          12   \n",
       "651              1                2                           6   \n",
       "196              1                4                           6   \n",
       "975              0                1                          30   \n",
       "675              1                3                           6   \n",
       "\n",
       "     Payment_Status_of_Previous_Credit  Purpose  Credit_Amount  \\\n",
       "752                                  4        6           1136   \n",
       "283                                  3        0           2353   \n",
       "990                                  2        6            750   \n",
       "821                                  3        6           6887   \n",
       "404                                  2        3           4594   \n",
       "..                                 ...      ...            ...   \n",
       "174                                  2        3           1963   \n",
       "651                                  2        3            368   \n",
       "196                                  4        0           6761   \n",
       "975                                  2        5          11998   \n",
       "675                                  4        0           1323   \n",
       "\n",
       "     Value_Savings_Stocks  Length_of_current_employment  Instalment_per_cent  \\\n",
       "752                     4                             5                    4   \n",
       "283                     1                             3                    1   \n",
       "990                     1                             1                    4   \n",
       "821                     1                             3                    4   \n",
       "404                     1                             2                    3   \n",
       "..                    ...                           ...                  ...   \n",
       "174                     1                             4                    4   \n",
       "651                     5                             5                    4   \n",
       "196                     1                             4                    1   \n",
       "975                     1                             2                    1   \n",
       "675                     2                             5                    2   \n",
       "\n",
       "     Sex_Marital_Status  ...  Duration_in_Current_address  \\\n",
       "752                   3  ...                            3   \n",
       "283                   1  ...                            4   \n",
       "990                   2  ...                            1   \n",
       "821                   3  ...                            3   \n",
       "404                   3  ...                            2   \n",
       "..                  ...  ...                          ...   \n",
       "174                   3  ...                            2   \n",
       "651                   3  ...                            4   \n",
       "196                   3  ...                            3   \n",
       "975                   1  ...                            1   \n",
       "675                   1  ...                            4   \n",
       "\n",
       "     Most_valuable_available_asset  Age_years  Concurrent_Credits  \\\n",
       "752                              4         32                   3   \n",
       "283                              2         47                   3   \n",
       "990                              1         27                   3   \n",
       "821                              2         29                   2   \n",
       "404                              3         32                   3   \n",
       "..                             ...        ...                 ...   \n",
       "174                              3         31                   3   \n",
       "651                              2         38                   3   \n",
       "196                              4         45                   3   \n",
       "975                              4         34                   1   \n",
       "675                              3         28                   3   \n",
       "\n",
       "     Type_of_apartment  No_of_Credits_at_this_Bank  Occupation  \\\n",
       "752                  3                           2           3   \n",
       "283                  2                           2           3   \n",
       "990                  2                           1           1   \n",
       "821                  2                           1           3   \n",
       "404                  2                           1           3   \n",
       "..                 ...                         ...         ...   \n",
       "174                  1                           2           4   \n",
       "651                  2                           1           3   \n",
       "196                  2                           2           4   \n",
       "975                  2                           1           2   \n",
       "675                  2                           2           3   \n",
       "\n",
       "     No_of_dependents  Telephone  Foreign_Worker  \n",
       "752                 2          1               1  \n",
       "283                 1          1               1  \n",
       "990                 1          1               1  \n",
       "821                 1          2               1  \n",
       "404                 1          2               1  \n",
       "..                ...        ...             ...  \n",
       "174                 2          2               1  \n",
       "651                 1          1               1  \n",
       "196                 2          2               1  \n",
       "975                 1          2               1  \n",
       "675                 2          2               1  \n",
       "\n",
       "[200 rows x 21 columns]"
      ]
     },
     "execution_count": 53,
     "metadata": {},
     "output_type": "execute_result"
    }
   ],
   "source": [
    "data.loc[X_valid.index]"
   ]
  },
  {
   "cell_type": "code",
   "execution_count": 54,
   "id": "91c073e8",
   "metadata": {},
   "outputs": [],
   "source": [
    "# DNN Accuracy\n",
    "# dl_acc = metrics.accuracy_score(y_valid, preds_dl)\n",
    "# print(dl_acc)"
   ]
  },
  {
   "cell_type": "code",
   "execution_count": 55,
   "id": "48673e0a",
   "metadata": {},
   "outputs": [],
   "source": [
    "tr_pdl = []\n",
    "for elem in preds_dl:\n",
    "    \n",
    "    if elem >= 0.5:\n",
    "        elem = 1\n",
    "        tr_pdl.append(elem)\n",
    "#         print(elem)\n",
    "    else:\n",
    "        elem = 0\n",
    "        tr_pdl.append(elem)\n",
    "#         print(elem)"
   ]
  },
  {
   "cell_type": "code",
   "execution_count": 56,
   "id": "05f61162",
   "metadata": {},
   "outputs": [
    {
     "name": "stdout",
     "output_type": "stream",
     "text": [
      "[1, 1, 1, 1, 1, 1, 1, 1, 1, 1, 1, 1, 1, 1, 1, 0, 1, 1, 1, 1, 1, 1, 1, 1, 1, 1, 0, 1, 1, 1, 1, 0, 1, 1, 0, 1, 1, 1, 1, 1, 1, 1, 1, 1, 1, 1, 1, 1, 1, 1, 1, 1, 1, 1, 1, 1, 1, 1, 1, 1, 0, 1, 1, 1, 1, 1, 1, 1, 1, 1, 1, 1, 1, 1, 1, 1, 1, 1, 1, 1, 1, 1, 1, 1, 1, 1, 1, 1, 1, 1, 1, 1, 1, 1, 1, 1, 1, 1, 1, 1, 1, 1, 1, 1, 1, 1, 1, 1, 1, 1, 1, 1, 1, 1, 1, 1, 1, 1, 1, 1, 1, 1, 1, 1, 1, 1, 1, 1, 1, 1, 1, 1, 1, 1, 1, 1, 1, 1, 1, 0, 1, 1, 1, 1, 1, 1, 1, 1, 1, 1, 1, 1, 1, 1, 1, 1, 1, 1, 0, 1, 1, 0, 0, 1, 1, 1, 1, 1, 1, 1, 1, 1, 1, 1, 1, 1, 1, 1, 1, 1, 1, 1, 1, 1, 1, 1, 1, 0, 1, 1, 1, 1, 1, 1, 1, 1, 1, 1, 0, 1]\n"
     ]
    }
   ],
   "source": [
    "print(tr_pdl)"
   ]
  },
  {
   "cell_type": "code",
   "execution_count": 57,
   "id": "16949e06",
   "metadata": {},
   "outputs": [
    {
     "name": "stdout",
     "output_type": "stream",
     "text": [
      "Deep Neural Networks Accuracy\n"
     ]
    },
    {
     "data": {
      "text/plain": [
       "0.74"
      ]
     },
     "execution_count": 57,
     "metadata": {},
     "output_type": "execute_result"
    }
   ],
   "source": [
    "print('Deep Neural Networks Accuracy')\n",
    "dl_acc = metrics.accuracy_score(y_valid, tr_pdl)\n",
    "dl_acc"
   ]
  },
  {
   "cell_type": "code",
   "execution_count": null,
   "id": "b343de61",
   "metadata": {},
   "outputs": [],
   "source": []
  },
  {
   "cell_type": "markdown",
   "id": "cfa27988",
   "metadata": {},
   "source": [
    "# Using Scaled Data"
   ]
  },
  {
   "cell_type": "code",
   "execution_count": 58,
   "id": "5ce34995",
   "metadata": {},
   "outputs": [],
   "source": [
    "# from mlextend.preprocessing import minmax_scaling"
   ]
  },
  {
   "cell_type": "code",
   "execution_count": 59,
   "id": "7f4a7c53",
   "metadata": {},
   "outputs": [
    {
     "data": {
      "text/plain": [
       "Account_Balance                        1\n",
       "Duration_of_Credit_monthly             4\n",
       "Payment_Status_of_Previous_Credit      0\n",
       "Purpose                                0\n",
       "Credit_Amount                        250\n",
       "Value_Savings_Stocks                   1\n",
       "Length_of_current_employment           1\n",
       "Instalment_per_cent                    1\n",
       "Sex_Marital_Status                     1\n",
       "Guarantors                             1\n",
       "Duration_in_Current_address            1\n",
       "Most_valuable_available_asset          1\n",
       "Age_years                             19\n",
       "Concurrent_Credits                     1\n",
       "Type_of_apartment                      1\n",
       "No_of_Credits_at_this_Bank             1\n",
       "Occupation                             1\n",
       "No_of_dependents                       1\n",
       "Telephone                              1\n",
       "Foreign_Worker                         1\n",
       "dtype: int64"
      ]
     },
     "execution_count": 59,
     "metadata": {},
     "output_type": "execute_result"
    }
   ],
   "source": [
    "min_ = X_train.min(axis = 0)\n",
    "max_ = X_train.max(axis = 0)\n",
    "min_"
   ]
  },
  {
   "cell_type": "code",
   "execution_count": 60,
   "id": "cd95f554",
   "metadata": {},
   "outputs": [
    {
     "data": {
      "text/plain": [
       "Account_Balance                          4\n",
       "Duration_of_Credit_monthly              72\n",
       "Payment_Status_of_Previous_Credit        4\n",
       "Purpose                                 10\n",
       "Credit_Amount                        18424\n",
       "Value_Savings_Stocks                     5\n",
       "Length_of_current_employment             5\n",
       "Instalment_per_cent                      4\n",
       "Sex_Marital_Status                       4\n",
       "Guarantors                               3\n",
       "Duration_in_Current_address              4\n",
       "Most_valuable_available_asset            4\n",
       "Age_years                               75\n",
       "Concurrent_Credits                       3\n",
       "Type_of_apartment                        3\n",
       "No_of_Credits_at_this_Bank               4\n",
       "Occupation                               4\n",
       "No_of_dependents                         2\n",
       "Telephone                                2\n",
       "Foreign_Worker                           2\n",
       "dtype: int64"
      ]
     },
     "execution_count": 60,
     "metadata": {},
     "output_type": "execute_result"
    }
   ],
   "source": [
    "max_"
   ]
  },
  {
   "cell_type": "code",
   "execution_count": 61,
   "id": "a3511df4",
   "metadata": {},
   "outputs": [
    {
     "data": {
      "text/html": [
       "<div>\n",
       "<style scoped>\n",
       "    .dataframe tbody tr th:only-of-type {\n",
       "        vertical-align: middle;\n",
       "    }\n",
       "\n",
       "    .dataframe tbody tr th {\n",
       "        vertical-align: top;\n",
       "    }\n",
       "\n",
       "    .dataframe thead th {\n",
       "        text-align: right;\n",
       "    }\n",
       "</style>\n",
       "<table border=\"1\" class=\"dataframe\">\n",
       "  <thead>\n",
       "    <tr style=\"text-align: right;\">\n",
       "      <th></th>\n",
       "      <th>Account_Balance</th>\n",
       "      <th>Duration_of_Credit_monthly</th>\n",
       "      <th>Payment_Status_of_Previous_Credit</th>\n",
       "      <th>Purpose</th>\n",
       "      <th>Credit_Amount</th>\n",
       "      <th>Value_Savings_Stocks</th>\n",
       "      <th>Length_of_current_employment</th>\n",
       "      <th>Instalment_per_cent</th>\n",
       "      <th>Sex_Marital_Status</th>\n",
       "      <th>Guarantors</th>\n",
       "      <th>Duration_in_Current_address</th>\n",
       "      <th>Most_valuable_available_asset</th>\n",
       "      <th>Age_years</th>\n",
       "      <th>Concurrent_Credits</th>\n",
       "      <th>Type_of_apartment</th>\n",
       "      <th>No_of_Credits_at_this_Bank</th>\n",
       "      <th>Occupation</th>\n",
       "      <th>No_of_dependents</th>\n",
       "      <th>Telephone</th>\n",
       "      <th>Foreign_Worker</th>\n",
       "    </tr>\n",
       "  </thead>\n",
       "  <tbody>\n",
       "    <tr>\n",
       "      <th>560</th>\n",
       "      <td>1.000000</td>\n",
       "      <td>0.235294</td>\n",
       "      <td>1.00</td>\n",
       "      <td>0.0</td>\n",
       "      <td>0.178002</td>\n",
       "      <td>1.0</td>\n",
       "      <td>0.25</td>\n",
       "      <td>0.333333</td>\n",
       "      <td>0.000000</td>\n",
       "      <td>0.0</td>\n",
       "      <td>1.000000</td>\n",
       "      <td>0.000000</td>\n",
       "      <td>0.446429</td>\n",
       "      <td>1.0</td>\n",
       "      <td>0.5</td>\n",
       "      <td>0.333333</td>\n",
       "      <td>0.666667</td>\n",
       "      <td>0.0</td>\n",
       "      <td>1.0</td>\n",
       "      <td>0.0</td>\n",
       "    </tr>\n",
       "    <tr>\n",
       "      <th>246</th>\n",
       "      <td>1.000000</td>\n",
       "      <td>0.205882</td>\n",
       "      <td>1.00</td>\n",
       "      <td>0.3</td>\n",
       "      <td>0.085287</td>\n",
       "      <td>0.0</td>\n",
       "      <td>0.50</td>\n",
       "      <td>1.000000</td>\n",
       "      <td>0.666667</td>\n",
       "      <td>0.0</td>\n",
       "      <td>0.333333</td>\n",
       "      <td>0.666667</td>\n",
       "      <td>0.089286</td>\n",
       "      <td>1.0</td>\n",
       "      <td>0.5</td>\n",
       "      <td>0.333333</td>\n",
       "      <td>0.666667</td>\n",
       "      <td>0.0</td>\n",
       "      <td>0.0</td>\n",
       "      <td>0.0</td>\n",
       "    </tr>\n",
       "    <tr>\n",
       "      <th>924</th>\n",
       "      <td>0.000000</td>\n",
       "      <td>0.250000</td>\n",
       "      <td>0.75</td>\n",
       "      <td>0.6</td>\n",
       "      <td>0.174095</td>\n",
       "      <td>0.0</td>\n",
       "      <td>0.25</td>\n",
       "      <td>0.333333</td>\n",
       "      <td>0.666667</td>\n",
       "      <td>0.0</td>\n",
       "      <td>0.000000</td>\n",
       "      <td>0.333333</td>\n",
       "      <td>0.125000</td>\n",
       "      <td>0.5</td>\n",
       "      <td>0.5</td>\n",
       "      <td>0.333333</td>\n",
       "      <td>0.666667</td>\n",
       "      <td>0.0</td>\n",
       "      <td>0.0</td>\n",
       "      <td>0.0</td>\n",
       "    </tr>\n",
       "    <tr>\n",
       "      <th>917</th>\n",
       "      <td>0.333333</td>\n",
       "      <td>0.117647</td>\n",
       "      <td>0.00</td>\n",
       "      <td>0.2</td>\n",
       "      <td>0.149609</td>\n",
       "      <td>0.0</td>\n",
       "      <td>0.25</td>\n",
       "      <td>1.000000</td>\n",
       "      <td>0.333333</td>\n",
       "      <td>0.0</td>\n",
       "      <td>0.666667</td>\n",
       "      <td>0.333333</td>\n",
       "      <td>0.107143</td>\n",
       "      <td>1.0</td>\n",
       "      <td>0.0</td>\n",
       "      <td>0.333333</td>\n",
       "      <td>0.666667</td>\n",
       "      <td>0.0</td>\n",
       "      <td>0.0</td>\n",
       "      <td>0.0</td>\n",
       "    </tr>\n",
       "    <tr>\n",
       "      <th>570</th>\n",
       "      <td>0.666667</td>\n",
       "      <td>0.117647</td>\n",
       "      <td>0.50</td>\n",
       "      <td>0.0</td>\n",
       "      <td>0.059426</td>\n",
       "      <td>0.0</td>\n",
       "      <td>0.25</td>\n",
       "      <td>1.000000</td>\n",
       "      <td>0.666667</td>\n",
       "      <td>0.0</td>\n",
       "      <td>0.000000</td>\n",
       "      <td>0.000000</td>\n",
       "      <td>0.125000</td>\n",
       "      <td>1.0</td>\n",
       "      <td>0.5</td>\n",
       "      <td>0.000000</td>\n",
       "      <td>0.666667</td>\n",
       "      <td>0.0</td>\n",
       "      <td>0.0</td>\n",
       "      <td>0.0</td>\n",
       "    </tr>\n",
       "    <tr>\n",
       "      <th>...</th>\n",
       "      <td>...</td>\n",
       "      <td>...</td>\n",
       "      <td>...</td>\n",
       "      <td>...</td>\n",
       "      <td>...</td>\n",
       "      <td>...</td>\n",
       "      <td>...</td>\n",
       "      <td>...</td>\n",
       "      <td>...</td>\n",
       "      <td>...</td>\n",
       "      <td>...</td>\n",
       "      <td>...</td>\n",
       "      <td>...</td>\n",
       "      <td>...</td>\n",
       "      <td>...</td>\n",
       "      <td>...</td>\n",
       "      <td>...</td>\n",
       "      <td>...</td>\n",
       "      <td>...</td>\n",
       "      <td>...</td>\n",
       "    </tr>\n",
       "    <tr>\n",
       "      <th>701</th>\n",
       "      <td>0.333333</td>\n",
       "      <td>0.470588</td>\n",
       "      <td>1.00</td>\n",
       "      <td>0.1</td>\n",
       "      <td>0.305381</td>\n",
       "      <td>0.0</td>\n",
       "      <td>0.50</td>\n",
       "      <td>0.666667</td>\n",
       "      <td>0.666667</td>\n",
       "      <td>0.0</td>\n",
       "      <td>1.000000</td>\n",
       "      <td>0.666667</td>\n",
       "      <td>0.267857</td>\n",
       "      <td>1.0</td>\n",
       "      <td>0.5</td>\n",
       "      <td>0.333333</td>\n",
       "      <td>0.666667</td>\n",
       "      <td>0.0</td>\n",
       "      <td>1.0</td>\n",
       "      <td>0.0</td>\n",
       "    </tr>\n",
       "    <tr>\n",
       "      <th>24</th>\n",
       "      <td>0.000000</td>\n",
       "      <td>0.029412</td>\n",
       "      <td>1.00</td>\n",
       "      <td>0.0</td>\n",
       "      <td>0.245736</td>\n",
       "      <td>1.0</td>\n",
       "      <td>0.25</td>\n",
       "      <td>0.000000</td>\n",
       "      <td>0.666667</td>\n",
       "      <td>0.0</td>\n",
       "      <td>0.666667</td>\n",
       "      <td>0.000000</td>\n",
       "      <td>0.446429</td>\n",
       "      <td>1.0</td>\n",
       "      <td>0.5</td>\n",
       "      <td>0.333333</td>\n",
       "      <td>0.333333</td>\n",
       "      <td>1.0</td>\n",
       "      <td>0.0</td>\n",
       "      <td>0.0</td>\n",
       "    </tr>\n",
       "    <tr>\n",
       "      <th>386</th>\n",
       "      <td>0.333333</td>\n",
       "      <td>0.073529</td>\n",
       "      <td>0.50</td>\n",
       "      <td>0.2</td>\n",
       "      <td>0.036756</td>\n",
       "      <td>0.0</td>\n",
       "      <td>0.50</td>\n",
       "      <td>1.000000</td>\n",
       "      <td>0.333333</td>\n",
       "      <td>0.0</td>\n",
       "      <td>0.000000</td>\n",
       "      <td>0.333333</td>\n",
       "      <td>0.196429</td>\n",
       "      <td>1.0</td>\n",
       "      <td>0.5</td>\n",
       "      <td>0.000000</td>\n",
       "      <td>0.666667</td>\n",
       "      <td>0.0</td>\n",
       "      <td>0.0</td>\n",
       "      <td>0.0</td>\n",
       "    </tr>\n",
       "    <tr>\n",
       "      <th>277</th>\n",
       "      <td>0.333333</td>\n",
       "      <td>0.250000</td>\n",
       "      <td>1.00</td>\n",
       "      <td>0.9</td>\n",
       "      <td>0.187190</td>\n",
       "      <td>0.0</td>\n",
       "      <td>0.75</td>\n",
       "      <td>0.333333</td>\n",
       "      <td>0.666667</td>\n",
       "      <td>0.0</td>\n",
       "      <td>0.666667</td>\n",
       "      <td>0.333333</td>\n",
       "      <td>0.142857</td>\n",
       "      <td>1.0</td>\n",
       "      <td>0.5</td>\n",
       "      <td>0.333333</td>\n",
       "      <td>0.666667</td>\n",
       "      <td>0.0</td>\n",
       "      <td>0.0</td>\n",
       "      <td>0.0</td>\n",
       "    </tr>\n",
       "    <tr>\n",
       "      <th>385</th>\n",
       "      <td>0.333333</td>\n",
       "      <td>0.073529</td>\n",
       "      <td>0.50</td>\n",
       "      <td>0.3</td>\n",
       "      <td>0.011445</td>\n",
       "      <td>0.0</td>\n",
       "      <td>0.50</td>\n",
       "      <td>1.000000</td>\n",
       "      <td>0.666667</td>\n",
       "      <td>0.0</td>\n",
       "      <td>0.666667</td>\n",
       "      <td>0.000000</td>\n",
       "      <td>0.089286</td>\n",
       "      <td>1.0</td>\n",
       "      <td>0.5</td>\n",
       "      <td>0.000000</td>\n",
       "      <td>0.666667</td>\n",
       "      <td>0.0</td>\n",
       "      <td>0.0</td>\n",
       "      <td>0.0</td>\n",
       "    </tr>\n",
       "  </tbody>\n",
       "</table>\n",
       "<p>800 rows × 20 columns</p>\n",
       "</div>"
      ],
      "text/plain": [
       "     Account_Balance  Duration_of_Credit_monthly  \\\n",
       "560         1.000000                    0.235294   \n",
       "246         1.000000                    0.205882   \n",
       "924         0.000000                    0.250000   \n",
       "917         0.333333                    0.117647   \n",
       "570         0.666667                    0.117647   \n",
       "..               ...                         ...   \n",
       "701         0.333333                    0.470588   \n",
       "24          0.000000                    0.029412   \n",
       "386         0.333333                    0.073529   \n",
       "277         0.333333                    0.250000   \n",
       "385         0.333333                    0.073529   \n",
       "\n",
       "     Payment_Status_of_Previous_Credit  Purpose  Credit_Amount  \\\n",
       "560                               1.00      0.0       0.178002   \n",
       "246                               1.00      0.3       0.085287   \n",
       "924                               0.75      0.6       0.174095   \n",
       "917                               0.00      0.2       0.149609   \n",
       "570                               0.50      0.0       0.059426   \n",
       "..                                 ...      ...            ...   \n",
       "701                               1.00      0.1       0.305381   \n",
       "24                                1.00      0.0       0.245736   \n",
       "386                               0.50      0.2       0.036756   \n",
       "277                               1.00      0.9       0.187190   \n",
       "385                               0.50      0.3       0.011445   \n",
       "\n",
       "     Value_Savings_Stocks  Length_of_current_employment  Instalment_per_cent  \\\n",
       "560                   1.0                          0.25             0.333333   \n",
       "246                   0.0                          0.50             1.000000   \n",
       "924                   0.0                          0.25             0.333333   \n",
       "917                   0.0                          0.25             1.000000   \n",
       "570                   0.0                          0.25             1.000000   \n",
       "..                    ...                           ...                  ...   \n",
       "701                   0.0                          0.50             0.666667   \n",
       "24                    1.0                          0.25             0.000000   \n",
       "386                   0.0                          0.50             1.000000   \n",
       "277                   0.0                          0.75             0.333333   \n",
       "385                   0.0                          0.50             1.000000   \n",
       "\n",
       "     Sex_Marital_Status  Guarantors  Duration_in_Current_address  \\\n",
       "560            0.000000         0.0                     1.000000   \n",
       "246            0.666667         0.0                     0.333333   \n",
       "924            0.666667         0.0                     0.000000   \n",
       "917            0.333333         0.0                     0.666667   \n",
       "570            0.666667         0.0                     0.000000   \n",
       "..                  ...         ...                          ...   \n",
       "701            0.666667         0.0                     1.000000   \n",
       "24             0.666667         0.0                     0.666667   \n",
       "386            0.333333         0.0                     0.000000   \n",
       "277            0.666667         0.0                     0.666667   \n",
       "385            0.666667         0.0                     0.666667   \n",
       "\n",
       "     Most_valuable_available_asset  Age_years  Concurrent_Credits  \\\n",
       "560                       0.000000   0.446429                 1.0   \n",
       "246                       0.666667   0.089286                 1.0   \n",
       "924                       0.333333   0.125000                 0.5   \n",
       "917                       0.333333   0.107143                 1.0   \n",
       "570                       0.000000   0.125000                 1.0   \n",
       "..                             ...        ...                 ...   \n",
       "701                       0.666667   0.267857                 1.0   \n",
       "24                        0.000000   0.446429                 1.0   \n",
       "386                       0.333333   0.196429                 1.0   \n",
       "277                       0.333333   0.142857                 1.0   \n",
       "385                       0.000000   0.089286                 1.0   \n",
       "\n",
       "     Type_of_apartment  No_of_Credits_at_this_Bank  Occupation  \\\n",
       "560                0.5                    0.333333    0.666667   \n",
       "246                0.5                    0.333333    0.666667   \n",
       "924                0.5                    0.333333    0.666667   \n",
       "917                0.0                    0.333333    0.666667   \n",
       "570                0.5                    0.000000    0.666667   \n",
       "..                 ...                         ...         ...   \n",
       "701                0.5                    0.333333    0.666667   \n",
       "24                 0.5                    0.333333    0.333333   \n",
       "386                0.5                    0.000000    0.666667   \n",
       "277                0.5                    0.333333    0.666667   \n",
       "385                0.5                    0.000000    0.666667   \n",
       "\n",
       "     No_of_dependents  Telephone  Foreign_Worker  \n",
       "560               0.0        1.0             0.0  \n",
       "246               0.0        0.0             0.0  \n",
       "924               0.0        0.0             0.0  \n",
       "917               0.0        0.0             0.0  \n",
       "570               0.0        0.0             0.0  \n",
       "..                ...        ...             ...  \n",
       "701               0.0        1.0             0.0  \n",
       "24                1.0        0.0             0.0  \n",
       "386               0.0        0.0             0.0  \n",
       "277               0.0        0.0             0.0  \n",
       "385               0.0        0.0             0.0  \n",
       "\n",
       "[800 rows x 20 columns]"
      ]
     },
     "execution_count": 61,
     "metadata": {},
     "output_type": "execute_result"
    }
   ],
   "source": [
    "sc_train = (X_train - min_) / (max_ - min_)\n",
    "sc_train"
   ]
  },
  {
   "cell_type": "code",
   "execution_count": 62,
   "id": "6387f5ed",
   "metadata": {},
   "outputs": [
    {
     "data": {
      "text/html": [
       "<div>\n",
       "<style scoped>\n",
       "    .dataframe tbody tr th:only-of-type {\n",
       "        vertical-align: middle;\n",
       "    }\n",
       "\n",
       "    .dataframe tbody tr th {\n",
       "        vertical-align: top;\n",
       "    }\n",
       "\n",
       "    .dataframe thead th {\n",
       "        text-align: right;\n",
       "    }\n",
       "</style>\n",
       "<table border=\"1\" class=\"dataframe\">\n",
       "  <thead>\n",
       "    <tr style=\"text-align: right;\">\n",
       "      <th></th>\n",
       "      <th>Account_Balance</th>\n",
       "      <th>Duration_of_Credit_monthly</th>\n",
       "      <th>Payment_Status_of_Previous_Credit</th>\n",
       "      <th>Purpose</th>\n",
       "      <th>Credit_Amount</th>\n",
       "      <th>Value_Savings_Stocks</th>\n",
       "      <th>Length_of_current_employment</th>\n",
       "      <th>Instalment_per_cent</th>\n",
       "      <th>Sex_Marital_Status</th>\n",
       "      <th>Guarantors</th>\n",
       "      <th>Duration_in_Current_address</th>\n",
       "      <th>Most_valuable_available_asset</th>\n",
       "      <th>Age_years</th>\n",
       "      <th>Concurrent_Credits</th>\n",
       "      <th>Type_of_apartment</th>\n",
       "      <th>No_of_Credits_at_this_Bank</th>\n",
       "      <th>Occupation</th>\n",
       "      <th>No_of_dependents</th>\n",
       "      <th>Telephone</th>\n",
       "      <th>Foreign_Worker</th>\n",
       "    </tr>\n",
       "  </thead>\n",
       "  <tbody>\n",
       "    <tr>\n",
       "      <th>752</th>\n",
       "      <td>0.333333</td>\n",
       "      <td>0.073529</td>\n",
       "      <td>1.00</td>\n",
       "      <td>0.6</td>\n",
       "      <td>0.048751</td>\n",
       "      <td>0.75</td>\n",
       "      <td>1.00</td>\n",
       "      <td>1.000000</td>\n",
       "      <td>0.666667</td>\n",
       "      <td>0.0</td>\n",
       "      <td>0.666667</td>\n",
       "      <td>1.000000</td>\n",
       "      <td>0.232143</td>\n",
       "      <td>1.0</td>\n",
       "      <td>1.0</td>\n",
       "      <td>0.333333</td>\n",
       "      <td>0.666667</td>\n",
       "      <td>1.0</td>\n",
       "      <td>0.0</td>\n",
       "      <td>0.0</td>\n",
       "    </tr>\n",
       "    <tr>\n",
       "      <th>283</th>\n",
       "      <td>0.333333</td>\n",
       "      <td>0.250000</td>\n",
       "      <td>0.75</td>\n",
       "      <td>0.0</td>\n",
       "      <td>0.115715</td>\n",
       "      <td>0.00</td>\n",
       "      <td>0.50</td>\n",
       "      <td>0.000000</td>\n",
       "      <td>0.000000</td>\n",
       "      <td>0.0</td>\n",
       "      <td>1.000000</td>\n",
       "      <td>0.333333</td>\n",
       "      <td>0.500000</td>\n",
       "      <td>1.0</td>\n",
       "      <td>0.5</td>\n",
       "      <td>0.333333</td>\n",
       "      <td>0.666667</td>\n",
       "      <td>0.0</td>\n",
       "      <td>0.0</td>\n",
       "      <td>0.0</td>\n",
       "    </tr>\n",
       "    <tr>\n",
       "      <th>990</th>\n",
       "      <td>0.000000</td>\n",
       "      <td>0.205882</td>\n",
       "      <td>0.50</td>\n",
       "      <td>0.6</td>\n",
       "      <td>0.027512</td>\n",
       "      <td>0.00</td>\n",
       "      <td>0.00</td>\n",
       "      <td>1.000000</td>\n",
       "      <td>0.333333</td>\n",
       "      <td>0.0</td>\n",
       "      <td>0.000000</td>\n",
       "      <td>0.000000</td>\n",
       "      <td>0.142857</td>\n",
       "      <td>1.0</td>\n",
       "      <td>0.5</td>\n",
       "      <td>0.000000</td>\n",
       "      <td>0.000000</td>\n",
       "      <td>0.0</td>\n",
       "      <td>0.0</td>\n",
       "      <td>0.0</td>\n",
       "    </tr>\n",
       "    <tr>\n",
       "      <th>821</th>\n",
       "      <td>0.000000</td>\n",
       "      <td>0.470588</td>\n",
       "      <td>0.75</td>\n",
       "      <td>0.6</td>\n",
       "      <td>0.365192</td>\n",
       "      <td>0.00</td>\n",
       "      <td>0.50</td>\n",
       "      <td>1.000000</td>\n",
       "      <td>0.666667</td>\n",
       "      <td>0.0</td>\n",
       "      <td>0.666667</td>\n",
       "      <td>0.333333</td>\n",
       "      <td>0.178571</td>\n",
       "      <td>0.5</td>\n",
       "      <td>0.5</td>\n",
       "      <td>0.000000</td>\n",
       "      <td>0.666667</td>\n",
       "      <td>0.0</td>\n",
       "      <td>1.0</td>\n",
       "      <td>0.0</td>\n",
       "    </tr>\n",
       "    <tr>\n",
       "      <th>404</th>\n",
       "      <td>1.000000</td>\n",
       "      <td>0.205882</td>\n",
       "      <td>0.50</td>\n",
       "      <td>0.3</td>\n",
       "      <td>0.239023</td>\n",
       "      <td>0.00</td>\n",
       "      <td>0.25</td>\n",
       "      <td>0.666667</td>\n",
       "      <td>0.666667</td>\n",
       "      <td>0.0</td>\n",
       "      <td>0.333333</td>\n",
       "      <td>0.666667</td>\n",
       "      <td>0.232143</td>\n",
       "      <td>1.0</td>\n",
       "      <td>0.5</td>\n",
       "      <td>0.000000</td>\n",
       "      <td>0.666667</td>\n",
       "      <td>0.0</td>\n",
       "      <td>1.0</td>\n",
       "      <td>0.0</td>\n",
       "    </tr>\n",
       "  </tbody>\n",
       "</table>\n",
       "</div>"
      ],
      "text/plain": [
       "     Account_Balance  Duration_of_Credit_monthly  \\\n",
       "752         0.333333                    0.073529   \n",
       "283         0.333333                    0.250000   \n",
       "990         0.000000                    0.205882   \n",
       "821         0.000000                    0.470588   \n",
       "404         1.000000                    0.205882   \n",
       "\n",
       "     Payment_Status_of_Previous_Credit  Purpose  Credit_Amount  \\\n",
       "752                               1.00      0.6       0.048751   \n",
       "283                               0.75      0.0       0.115715   \n",
       "990                               0.50      0.6       0.027512   \n",
       "821                               0.75      0.6       0.365192   \n",
       "404                               0.50      0.3       0.239023   \n",
       "\n",
       "     Value_Savings_Stocks  Length_of_current_employment  Instalment_per_cent  \\\n",
       "752                  0.75                          1.00             1.000000   \n",
       "283                  0.00                          0.50             0.000000   \n",
       "990                  0.00                          0.00             1.000000   \n",
       "821                  0.00                          0.50             1.000000   \n",
       "404                  0.00                          0.25             0.666667   \n",
       "\n",
       "     Sex_Marital_Status  Guarantors  Duration_in_Current_address  \\\n",
       "752            0.666667         0.0                     0.666667   \n",
       "283            0.000000         0.0                     1.000000   \n",
       "990            0.333333         0.0                     0.000000   \n",
       "821            0.666667         0.0                     0.666667   \n",
       "404            0.666667         0.0                     0.333333   \n",
       "\n",
       "     Most_valuable_available_asset  Age_years  Concurrent_Credits  \\\n",
       "752                       1.000000   0.232143                 1.0   \n",
       "283                       0.333333   0.500000                 1.0   \n",
       "990                       0.000000   0.142857                 1.0   \n",
       "821                       0.333333   0.178571                 0.5   \n",
       "404                       0.666667   0.232143                 1.0   \n",
       "\n",
       "     Type_of_apartment  No_of_Credits_at_this_Bank  Occupation  \\\n",
       "752                1.0                    0.333333    0.666667   \n",
       "283                0.5                    0.333333    0.666667   \n",
       "990                0.5                    0.000000    0.000000   \n",
       "821                0.5                    0.000000    0.666667   \n",
       "404                0.5                    0.000000    0.666667   \n",
       "\n",
       "     No_of_dependents  Telephone  Foreign_Worker  \n",
       "752               1.0        0.0             0.0  \n",
       "283               0.0        0.0             0.0  \n",
       "990               0.0        0.0             0.0  \n",
       "821               0.0        1.0             0.0  \n",
       "404               0.0        1.0             0.0  "
      ]
     },
     "execution_count": 62,
     "metadata": {},
     "output_type": "execute_result"
    }
   ],
   "source": [
    "sc_valid = (X_valid - min_) / (max_ - min_)\n",
    "sc_valid.head()"
   ]
  },
  {
   "cell_type": "code",
   "execution_count": 63,
   "id": "978b58fa",
   "metadata": {},
   "outputs": [
    {
     "name": "stdout",
     "output_type": "stream",
     "text": [
      "Epoch 1/1000\n",
      "7/7 [==============================] - 0s 53ms/step - loss: 0.6213 - val_loss: 0.5788\n",
      "Epoch 2/1000\n",
      "7/7 [==============================] - 0s 10ms/step - loss: 0.4670 - val_loss: 0.5667\n",
      "Epoch 3/1000\n",
      "7/7 [==============================] - 0s 9ms/step - loss: 0.4193 - val_loss: 0.5543\n",
      "Epoch 4/1000\n",
      "7/7 [==============================] - 0s 11ms/step - loss: 0.3798 - val_loss: 0.5611\n",
      "Epoch 5/1000\n",
      "7/7 [==============================] - 0s 9ms/step - loss: 0.3571 - val_loss: 0.5576\n",
      "Epoch 6/1000\n",
      "7/7 [==============================] - 0s 9ms/step - loss: 0.3240 - val_loss: 0.5509\n",
      "Epoch 7/1000\n",
      "7/7 [==============================] - 0s 11ms/step - loss: 0.2920 - val_loss: 0.5498\n",
      "Epoch 8/1000\n",
      "7/7 [==============================] - 0s 10ms/step - loss: 0.2687 - val_loss: 0.5459\n",
      "Epoch 9/1000\n",
      "7/7 [==============================] - 0s 9ms/step - loss: 0.2439 - val_loss: 0.5405\n",
      "Epoch 10/1000\n",
      "7/7 [==============================] - 0s 9ms/step - loss: 0.2214 - val_loss: 0.5440\n",
      "Epoch 11/1000\n",
      "7/7 [==============================] - 0s 10ms/step - loss: 0.1988 - val_loss: 0.5463\n",
      "Epoch 12/1000\n",
      "7/7 [==============================] - 0s 11ms/step - loss: 0.1820 - val_loss: 0.5391\n",
      "Epoch 13/1000\n",
      "7/7 [==============================] - 0s 12ms/step - loss: 0.1623 - val_loss: 0.5355\n",
      "Epoch 14/1000\n",
      "7/7 [==============================] - 0s 11ms/step - loss: 0.1459 - val_loss: 0.5276\n",
      "Epoch 15/1000\n",
      "7/7 [==============================] - 0s 10ms/step - loss: 0.1456 - val_loss: 0.5150\n",
      "Epoch 16/1000\n",
      "7/7 [==============================] - 0s 10ms/step - loss: 0.1219 - val_loss: 0.5206\n",
      "Epoch 17/1000\n",
      "7/7 [==============================] - 0s 11ms/step - loss: 0.1059 - val_loss: 0.5114\n",
      "Epoch 18/1000\n",
      "7/7 [==============================] - 0s 9ms/step - loss: 0.0924 - val_loss: 0.4922\n",
      "Epoch 19/1000\n",
      "7/7 [==============================] - 0s 10ms/step - loss: 0.0916 - val_loss: 0.4997\n",
      "Epoch 20/1000\n",
      "7/7 [==============================] - 0s 9ms/step - loss: 0.0707 - val_loss: 0.4994\n",
      "Epoch 21/1000\n",
      "7/7 [==============================] - 0s 9ms/step - loss: 0.0589 - val_loss: 0.4831\n",
      "Epoch 22/1000\n",
      "7/7 [==============================] - 0s 10ms/step - loss: 0.0543 - val_loss: 0.4939\n",
      "Epoch 23/1000\n",
      "7/7 [==============================] - 0s 10ms/step - loss: 0.0447 - val_loss: 0.4908\n",
      "Epoch 24/1000\n",
      "7/7 [==============================] - 0s 10ms/step - loss: 0.0333 - val_loss: 0.4895\n",
      "Epoch 25/1000\n",
      "7/7 [==============================] - 0s 13ms/step - loss: 0.0297 - val_loss: 0.4900\n",
      "Epoch 26/1000\n",
      "7/7 [==============================] - 0s 11ms/step - loss: 0.0233 - val_loss: 0.4825\n",
      "Epoch 27/1000\n",
      "7/7 [==============================] - 0s 9ms/step - loss: 0.0228 - val_loss: 0.4886\n",
      "Epoch 28/1000\n",
      "7/7 [==============================] - 0s 10ms/step - loss: 0.0266 - val_loss: 0.4933\n",
      "Epoch 29/1000\n",
      "7/7 [==============================] - 0s 10ms/step - loss: 0.0403 - val_loss: 0.4883\n",
      "Epoch 30/1000\n",
      "7/7 [==============================] - 0s 9ms/step - loss: 0.0306 - val_loss: 0.5017\n",
      "Epoch 31/1000\n",
      "7/7 [==============================] - 0s 10ms/step - loss: 0.0200 - val_loss: 0.5001\n",
      "Epoch 32/1000\n",
      "7/7 [==============================] - 0s 10ms/step - loss: 0.0162 - val_loss: 0.4989\n",
      "Epoch 33/1000\n",
      "7/7 [==============================] - 0s 9ms/step - loss: 0.0150 - val_loss: 0.5098\n",
      "Epoch 34/1000\n",
      "7/7 [==============================] - 0s 9ms/step - loss: 0.0176 - val_loss: 0.4859\n",
      "Epoch 35/1000\n",
      "7/7 [==============================] - 0s 10ms/step - loss: 0.0147 - val_loss: 0.4976\n",
      "Epoch 36/1000\n",
      "7/7 [==============================] - 0s 10ms/step - loss: 0.0121 - val_loss: 0.5520\n",
      "Epoch 37/1000\n",
      "7/7 [==============================] - 0s 10ms/step - loss: 0.0147 - val_loss: 0.5619\n",
      "Epoch 38/1000\n",
      "7/7 [==============================] - 0s 10ms/step - loss: 0.0176 - val_loss: 0.5639\n",
      "Epoch 39/1000\n",
      "7/7 [==============================] - 0s 10ms/step - loss: 0.0202 - val_loss: 0.5477\n",
      "Epoch 40/1000\n",
      "7/7 [==============================] - 0s 9ms/step - loss: 0.0461 - val_loss: 0.5628\n",
      "Epoch 41/1000\n",
      "7/7 [==============================] - 0s 11ms/step - loss: 0.0307 - val_loss: 0.5532\n"
     ]
    }
   ],
   "source": [
    "model_nn2 = Sequential([\n",
    "    layers.Dense(224, activation = 'relu', input_shape = [20]),\n",
    "    layers.BatchNormalization(),\n",
    "    layers.Dense(224, activation = 'relu'),\n",
    "    layers.Dense(224, activation = 'relu'),\n",
    "    layers.Dense(1, activation = 'sigmoid')\n",
    "])\n",
    "\n",
    "model_nn2.compile(optimizer = 'adam', loss = 'binary_crossentropy')\n",
    "\n",
    "early_stopping = callbacks.EarlyStopping(\n",
    "    min_delta = 0.001, \n",
    "    patience = 20,\n",
    "    restore_best_weights = True\n",
    ")\n",
    "\n",
    "model_dl2 = model_nn2.fit(sc_train, y_train,\n",
    "                      validation_data = (sc_valid, y_valid),\n",
    "                      batch_size = 128,\n",
    "                      epochs = 1000,\n",
    "                      callbacks = [early_stopping]\n",
    "                    )"
   ]
  },
  {
   "cell_type": "code",
   "execution_count": 64,
   "id": "d3043937",
   "metadata": {},
   "outputs": [],
   "source": [
    "preds_dl2 = model_nn2.predict(sc_valid)"
   ]
  },
  {
   "cell_type": "code",
   "execution_count": 65,
   "id": "9b1fea5e",
   "metadata": {},
   "outputs": [],
   "source": [
    "tr_dl2 = []\n",
    "for elem in preds_dl2:\n",
    "    \n",
    "    if elem >= 0.5:\n",
    "        elem = 1\n",
    "        tr_dl2.append(elem)\n",
    "#         print(elem)\n",
    "    else:\n",
    "        elem = 0\n",
    "        tr_dl2.append(elem)\n",
    "#         print(elem)"
   ]
  },
  {
   "cell_type": "code",
   "execution_count": 66,
   "id": "811f4afc",
   "metadata": {},
   "outputs": [
    {
     "name": "stdout",
     "output_type": "stream",
     "text": [
      "Deep Neural Networks Accuracy\n"
     ]
    },
    {
     "data": {
      "text/plain": [
       "0.775"
      ]
     },
     "execution_count": 66,
     "metadata": {},
     "output_type": "execute_result"
    }
   ],
   "source": [
    "print('Deep Neural Networks Accuracy')\n",
    "dl2_acc = metrics.accuracy_score(y_valid, tr_dl2)\n",
    "dl2_acc"
   ]
  },
  {
   "cell_type": "code",
   "execution_count": 67,
   "id": "36209c74",
   "metadata": {},
   "outputs": [
    {
     "name": "stdout",
     "output_type": "stream",
     "text": [
      "K2 Accuracy\n"
     ]
    },
    {
     "data": {
      "text/plain": [
       "0.75"
      ]
     },
     "execution_count": 67,
     "metadata": {},
     "output_type": "execute_result"
    }
   ],
   "source": [
    "# Classical models\n",
    "\n",
    "knn2 = KNeighborsClassifier()\n",
    "knn2.fit(sc_train, y_train)\n",
    "\n",
    "k2_preds = knn2.predict(sc_valid)\n",
    "\n",
    "# Acc\n",
    "k2_acc = metrics.accuracy_score(y_valid, k2_preds)\n",
    "print('K2 Accuracy')\n",
    "k2_acc"
   ]
  },
  {
   "cell_type": "code",
   "execution_count": 68,
   "id": "14bdebc5",
   "metadata": {},
   "outputs": [
    {
     "name": "stdout",
     "output_type": "stream",
     "text": [
      "dt2 Accuracy\n"
     ]
    },
    {
     "data": {
      "text/plain": [
       "0.7"
      ]
     },
     "execution_count": 68,
     "metadata": {},
     "output_type": "execute_result"
    }
   ],
   "source": [
    "dt2 = DecisionTreeClassifier()\n",
    "dt2.fit(sc_train, y_train)\n",
    "\n",
    "dt2_preds = dt2.predict(sc_valid)\n",
    "\n",
    "# Acc\n",
    "dt2_acc = metrics.accuracy_score(y_valid, dt2_preds)\n",
    "print('dt2 Accuracy')\n",
    "dt2_acc"
   ]
  },
  {
   "cell_type": "code",
   "execution_count": 69,
   "id": "72b6de7a",
   "metadata": {},
   "outputs": [
    {
     "name": "stdout",
     "output_type": "stream",
     "text": [
      "svc2 Accuracy\n"
     ]
    },
    {
     "data": {
      "text/plain": [
       "0.805"
      ]
     },
     "execution_count": 69,
     "metadata": {},
     "output_type": "execute_result"
    }
   ],
   "source": [
    "svc2 = SVC()\n",
    "svc2.fit(sc_train, y_train)\n",
    "\n",
    "svc2_preds = svc2.predict(sc_valid)\n",
    "\n",
    "# Acc\n",
    "svc2_acc = metrics.accuracy_score(y_valid, svc2_preds)\n",
    "print('svc2 Accuracy')\n",
    "svc2_acc"
   ]
  },
  {
   "cell_type": "code",
   "execution_count": 70,
   "id": "81583250",
   "metadata": {},
   "outputs": [
    {
     "name": "stdout",
     "output_type": "stream",
     "text": [
      "rf2 Accuracy\n"
     ]
    },
    {
     "data": {
      "text/plain": [
       "0.765"
      ]
     },
     "execution_count": 70,
     "metadata": {},
     "output_type": "execute_result"
    }
   ],
   "source": [
    "rf2 = RandomForestClassifier()\n",
    "rf2.fit(sc_train, y_train)\n",
    "\n",
    "rf2_preds = rf2.predict(sc_valid)\n",
    "\n",
    "# Acc\n",
    "rf2_acc = metrics.accuracy_score(y_valid, rf2_preds)\n",
    "print('rf2 Accuracy')\n",
    "rf2_acc"
   ]
  },
  {
   "cell_type": "code",
   "execution_count": 71,
   "id": "86c6eb83",
   "metadata": {},
   "outputs": [
    {
     "name": "stdout",
     "output_type": "stream",
     "text": [
      "lr2 Accuracy\n"
     ]
    },
    {
     "data": {
      "text/plain": [
       "0.78"
      ]
     },
     "execution_count": 71,
     "metadata": {},
     "output_type": "execute_result"
    }
   ],
   "source": [
    "lr2 = LogisticRegression()\n",
    "lr2.fit(sc_train, y_train)\n",
    "\n",
    "lr2_preds = lr2.predict(sc_valid)\n",
    "\n",
    "# Acc\n",
    "lr2_acc = metrics.accuracy_score(y_valid, lr2_preds)\n",
    "print('lr2 Accuracy')\n",
    "lr2_acc"
   ]
  },
  {
   "cell_type": "code",
   "execution_count": null,
   "id": "49a46b60",
   "metadata": {},
   "outputs": [],
   "source": []
  }
 ],
 "metadata": {
  "kernelspec": {
   "display_name": "Python 3",
   "language": "python",
   "name": "python3"
  },
  "language_info": {
   "codemirror_mode": {
    "name": "ipython",
    "version": 3
   },
   "file_extension": ".py",
   "mimetype": "text/x-python",
   "name": "python",
   "nbconvert_exporter": "python",
   "pygments_lexer": "ipython3",
   "version": "3.8.8"
  }
 },
 "nbformat": 4,
 "nbformat_minor": 5
}
