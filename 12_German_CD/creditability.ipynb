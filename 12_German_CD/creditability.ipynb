{
 "cells": [
  {
   "cell_type": "markdown",
   "id": "d29d3737",
   "metadata": {},
   "source": [
    "## About this Dataset\n",
    "+ Context\n",
    "\n",
    "When a bank receives a loan application, based on the applicant’s profile the bank has to make a decision regarding whether to go ahead with the loan approval or not. Two types of risks are associated with the bank’s decision.\"\n",
    "\n",
    "\"If the applicant is a good credit risk, i.e. is likely to repay the loan, then not approving the loan to the person results in a loss of business to the bank\n",
    "If the applicant is a bad credit risk, i.e. is not likely to repay the loan, then approving the loan to the person results in a financial loss to the bank.\"\n",
    "\n",
    "The predictors that may potentially have any influence on Creditability:\n",
    "\n",
    "+ Account Balance: No account (1), None (No balance) (2), Some Balance (3)\n",
    "\n",
    "+ Payment Status: Some Problems (1), Paid Up (2), No Problems (in this bank) (3)\n",
    "\n",
    "+ Savings/Stock Value: None, Below 100 DM, [100, 1000] DM, Above 1000 DM\n",
    "\n",
    "+ Employment Length: Below 1 year (including unemployed), [1, 4), [4, 7), Above 7\n",
    "\n",
    "+ Sex/Marital Status: Male Divorced/Single, Male Married/Widowed, Female\n",
    "\n",
    "+ No of Credits at this bank: 1, More than 1\n",
    "\n",
    "+ Guarantor: None, Yes\n",
    "\n",
    "+ Concurrent Credits: Other Banks or Dept Stores, None\n",
    "\n",
    "+ ForeignWorker variable may be dropped from the study\n",
    "\n",
    "+ Purpose of Credit: New car, Used car, Home Related, Other\n",
    "\n",
    "https://online.stat.psu.edu/stat508/resource/analysis/gcd\n",
    "\n",
    "Content\n",
    "\n",
    "The German Credit Data contains data on 20 variables and the classification whether an applicant is considered a Good or a Bad credit risk for 1000 loan applicants. A predictive model developed on this data is expected to provide a bank manager guidance for making a decision whether to approve a loan to a prospective applicant based on his/her profiles.\n",
    "\n",
    "Acknowledgements\n",
    "https://online.stat.psu.edu/stat508/resource/analysis/gcd\n",
    "\n",
    "Photo by Alice Pasqual on Unsplash\n",
    "\n",
    "Inspiration\n",
    "Unemployment in time of crisis."
   ]
  },
  {
   "cell_type": "code",
   "execution_count": 1,
   "id": "9b62a757",
   "metadata": {},
   "outputs": [],
   "source": [
    "import numpy as np\n",
    "import pandas as pd\n",
    "import matplotlib.pyplot as plt\n",
    "import seaborn as sns"
   ]
  },
  {
   "cell_type": "markdown",
   "id": "8df2acd0",
   "metadata": {},
   "source": [
    "## Loading data and EDA"
   ]
  },
  {
   "cell_type": "code",
   "execution_count": 2,
   "id": "ad74a791",
   "metadata": {},
   "outputs": [
    {
     "data": {
      "text/html": [
       "<div>\n",
       "<style scoped>\n",
       "    .dataframe tbody tr th:only-of-type {\n",
       "        vertical-align: middle;\n",
       "    }\n",
       "\n",
       "    .dataframe tbody tr th {\n",
       "        vertical-align: top;\n",
       "    }\n",
       "\n",
       "    .dataframe thead th {\n",
       "        text-align: right;\n",
       "    }\n",
       "</style>\n",
       "<table border=\"1\" class=\"dataframe\">\n",
       "  <thead>\n",
       "    <tr style=\"text-align: right;\">\n",
       "      <th></th>\n",
       "      <th>Creditability</th>\n",
       "      <th>Account_Balance</th>\n",
       "      <th>Duration_of_Credit_monthly</th>\n",
       "      <th>Payment_Status_of_Previous_Credit</th>\n",
       "      <th>Purpose</th>\n",
       "      <th>Credit_Amount</th>\n",
       "      <th>Value_Savings_Stocks</th>\n",
       "      <th>Length_of_current_employment</th>\n",
       "      <th>Instalment_per_cent</th>\n",
       "      <th>Sex_Marital_Status</th>\n",
       "      <th>...</th>\n",
       "      <th>Duration_in_Current_address</th>\n",
       "      <th>Most_valuable_available_asset</th>\n",
       "      <th>Age_years</th>\n",
       "      <th>Concurrent_Credits</th>\n",
       "      <th>Type_of_apartment</th>\n",
       "      <th>No_of_Credits_at_this_Bank</th>\n",
       "      <th>Occupation</th>\n",
       "      <th>No_of_dependents</th>\n",
       "      <th>Telephone</th>\n",
       "      <th>Foreign_Worker</th>\n",
       "    </tr>\n",
       "  </thead>\n",
       "  <tbody>\n",
       "    <tr>\n",
       "      <th>0</th>\n",
       "      <td>1</td>\n",
       "      <td>1</td>\n",
       "      <td>18</td>\n",
       "      <td>4</td>\n",
       "      <td>2</td>\n",
       "      <td>1049</td>\n",
       "      <td>1</td>\n",
       "      <td>2</td>\n",
       "      <td>4</td>\n",
       "      <td>2</td>\n",
       "      <td>...</td>\n",
       "      <td>4</td>\n",
       "      <td>2</td>\n",
       "      <td>21</td>\n",
       "      <td>3</td>\n",
       "      <td>1</td>\n",
       "      <td>1</td>\n",
       "      <td>3</td>\n",
       "      <td>1</td>\n",
       "      <td>1</td>\n",
       "      <td>1</td>\n",
       "    </tr>\n",
       "    <tr>\n",
       "      <th>1</th>\n",
       "      <td>1</td>\n",
       "      <td>1</td>\n",
       "      <td>9</td>\n",
       "      <td>4</td>\n",
       "      <td>0</td>\n",
       "      <td>2799</td>\n",
       "      <td>1</td>\n",
       "      <td>3</td>\n",
       "      <td>2</td>\n",
       "      <td>3</td>\n",
       "      <td>...</td>\n",
       "      <td>2</td>\n",
       "      <td>1</td>\n",
       "      <td>36</td>\n",
       "      <td>3</td>\n",
       "      <td>1</td>\n",
       "      <td>2</td>\n",
       "      <td>3</td>\n",
       "      <td>2</td>\n",
       "      <td>1</td>\n",
       "      <td>1</td>\n",
       "    </tr>\n",
       "    <tr>\n",
       "      <th>2</th>\n",
       "      <td>1</td>\n",
       "      <td>2</td>\n",
       "      <td>12</td>\n",
       "      <td>2</td>\n",
       "      <td>9</td>\n",
       "      <td>841</td>\n",
       "      <td>2</td>\n",
       "      <td>4</td>\n",
       "      <td>2</td>\n",
       "      <td>2</td>\n",
       "      <td>...</td>\n",
       "      <td>4</td>\n",
       "      <td>1</td>\n",
       "      <td>23</td>\n",
       "      <td>3</td>\n",
       "      <td>1</td>\n",
       "      <td>1</td>\n",
       "      <td>2</td>\n",
       "      <td>1</td>\n",
       "      <td>1</td>\n",
       "      <td>1</td>\n",
       "    </tr>\n",
       "    <tr>\n",
       "      <th>3</th>\n",
       "      <td>1</td>\n",
       "      <td>1</td>\n",
       "      <td>12</td>\n",
       "      <td>4</td>\n",
       "      <td>0</td>\n",
       "      <td>2122</td>\n",
       "      <td>1</td>\n",
       "      <td>3</td>\n",
       "      <td>3</td>\n",
       "      <td>3</td>\n",
       "      <td>...</td>\n",
       "      <td>2</td>\n",
       "      <td>1</td>\n",
       "      <td>39</td>\n",
       "      <td>3</td>\n",
       "      <td>1</td>\n",
       "      <td>2</td>\n",
       "      <td>2</td>\n",
       "      <td>2</td>\n",
       "      <td>1</td>\n",
       "      <td>2</td>\n",
       "    </tr>\n",
       "    <tr>\n",
       "      <th>4</th>\n",
       "      <td>1</td>\n",
       "      <td>1</td>\n",
       "      <td>12</td>\n",
       "      <td>4</td>\n",
       "      <td>0</td>\n",
       "      <td>2171</td>\n",
       "      <td>1</td>\n",
       "      <td>3</td>\n",
       "      <td>4</td>\n",
       "      <td>3</td>\n",
       "      <td>...</td>\n",
       "      <td>4</td>\n",
       "      <td>2</td>\n",
       "      <td>38</td>\n",
       "      <td>1</td>\n",
       "      <td>2</td>\n",
       "      <td>2</td>\n",
       "      <td>2</td>\n",
       "      <td>1</td>\n",
       "      <td>1</td>\n",
       "      <td>2</td>\n",
       "    </tr>\n",
       "  </tbody>\n",
       "</table>\n",
       "<p>5 rows × 21 columns</p>\n",
       "</div>"
      ],
      "text/plain": [
       "   Creditability  Account_Balance  Duration_of_Credit_monthly  \\\n",
       "0              1                1                          18   \n",
       "1              1                1                           9   \n",
       "2              1                2                          12   \n",
       "3              1                1                          12   \n",
       "4              1                1                          12   \n",
       "\n",
       "   Payment_Status_of_Previous_Credit  Purpose  Credit_Amount  \\\n",
       "0                                  4        2           1049   \n",
       "1                                  4        0           2799   \n",
       "2                                  2        9            841   \n",
       "3                                  4        0           2122   \n",
       "4                                  4        0           2171   \n",
       "\n",
       "   Value_Savings_Stocks  Length_of_current_employment  Instalment_per_cent  \\\n",
       "0                     1                             2                    4   \n",
       "1                     1                             3                    2   \n",
       "2                     2                             4                    2   \n",
       "3                     1                             3                    3   \n",
       "4                     1                             3                    4   \n",
       "\n",
       "   Sex_Marital_Status  ...  Duration_in_Current_address  \\\n",
       "0                   2  ...                            4   \n",
       "1                   3  ...                            2   \n",
       "2                   2  ...                            4   \n",
       "3                   3  ...                            2   \n",
       "4                   3  ...                            4   \n",
       "\n",
       "   Most_valuable_available_asset  Age_years  Concurrent_Credits  \\\n",
       "0                              2         21                   3   \n",
       "1                              1         36                   3   \n",
       "2                              1         23                   3   \n",
       "3                              1         39                   3   \n",
       "4                              2         38                   1   \n",
       "\n",
       "   Type_of_apartment  No_of_Credits_at_this_Bank  Occupation  \\\n",
       "0                  1                           1           3   \n",
       "1                  1                           2           3   \n",
       "2                  1                           1           2   \n",
       "3                  1                           2           2   \n",
       "4                  2                           2           2   \n",
       "\n",
       "   No_of_dependents  Telephone  Foreign_Worker  \n",
       "0                 1          1               1  \n",
       "1                 2          1               1  \n",
       "2                 1          1               1  \n",
       "3                 2          1               2  \n",
       "4                 1          1               2  \n",
       "\n",
       "[5 rows x 21 columns]"
      ]
     },
     "execution_count": 2,
     "metadata": {},
     "output_type": "execute_result"
    }
   ],
   "source": [
    "data = pd.read_csv('german.csv', sep=';')\n",
    "data.head()"
   ]
  },
  {
   "cell_type": "code",
   "execution_count": 3,
   "id": "b56ef194",
   "metadata": {},
   "outputs": [
    {
     "data": {
      "text/plain": [
       "(1000, 21)"
      ]
     },
     "execution_count": 3,
     "metadata": {},
     "output_type": "execute_result"
    }
   ],
   "source": [
    "data.shape"
   ]
  },
  {
   "cell_type": "code",
   "execution_count": 4,
   "id": "99382396",
   "metadata": {},
   "outputs": [
    {
     "name": "stdout",
     "output_type": "stream",
     "text": [
      "<class 'pandas.core.frame.DataFrame'>\n",
      "RangeIndex: 1000 entries, 0 to 999\n",
      "Data columns (total 21 columns):\n",
      " #   Column                             Non-Null Count  Dtype\n",
      "---  ------                             --------------  -----\n",
      " 0   Creditability                      1000 non-null   int64\n",
      " 1   Account_Balance                    1000 non-null   int64\n",
      " 2   Duration_of_Credit_monthly         1000 non-null   int64\n",
      " 3   Payment_Status_of_Previous_Credit  1000 non-null   int64\n",
      " 4   Purpose                            1000 non-null   int64\n",
      " 5   Credit_Amount                      1000 non-null   int64\n",
      " 6   Value_Savings_Stocks               1000 non-null   int64\n",
      " 7   Length_of_current_employment       1000 non-null   int64\n",
      " 8   Instalment_per_cent                1000 non-null   int64\n",
      " 9   Sex_Marital_Status                 1000 non-null   int64\n",
      " 10  Guarantors                         1000 non-null   int64\n",
      " 11  Duration_in_Current_address        1000 non-null   int64\n",
      " 12  Most_valuable_available_asset      1000 non-null   int64\n",
      " 13  Age_years                          1000 non-null   int64\n",
      " 14  Concurrent_Credits                 1000 non-null   int64\n",
      " 15  Type_of_apartment                  1000 non-null   int64\n",
      " 16  No_of_Credits_at_this_Bank         1000 non-null   int64\n",
      " 17  Occupation                         1000 non-null   int64\n",
      " 18  No_of_dependents                   1000 non-null   int64\n",
      " 19  Telephone                          1000 non-null   int64\n",
      " 20  Foreign_Worker                     1000 non-null   int64\n",
      "dtypes: int64(21)\n",
      "memory usage: 164.2 KB\n"
     ]
    }
   ],
   "source": [
    "data.info()"
   ]
  },
  {
   "cell_type": "code",
   "execution_count": 5,
   "id": "cdca91d7",
   "metadata": {},
   "outputs": [
    {
     "data": {
      "text/plain": [
       "1    700\n",
       "0    300\n",
       "Name: Creditability, dtype: int64"
      ]
     },
     "execution_count": 5,
     "metadata": {},
     "output_type": "execute_result"
    }
   ],
   "source": [
    "data.Creditability.value_counts()"
   ]
  },
  {
   "cell_type": "code",
   "execution_count": 6,
   "id": "852442ab",
   "metadata": {},
   "outputs": [
    {
     "data": {
      "text/plain": [
       "<AxesSubplot:>"
      ]
     },
     "execution_count": 6,
     "metadata": {},
     "output_type": "execute_result"
    },
    {
     "data": {
      "image/png": "[encoded data removed]",
      "text/plain": [
       "<Figure size 432x288 with 1 Axes>"
      ]
     },
     "metadata": {
      "needs_background": "light"
     },
     "output_type": "display_data"
    }
   ],
   "source": [
    "data.Creditability.value_counts().plot(kind = 'bar')"
   ]
  },
  {
   "cell_type": "code",
   "execution_count": 7,
   "id": "49609fc6",
   "metadata": {},
   "outputs": [
    {
     "data": {
      "text/plain": [
       "Creditability                        0\n",
       "Account_Balance                      0\n",
       "Duration_of_Credit_monthly           0\n",
       "Payment_Status_of_Previous_Credit    0\n",
       "Purpose                              0\n",
       "Credit_Amount                        0\n",
       "Value_Savings_Stocks                 0\n",
       "Length_of_current_employment         0\n",
       "Instalment_per_cent                  0\n",
       "Sex_Marital_Status                   0\n",
       "Guarantors                           0\n",
       "Duration_in_Current_address          0\n",
       "Most_valuable_available_asset        0\n",
       "Age_years                            0\n",
       "Concurrent_Credits                   0\n",
       "Type_of_apartment                    0\n",
       "No_of_Credits_at_this_Bank           0\n",
       "Occupation                           0\n",
       "No_of_dependents                     0\n",
       "Telephone                            0\n",
       "Foreign_Worker                       0\n",
       "dtype: int64"
      ]
     },
     "execution_count": 7,
     "metadata": {},
     "output_type": "execute_result"
    }
   ],
   "source": [
    "data.isnull().sum()"
   ]
  },
  {
   "cell_type": "code",
   "execution_count": 8,
   "id": "a2e880a0",
   "metadata": {},
   "outputs": [],
   "source": [
    "# Target\n",
    "y = data.Creditability\n",
    "\n",
    "# Features\n",
    "X = data.drop('Creditability', axis = 1)"
   ]
  },
  {
   "cell_type": "code",
   "execution_count": 9,
   "id": "64de9009",
   "metadata": {},
   "outputs": [
    {
     "data": {
      "text/plain": [
       "Index(['Account_Balance', 'Duration_of_Credit_monthly',\n",
       "       'Payment_Status_of_Previous_Credit', 'Purpose', 'Credit_Amount',\n",
       "       'Value_Savings_Stocks', 'Length_of_current_employment',\n",
       "       'Instalment_per_cent', 'Sex_Marital_Status', 'Guarantors',\n",
       "       'Duration_in_Current_address', 'Most_valuable_available_asset',\n",
       "       'Age_years', 'Concurrent_Credits', 'Type_of_apartment',\n",
       "       'No_of_Credits_at_this_Bank', 'Occupation', 'No_of_dependents',\n",
       "       'Telephone', 'Foreign_Worker'],\n",
       "      dtype='object')"
      ]
     },
     "execution_count": 9,
     "metadata": {},
     "output_type": "execute_result"
    }
   ],
   "source": [
    "features = X.columns\n",
    "features"
   ]
  },
  {
   "cell_type": "code",
   "execution_count": 10,
   "id": "f5acc52a",
   "metadata": {},
   "outputs": [
    {
     "data": {
      "text/plain": [
       "<AxesSubplot:ylabel='Frequency'>"
      ]
     },
     "execution_count": 10,
     "metadata": {},
     "output_type": "execute_result"
    },
    {
     "data": {
      "image/png": "[encoded data removed]",
      "text/plain": [
       "<Figure size 432x288 with 1 Axes>"
      ]
     },
     "metadata": {
      "needs_background": "light"
     },
     "output_type": "display_data"
    }
   ],
   "source": [
    "X.Account_Balance.plot(kind = 'hist')"
   ]
  },
  {
   "cell_type": "code",
   "execution_count": 11,
   "id": "44a7d167",
   "metadata": {},
   "outputs": [
    {
     "data": {
      "text/plain": [
       "4    394\n",
       "1    274\n",
       "2    269\n",
       "3     63\n",
       "Name: Account_Balance, dtype: int64"
      ]
     },
     "execution_count": 11,
     "metadata": {},
     "output_type": "execute_result"
    }
   ],
   "source": [
    "X['Account_Balance'].value_counts()"
   ]
  },
  {
   "cell_type": "code",
   "execution_count": 12,
   "id": "a9d8b7e4",
   "metadata": {},
   "outputs": [
    {
     "data": {
      "text/plain": [
       "4    39.4\n",
       "1    27.4\n",
       "2    26.9\n",
       "3     6.3\n",
       "Name: Account_Balance, dtype: float64"
      ]
     },
     "execution_count": 12,
     "metadata": {},
     "output_type": "execute_result"
    }
   ],
   "source": [
    "tran_acc_bal = X['Account_Balance'].value_counts() / len(X) * 100\n",
    "tran_acc_bal"
   ]
  },
  {
   "cell_type": "code",
   "execution_count": null,
   "id": "371bef99",
   "metadata": {},
   "outputs": [],
   "source": []
  },
  {
   "cell_type": "code",
   "execution_count": 13,
   "id": "f44700d0",
   "metadata": {},
   "outputs": [
    {
     "data": {
      "image/png": "[encoded data removed]",
      "text/plain": [
       "<Figure size 1008x576 with 19 Axes>"
      ]
     },
     "metadata": {
      "needs_background": "light"
     },
     "output_type": "display_data"
    }
   ],
   "source": [
    "plt.figure(figsize = (14, 8))\n",
    "for i, j in zip(range(1, 20), features):\n",
    "    \n",
    "    plt.subplot(7, 3, i)\n",
    "    \n",
    "    X[j].hist(label = j)\n",
    "    \n",
    "    plt.legend()"
   ]
  },
  {
   "cell_type": "code",
   "execution_count": 14,
   "id": "a9175009",
   "metadata": {},
   "outputs": [
    {
     "data": {
      "text/plain": [
       "<matplotlib.legend.Legend at 0x2a1af55f280>"
      ]
     },
     "execution_count": 14,
     "metadata": {},
     "output_type": "execute_result"
    },
    {
     "data": {
      "image/png": "[encoded data removed]",
      "text/plain": [
       "<Figure size 432x288 with 1 Axes>"
      ]
     },
     "metadata": {
      "needs_background": "light"
     },
     "output_type": "display_data"
    }
   ],
   "source": [
    "X['Duration_of_Credit_monthly'].hist(label = features[1])\n",
    "plt.legend()"
   ]
  },
  {
   "cell_type": "code",
   "execution_count": 15,
   "id": "2316bc4b",
   "metadata": {},
   "outputs": [
    {
     "data": {
      "text/plain": [
       "2    530\n",
       "4    293\n",
       "3     88\n",
       "1     49\n",
       "0     40\n",
       "Name: Payment_Status_of_Previous_Credit, dtype: int64"
      ]
     },
     "execution_count": 15,
     "metadata": {},
     "output_type": "execute_result"
    }
   ],
   "source": [
    "X['Payment_Status_of_Previous_Credit'].value_counts()"
   ]
  },
  {
   "cell_type": "code",
   "execution_count": 16,
   "id": "d7d50813",
   "metadata": {},
   "outputs": [
    {
     "data": {
      "text/plain": [
       "<matplotlib.legend.Legend at 0x2a1af24da60>"
      ]
     },
     "execution_count": 16,
     "metadata": {},
     "output_type": "execute_result"
    },
    {
     "data": {
      "image/png": "[encoded data removed]",
      "text/plain": [
       "<Figure size 432x288 with 1 Axes>"
      ]
     },
     "metadata": {
      "needs_background": "light"
     },
     "output_type": "display_data"
    }
   ],
   "source": [
    "X['Payment_Status_of_Previous_Credit'].hist(label = [features[2]])\n",
    "plt.legend()"
   ]
  },
  {
   "cell_type": "code",
   "execution_count": 17,
   "id": "70ac4b7f",
   "metadata": {},
   "outputs": [
    {
     "data": {
      "text/plain": [
       "3     280\n",
       "0     234\n",
       "2     181\n",
       "1     103\n",
       "9      97\n",
       "6      50\n",
       "5      22\n",
       "4      12\n",
       "10     12\n",
       "8       9\n",
       "Name: Purpose, dtype: int64"
      ]
     },
     "execution_count": 17,
     "metadata": {},
     "output_type": "execute_result"
    }
   ],
   "source": [
    "X['Purpose'].value_counts()"
   ]
  },
  {
   "cell_type": "code",
   "execution_count": 18,
   "id": "1791fb40",
   "metadata": {},
   "outputs": [
    {
     "data": {
      "text/plain": [
       "<matplotlib.legend.Legend at 0x2a1af2beb20>"
      ]
     },
     "execution_count": 18,
     "metadata": {},
     "output_type": "execute_result"
    },
    {
     "data": {
      "image/png": "[encoded data removed]",
      "text/plain": [
       "<Figure size 432x288 with 1 Axes>"
      ]
     },
     "metadata": {
      "needs_background": "light"
     },
     "output_type": "display_data"
    }
   ],
   "source": [
    "X['Purpose'].hist(label = features[3])\n",
    "plt.legend()"
   ]
  },
  {
   "cell_type": "code",
   "execution_count": 19,
   "id": "684f19a0",
   "metadata": {},
   "outputs": [
    {
     "data": {
      "text/plain": [
       "<matplotlib.legend.Legend at 0x2a1af28cd60>"
      ]
     },
     "execution_count": 19,
     "metadata": {},
     "output_type": "execute_result"
    },
    {
     "data": {
      "image/png": "[encoded data removed]",
      "text/plain": [
       "<Figure size 432x288 with 1 Axes>"
      ]
     },
     "metadata": {
      "needs_background": "light"
     },
     "output_type": "display_data"
    }
   ],
   "source": [
    "X['Credit_Amount'].hist(label = features[4])\n",
    "plt.legend()"
   ]
  },
  {
   "cell_type": "code",
   "execution_count": 20,
   "id": "329abc72",
   "metadata": {},
   "outputs": [
    {
     "data": {
      "text/plain": [
       "count     1000.00000\n",
       "mean      3271.24800\n",
       "std       2822.75176\n",
       "min        250.00000\n",
       "25%       1365.50000\n",
       "50%       2319.50000\n",
       "75%       3972.25000\n",
       "max      18424.00000\n",
       "Name: Credit_Amount, dtype: float64"
      ]
     },
     "execution_count": 20,
     "metadata": {},
     "output_type": "execute_result"
    }
   ],
   "source": [
    "X['Credit_Amount'].describe()"
   ]
  },
  {
   "cell_type": "code",
   "execution_count": 21,
   "id": "0fd0f6d3",
   "metadata": {},
   "outputs": [
    {
     "data": {
      "text/plain": [
       "<matplotlib.legend.Legend at 0x2a1af3b6370>"
      ]
     },
     "execution_count": 21,
     "metadata": {},
     "output_type": "execute_result"
    },
    {
     "data": {
      "image/png": "[encoded data removed]",
      "text/plain": [
       "<Figure size 432x288 with 1 Axes>"
      ]
     },
     "metadata": {
      "needs_background": "light"
     },
     "output_type": "display_data"
    }
   ],
   "source": [
    "X['Value_Savings_Stocks'].hist(label = features[5])\n",
    "plt.legend()"
   ]
  },
  {
   "cell_type": "code",
   "execution_count": 22,
   "id": "4c93286c",
   "metadata": {},
   "outputs": [
    {
     "data": {
      "text/plain": [
       "<matplotlib.legend.Legend at 0x2a1af43be50>"
      ]
     },
     "execution_count": 22,
     "metadata": {},
     "output_type": "execute_result"
    },
    {
     "data": {
      "image/png": "[encoded data removed]",
      "text/plain": [
       "<Figure size 432x288 with 1 Axes>"
      ]
     },
     "metadata": {
      "needs_background": "light"
     },
     "output_type": "display_data"
    }
   ],
   "source": [
    "X['Length_of_current_employment'].hist(label = features[6])\n",
    "plt.legend()"
   ]
  },
  {
   "cell_type": "code",
   "execution_count": null,
   "id": "50e1ec34",
   "metadata": {},
   "outputs": [],
   "source": []
  },
  {
   "cell_type": "code",
   "execution_count": 23,
   "id": "0d7a97a1",
   "metadata": {},
   "outputs": [
    {
     "data": {
      "text/plain": [
       "<AxesSubplot:>"
      ]
     },
     "execution_count": 23,
     "metadata": {},
     "output_type": "execute_result"
    },
    {
     "data": {
      "image/png": "[encoded data removed]",
      "text/plain": [
       "<Figure size 432x288 with 1 Axes>"
      ]
     },
     "metadata": {
      "needs_background": "light"
     },
     "output_type": "display_data"
    }
   ],
   "source": [
    "X['Length_of_current_employment'].hist(label = 'Length_of_current_employment')"
   ]
  },
  {
   "cell_type": "code",
   "execution_count": 24,
   "id": "ba0a63ec",
   "metadata": {},
   "outputs": [
    {
     "data": {
      "text/plain": [
       "<AxesSubplot:>"
      ]
     },
     "execution_count": 24,
     "metadata": {},
     "output_type": "execute_result"
    },
    {
     "data": {
      "image/png": "[encoded data removed]",
      "text/plain": [
       "<Figure size 432x288 with 1 Axes>"
      ]
     },
     "metadata": {
      "needs_background": "light"
     },
     "output_type": "display_data"
    }
   ],
   "source": [
    "X['Guarantors'].hist(label = 'Guarantors')"
   ]
  },
  {
   "cell_type": "code",
   "execution_count": 25,
   "id": "7f403ede",
   "metadata": {},
   "outputs": [
    {
     "data": {
      "text/plain": [
       "<AxesSubplot:>"
      ]
     },
     "execution_count": 25,
     "metadata": {},
     "output_type": "execute_result"
    },
    {
     "data": {
      "image/png": "[encoded data removed]",
      "text/plain": [
       "<Figure size 432x288 with 1 Axes>"
      ]
     },
     "metadata": {
      "needs_background": "light"
     },
     "output_type": "display_data"
    }
   ],
   "source": [
    "X['Most_valuable_available_asset'].hist(label = 'Most_valuable_available_asset')"
   ]
  },
  {
   "cell_type": "code",
   "execution_count": 26,
   "id": "09745550",
   "metadata": {},
   "outputs": [
    {
     "data": {
      "text/plain": [
       "<matplotlib.legend.Legend at 0x2a1af922be0>"
      ]
     },
     "execution_count": 26,
     "metadata": {},
     "output_type": "execute_result"
    },
    {
     "data": {
      "image/png": "[encoded data removed]",
      "text/plain": [
       "<Figure size 432x288 with 1 Axes>"
      ]
     },
     "metadata": {
      "needs_background": "light"
     },
     "output_type": "display_data"
    }
   ],
   "source": [
    "X['Age_years'].hist(label = 'Age_years')\n",
    "plt.legend()"
   ]
  },
  {
   "cell_type": "code",
   "execution_count": 27,
   "id": "f203bef6",
   "metadata": {},
   "outputs": [
    {
     "data": {
      "text/plain": [
       "<matplotlib.legend.Legend at 0x2a1aec24820>"
      ]
     },
     "execution_count": 27,
     "metadata": {},
     "output_type": "execute_result"
    },
    {
     "data": {
      "image/png": "[encoded data removed]",
      "text/plain": [
       "<Figure size 432x288 with 1 Axes>"
      ]
     },
     "metadata": {
      "needs_background": "light"
     },
     "output_type": "display_data"
    }
   ],
   "source": [
    "X['Concurrent_Credits'].hist(label = 'Concurrent_Credits')\n",
    "plt.legend()"
   ]
  },
  {
   "cell_type": "code",
   "execution_count": 28,
   "id": "9ff76d05",
   "metadata": {},
   "outputs": [
    {
     "data": {
      "text/plain": [
       "<matplotlib.legend.Legend at 0x2a1af54da90>"
      ]
     },
     "execution_count": 28,
     "metadata": {},
     "output_type": "execute_result"
    },
    {
     "data": {
      "image/png": "[encoded data removed]",
      "text/plain": [
       "<Figure size 432x288 with 1 Axes>"
      ]
     },
     "metadata": {
      "needs_background": "light"
     },
     "output_type": "display_data"
    }
   ],
   "source": [
    "X['No_of_Credits_at_this_Bank'].hist(label = 'No_of_Credits_at_this_Bank')\n",
    "plt.legend()"
   ]
  },
  {
   "cell_type": "code",
   "execution_count": 29,
   "id": "b5961c6c",
   "metadata": {},
   "outputs": [
    {
     "data": {
      "text/plain": [
       "<matplotlib.legend.Legend at 0x2a1aec7d550>"
      ]
     },
     "execution_count": 29,
     "metadata": {},
     "output_type": "execute_result"
    },
    {
     "data": {
      "image/png": "[encoded data removed]",
      "text/plain": [
       "<Figure size 432x288 with 1 Axes>"
      ]
     },
     "metadata": {
      "needs_background": "light"
     },
     "output_type": "display_data"
    }
   ],
   "source": [
    "X['Occupation'].hist(label = 'Occupation')\n",
    "plt.legend()"
   ]
  },
  {
   "cell_type": "code",
   "execution_count": 30,
   "id": "2ddce97c",
   "metadata": {},
   "outputs": [
    {
     "data": {
      "text/plain": [
       "<AxesSubplot:xlabel='Age_years', ylabel='Credit_Amount'>"
      ]
     },
     "execution_count": 30,
     "metadata": {},
     "output_type": "execute_result"
    },
    {
     "data": {
      "image/png": "[encoded data removed]",
      "text/plain": [
       "<Figure size 432x288 with 1 Axes>"
      ]
     },
     "metadata": {
      "needs_background": "light"
     },
     "output_type": "display_data"
    }
   ],
   "source": [
    "sns.regplot(x = X['Age_years'], y = X['Credit_Amount'])"
   ]
  },
  {
   "cell_type": "markdown",
   "id": "4284496c",
   "metadata": {},
   "source": [
    "## Predictive Modelling"
   ]
  },
  {
   "cell_type": "code",
   "execution_count": 31,
   "id": "f28e88c9",
   "metadata": {},
   "outputs": [],
   "source": [
    "# Tree-based\n",
    "from sklearn.tree import DecisionTreeClassifier\n",
    "from sklearn.ensemble import RandomForestClassifier\n",
    "\n",
    "# LogisticRegression\n",
    "from sklearn.linear_model import LogisticRegression\n",
    "\n",
    "# Distance-based\n",
    "from sklearn.svm import SVC\n",
    "from sklearn.neighbors import KNeighborsClassifier\n",
    "\n",
    "# Preprocessing \n",
    "from sklearn.preprocessing import StandardScaler\n",
    "from sklearn.model_selection import train_test_split\n",
    "\n",
    "# Model Validation\n",
    "from sklearn import metrics"
   ]
  },
  {
   "cell_type": "code",
   "execution_count": 32,
   "id": "b03d71ee",
   "metadata": {},
   "outputs": [],
   "source": [
    "X_train, X_valid, y_train, y_valid = train_test_split(X, y, test_size = 0.2)"
   ]
  },
  {
   "cell_type": "markdown",
   "id": "0f01dba5",
   "metadata": {},
   "source": [
    "+ ## DecisionTree"
   ]
  },
  {
   "cell_type": "code",
   "execution_count": 33,
   "id": "bc4c832c",
   "metadata": {},
   "outputs": [
    {
     "data": {
      "text/plain": [
       "DecisionTreeClassifier(random_state=0)"
      ]
     },
     "execution_count": 33,
     "metadata": {},
     "output_type": "execute_result"
    }
   ],
   "source": [
    "model_dt = DecisionTreeClassifier(random_state = 0)\n",
    "model_dt.fit(X_train, y_train)"
   ]
  },
  {
   "cell_type": "code",
   "execution_count": 34,
   "id": "3dccfb6c",
   "metadata": {},
   "outputs": [
    {
     "name": "stdout",
     "output_type": "stream",
     "text": [
      "DecisionTree Accuracy: 0.655\n",
      "              precision    recall  f1-score   support\n",
      "\n",
      "           0       0.46      0.47      0.47        64\n",
      "           1       0.75      0.74      0.75       136\n",
      "\n",
      "    accuracy                           0.66       200\n",
      "   macro avg       0.60      0.61      0.61       200\n",
      "weighted avg       0.66      0.66      0.66       200\n",
      "\n"
     ]
    }
   ],
   "source": [
    "preds_dt = model_dt.predict(X_valid)\n",
    "acc_score = metrics.accuracy_score(y_valid, preds_dt)\n",
    "print(f'DecisionTree Accuracy: {acc_score}')\n",
    "\n",
    "class_report = metrics.classification_report(y_valid, preds_dt)\n",
    "print(class_report)"
   ]
  },
  {
   "cell_type": "markdown",
   "id": "f0442f9f",
   "metadata": {},
   "source": [
    "+ ## RandomForest"
   ]
  },
  {
   "cell_type": "code",
   "execution_count": 35,
   "id": "a13c6054",
   "metadata": {},
   "outputs": [
    {
     "data": {
      "text/plain": [
       "RandomForestClassifier(random_state=11)"
      ]
     },
     "execution_count": 35,
     "metadata": {},
     "output_type": "execute_result"
    }
   ],
   "source": [
    "model_rf = RandomForestClassifier(random_state = 11)\n",
    "model_rf.fit(X_train, y_train)"
   ]
  },
  {
   "cell_type": "code",
   "execution_count": 36,
   "id": "28191fd0",
   "metadata": {},
   "outputs": [
    {
     "name": "stdout",
     "output_type": "stream",
     "text": [
      "RandomForest Accuracy: 0.735\n",
      "              precision    recall  f1-score   support\n",
      "\n",
      "           0       0.65      0.38      0.48        64\n",
      "           1       0.75      0.90      0.82       136\n",
      "\n",
      "    accuracy                           0.73       200\n",
      "   macro avg       0.70      0.64      0.65       200\n",
      "weighted avg       0.72      0.73      0.71       200\n",
      "\n"
     ]
    }
   ],
   "source": [
    "preds_rf = model_rf.predict(X_valid)\n",
    "acc_score = metrics.accuracy_score(y_valid, preds_rf)\n",
    "print(f'RandomForest Accuracy: {acc_score}')\n",
    "\n",
    "class_report = metrics.classification_report(y_valid, preds_rf)\n",
    "print(class_report)"
   ]
  },
  {
   "cell_type": "markdown",
   "id": "6b95d125",
   "metadata": {},
   "source": [
    "+ ## LogisticRegression"
   ]
  },
  {
   "cell_type": "code",
   "execution_count": 37,
   "id": "960faf3e",
   "metadata": {},
   "outputs": [
    {
     "data": {
      "text/plain": [
       "LogisticRegression(max_iter=1000)"
      ]
     },
     "execution_count": 37,
     "metadata": {},
     "output_type": "execute_result"
    }
   ],
   "source": [
    "model_lr = LogisticRegression(max_iter = 1000)\n",
    "model_lr.fit(X_train, y_train)"
   ]
  },
  {
   "cell_type": "code",
   "execution_count": 38,
   "id": "512a7830",
   "metadata": {},
   "outputs": [
    {
     "name": "stdout",
     "output_type": "stream",
     "text": [
      "LogisticRegression Accuracy: 0.74\n",
      "              precision    recall  f1-score   support\n",
      "\n",
      "           0       0.67      0.38      0.48        64\n",
      "           1       0.76      0.91      0.83       136\n",
      "\n",
      "    accuracy                           0.74       200\n",
      "   macro avg       0.71      0.64      0.65       200\n",
      "weighted avg       0.73      0.74      0.72       200\n",
      "\n"
     ]
    }
   ],
   "source": [
    "preds_lr = model_lr.predict(X_valid)\n",
    "acc_score = metrics.accuracy_score(y_valid, preds_lr)\n",
    "print(f'LogisticRegression Accuracy: {acc_score}')\n",
    "\n",
    "class_report = metrics.classification_report(y_valid, preds_lr)\n",
    "print(class_report)"
   ]
  },
  {
   "cell_type": "code",
   "execution_count": null,
   "id": "f1c6ec88",
   "metadata": {},
   "outputs": [],
   "source": []
  },
  {
   "cell_type": "markdown",
   "id": "f15539b7",
   "metadata": {},
   "source": [
    "+ ## SupportVector"
   ]
  },
  {
   "cell_type": "code",
   "execution_count": 39,
   "id": "d97733ca",
   "metadata": {},
   "outputs": [
    {
     "data": {
      "text/plain": [
       "SVC()"
      ]
     },
     "execution_count": 39,
     "metadata": {},
     "output_type": "execute_result"
    }
   ],
   "source": [
    "model_svc = SVC()\n",
    "model_svc.fit(X_train, y_train)"
   ]
  },
  {
   "cell_type": "code",
   "execution_count": 40,
   "id": "6c47a7f6",
   "metadata": {},
   "outputs": [
    {
     "name": "stdout",
     "output_type": "stream",
     "text": [
      "SupportVector Accuracy: 0.7\n",
      "              precision    recall  f1-score   support\n",
      "\n",
      "           0       0.83      0.08      0.14        64\n",
      "           1       0.70      0.99      0.82       136\n",
      "\n",
      "    accuracy                           0.70       200\n",
      "   macro avg       0.76      0.54      0.48       200\n",
      "weighted avg       0.74      0.70      0.60       200\n",
      "\n"
     ]
    }
   ],
   "source": [
    "preds_svc = model_svc.predict(X_valid)\n",
    "acc_score = metrics.accuracy_score(y_valid, preds_svc)\n",
    "print(f'SupportVector Accuracy: {acc_score}')\n",
    "\n",
    "class_report = metrics.classification_report(y_valid, preds_svc)\n",
    "print(class_report)"
   ]
  },
  {
   "cell_type": "code",
   "execution_count": null,
   "id": "76fc49b4",
   "metadata": {},
   "outputs": [],
   "source": []
  },
  {
   "cell_type": "code",
   "execution_count": null,
   "id": "ef853fd9",
   "metadata": {},
   "outputs": [],
   "source": []
  },
  {
   "cell_type": "markdown",
   "id": "6b1dce06",
   "metadata": {},
   "source": [
    "+ ## KNeighbors"
   ]
  },
  {
   "cell_type": "code",
   "execution_count": 41,
   "id": "daef47bd",
   "metadata": {},
   "outputs": [
    {
     "data": {
      "text/plain": [
       "KNeighborsClassifier()"
      ]
     },
     "execution_count": 41,
     "metadata": {},
     "output_type": "execute_result"
    }
   ],
   "source": [
    "model_knn = KNeighborsClassifier()\n",
    "model_knn.fit(X_train, y_train)"
   ]
  },
  {
   "cell_type": "code",
   "execution_count": 42,
   "id": "8205b90e",
   "metadata": {},
   "outputs": [
    {
     "name": "stdout",
     "output_type": "stream",
     "text": [
      "KNeighbors Accuracy: 0.675\n",
      "\n",
      "               precision    recall  f1-score   support\n",
      "\n",
      "           0       0.48      0.22      0.30        64\n",
      "           1       0.71      0.89      0.79       136\n",
      "\n",
      "    accuracy                           0.68       200\n",
      "   macro avg       0.60      0.55      0.54       200\n",
      "weighted avg       0.64      0.68      0.63       200\n",
      "\n"
     ]
    }
   ],
   "source": [
    "preds_knn = model_knn.predict(X_valid)\n",
    "acc_score = metrics.accuracy_score(y_valid, preds_knn)\n",
    "print(f'KNeighbors Accuracy: {acc_score}')\n",
    "\n",
    "class_report = metrics.classification_report(y_valid, preds_knn)\n",
    "print('\\n', class_report)"
   ]
  },
  {
   "cell_type": "markdown",
   "id": "74620acd",
   "metadata": {},
   "source": [
    "## Boosting Techniques\n",
    "+ Xtreme Gradient Boosting\n",
    "+ LightGradient Boosting"
   ]
  },
  {
   "cell_type": "code",
   "execution_count": 43,
   "id": "a95b498b",
   "metadata": {},
   "outputs": [],
   "source": [
    "from xgboost import XGBClassifier\n",
    "import lightgbm as lgb"
   ]
  },
  {
   "cell_type": "code",
   "execution_count": 44,
   "id": "48b1ba82",
   "metadata": {},
   "outputs": [
    {
     "name": "stdout",
     "output_type": "stream",
     "text": [
      "[13:56:27] WARNING: ..\\src\\learner.cc:1095: Starting in XGBoost 1.3.0, the default evaluation metric used with the objective 'binary:logistic' was changed from 'error' to 'logloss'. Explicitly set eval_metric if you'd like to restore the old behavior.\n"
     ]
    },
    {
     "data": {
      "text/plain": [
       "XGBClassifier(base_score=0.5, booster='gbtree', colsample_bylevel=1,\n",
       "              colsample_bynode=1, colsample_bytree=1, gamma=0, gpu_id=-1,\n",
       "              importance_type='gain', interaction_constraints='',\n",
       "              learning_rate=0.300000012, max_delta_step=0, max_depth=6,\n",
       "              min_child_weight=1, missing=nan, monotone_constraints='()',\n",
       "              n_estimators=100, n_jobs=4, num_parallel_tree=1, random_state=0,\n",
       "              reg_alpha=0, reg_lambda=1, scale_pos_weight=1, subsample=1,\n",
       "              tree_method='exact', use_label_encoder=False,\n",
       "              validate_parameters=1, verbosity=None)"
      ]
     },
     "execution_count": 44,
     "metadata": {},
     "output_type": "execute_result"
    }
   ],
   "source": [
    "model_xgb = XGBClassifier(use_label_encoder = False)\n",
    "\n",
    "model_xgb.fit(X_train, y_train)"
   ]
  },
  {
   "cell_type": "code",
   "execution_count": 45,
   "id": "64c7791d",
   "metadata": {},
   "outputs": [
    {
     "name": "stdout",
     "output_type": "stream",
     "text": [
      "XGB Accuracy:  0.74\n"
     ]
    },
    {
     "name": "stderr",
     "output_type": "stream",
     "text": [
      "C:\\Users\\HP\\anaconda3\\lib\\site-packages\\xgboost\\data.py:112: UserWarning: Use subset (sliced data) of np.ndarray is not recommended because it will generate extra copies and increase memory consumption\n",
      "  warnings.warn(\n"
     ]
    }
   ],
   "source": [
    "preds_xgb = model_xgb.predict(X_valid)\n",
    "\n",
    "# Accuracy\n",
    "acc_xgb = metrics.accuracy_score(y_valid, preds_xgb)\n",
    "\n",
    "print('XGB Accuracy: ', acc_xgb)"
   ]
  },
  {
   "cell_type": "code",
   "execution_count": null,
   "id": "fe7eb9e9",
   "metadata": {},
   "outputs": [],
   "source": []
  },
  {
   "cell_type": "code",
   "execution_count": 46,
   "id": "2d428d42",
   "metadata": {},
   "outputs": [],
   "source": [
    "param = {'num_leaves': 8, 'objective': 'binary', 'metrci': 'auc'}\n",
    "\n",
    "num_rounds = 1000\n",
    "\n",
    "dtrain = lgb.Dataset(X_train, y_train)\n",
    "dvalid = lgb.Dataset(X_valid, y_valid)"
   ]
  },
  {
   "cell_type": "code",
   "execution_count": 47,
   "id": "5d84fb89",
   "metadata": {},
   "outputs": [
    {
     "name": "stdout",
     "output_type": "stream",
     "text": [
      "[LightGBM] [Warning] Unknown parameter: metrci\n",
      "[LightGBM] [Warning] Unknown parameter: metrci\n",
      "[LightGBM] [Info] Number of positive: 564, number of negative: 236\n",
      "[LightGBM] [Warning] Auto-choosing row-wise multi-threading, the overhead of testing was 0.000687 seconds.\n",
      "You can set `force_row_wise=true` to remove the overhead.\n",
      "And if memory is not enough, you can set `force_col_wise=true`.\n",
      "[LightGBM] [Info] Total Bins 415\n",
      "[LightGBM] [Info] Number of data points in the train set: 800, number of used features: 20\n",
      "[LightGBM] [Warning] Unknown parameter: metrci\n",
      "[LightGBM] [Info] [binary:BoostFromScore]: pavg=0.705000 -> initscore=0.871222\n",
      "[LightGBM] [Info] Start training from score 0.871222\n",
      "[1]\tvalid_0's binary_logloss: 0.609077\n",
      "Training until validation scores don't improve for 20 rounds\n",
      "[2]\tvalid_0's binary_logloss: 0.595082\n",
      "[3]\tvalid_0's binary_logloss: 0.584535\n",
      "[4]\tvalid_0's binary_logloss: 0.575239\n",
      "[5]\tvalid_0's binary_logloss: 0.569551\n",
      "[6]\tvalid_0's binary_logloss: 0.563354\n",
      "[7]\tvalid_0's binary_logloss: 0.556444\n",
      "[8]\tvalid_0's binary_logloss: 0.554419\n",
      "[9]\tvalid_0's binary_logloss: 0.552348\n",
      "[10]\tvalid_0's binary_logloss: 0.550751\n",
      "[11]\tvalid_0's binary_logloss: 0.548083\n",
      "[12]\tvalid_0's binary_logloss: 0.543865\n",
      "[13]\tvalid_0's binary_logloss: 0.541863\n",
      "[14]\tvalid_0's binary_logloss: 0.540941\n",
      "[15]\tvalid_0's binary_logloss: 0.538891\n",
      "[16]\tvalid_0's binary_logloss: 0.540828\n",
      "[17]\tvalid_0's binary_logloss: 0.539976\n",
      "[18]\tvalid_0's binary_logloss: 0.534801\n",
      "[19]\tvalid_0's binary_logloss: 0.533505\n",
      "[20]\tvalid_0's binary_logloss: 0.531881\n",
      "[21]\tvalid_0's binary_logloss: 0.530439\n",
      "[22]\tvalid_0's binary_logloss: 0.528203\n",
      "[23]\tvalid_0's binary_logloss: 0.527095\n",
      "[24]\tvalid_0's binary_logloss: 0.526441\n",
      "[25]\tvalid_0's binary_logloss: 0.523536\n",
      "[26]\tvalid_0's binary_logloss: 0.522966\n",
      "[27]\tvalid_0's binary_logloss: 0.522046\n",
      "[28]\tvalid_0's binary_logloss: 0.519043\n",
      "[29]\tvalid_0's binary_logloss: 0.519007\n",
      "[30]\tvalid_0's binary_logloss: 0.519031\n",
      "[31]\tvalid_0's binary_logloss: 0.518193\n",
      "[32]\tvalid_0's binary_logloss: 0.515227\n",
      "[33]\tvalid_0's binary_logloss: 0.516637\n",
      "[34]\tvalid_0's binary_logloss: 0.51592\n",
      "[35]\tvalid_0's binary_logloss: 0.516793\n",
      "[36]\tvalid_0's binary_logloss: 0.513885\n",
      "[37]\tvalid_0's binary_logloss: 0.514737\n",
      "[38]\tvalid_0's binary_logloss: 0.515729\n",
      "[39]\tvalid_0's binary_logloss: 0.514532\n",
      "[40]\tvalid_0's binary_logloss: 0.514821\n",
      "[41]\tvalid_0's binary_logloss: 0.5154\n",
      "[42]\tvalid_0's binary_logloss: 0.516146\n",
      "[43]\tvalid_0's binary_logloss: 0.516718\n",
      "[44]\tvalid_0's binary_logloss: 0.516185\n",
      "[45]\tvalid_0's binary_logloss: 0.516767\n",
      "[46]\tvalid_0's binary_logloss: 0.517249\n",
      "[47]\tvalid_0's binary_logloss: 0.518427\n",
      "[48]\tvalid_0's binary_logloss: 0.520057\n",
      "[49]\tvalid_0's binary_logloss: 0.51966\n",
      "[50]\tvalid_0's binary_logloss: 0.51986\n",
      "[51]\tvalid_0's binary_logloss: 0.521047\n",
      "[52]\tvalid_0's binary_logloss: 0.523108\n",
      "[53]\tvalid_0's binary_logloss: 0.520798\n",
      "[54]\tvalid_0's binary_logloss: 0.521116\n",
      "[55]\tvalid_0's binary_logloss: 0.521703\n",
      "[56]\tvalid_0's binary_logloss: 0.520673\n",
      "Early stopping, best iteration is:\n",
      "[36]\tvalid_0's binary_logloss: 0.513885\n"
     ]
    }
   ],
   "source": [
    "model_lgb = lgb.train(param, dtrain, num_rounds, valid_sets = [dvalid],\n",
    "                     early_stopping_rounds = 20)"
   ]
  },
  {
   "cell_type": "code",
   "execution_count": 48,
   "id": "9c893807",
   "metadata": {},
   "outputs": [
    {
     "data": {
      "text/plain": [
       "array([0.87843194, 0.36896395, 0.69261981, 0.20284134, 0.93629375,\n",
       "       0.54879782, 0.33984858, 0.84305214, 0.88272134, 0.19704033,\n",
       "       0.82456659, 0.9220885 , 0.81671984, 0.6641329 , 0.60212833,\n",
       "       0.90364758, 0.57810538, 0.64687321, 0.75507271, 0.44529708,\n",
       "       0.30245136, 0.39003812, 0.52951411, 0.59431684, 0.3034543 ,\n",
       "       0.53427489, 0.4752769 , 0.50480013, 0.90950142, 0.87444039,\n",
       "       0.90157263, 0.8375359 , 0.85390577, 0.88764428, 0.25351939,\n",
       "       0.49476895, 0.14307809, 0.32633053, 0.75033839, 0.85905921,\n",
       "       0.88922681, 0.93839351, 0.91487644, 0.73055653, 0.69433926,\n",
       "       0.74789634, 0.31089025, 0.85141925, 0.64306044, 0.90248025,\n",
       "       0.8843483 , 0.86836611, 0.80129252, 0.8700088 , 0.79742499,\n",
       "       0.79052238, 0.69396863, 0.84092312, 0.30549644, 0.93939277,\n",
       "       0.7412605 , 0.82047522, 0.90304538, 0.91702104, 0.68547557,\n",
       "       0.61935167, 0.93649074, 0.79170494, 0.85025063, 0.73188161,\n",
       "       0.91668374, 0.77457457, 0.73373632, 0.84768441, 0.25574779,\n",
       "       0.71132671, 0.86618743, 0.91768919, 0.92337956, 0.50458455,\n",
       "       0.82424745, 0.35727872, 0.32646929, 0.9337975 , 0.49219078,\n",
       "       0.79875104, 0.70798982, 0.73820151, 0.86710378, 0.92944539,\n",
       "       0.61974405, 0.92449549, 0.23253837, 0.89321161, 0.85676678,\n",
       "       0.75766005, 0.48068422, 0.83813931, 0.75170965, 0.42549984,\n",
       "       0.86915539, 0.60865973, 0.32774361, 0.62814546, 0.80941537,\n",
       "       0.54606597, 0.81164733, 0.65624518, 0.95585776, 0.87364506,\n",
       "       0.56311954, 0.90012604, 0.31600162, 0.39865535, 0.73935825,\n",
       "       0.90403941, 0.49110426, 0.70406604, 0.86826467, 0.79007333,\n",
       "       0.36583901, 0.79270335, 0.90466746, 0.75364267, 0.72476882,\n",
       "       0.16779331, 0.75291845, 0.24325122, 0.86557609, 0.6584156 ,\n",
       "       0.60865197, 0.72679635, 0.90585177, 0.76355131, 0.9029241 ,\n",
       "       0.83210739, 0.76546897, 0.90546755, 0.89963737, 0.38526863,\n",
       "       0.93900498, 0.88332876, 0.89204665, 0.92100723, 0.76958594,\n",
       "       0.93290191, 0.88929081, 0.57138876, 0.70862158, 0.39327911,\n",
       "       0.76796744, 0.80774162, 0.92973071, 0.87943973, 0.89830406,\n",
       "       0.43933175, 0.61620552, 0.3556385 , 0.91269444, 0.60634372,\n",
       "       0.38666534, 0.84192308, 0.62245025, 0.85970094, 0.64397775,\n",
       "       0.90738894, 0.92451356, 0.45820922, 0.77437893, 0.89966536,\n",
       "       0.74666228, 0.80740264, 0.8067078 , 0.91428689, 0.68722594,\n",
       "       0.68113632, 0.66583746, 0.85253718, 0.38682571, 0.9252185 ,\n",
       "       0.91701145, 0.59633984, 0.87241175, 0.62940621, 0.94943075,\n",
       "       0.83098753, 0.85476479, 0.91625771, 0.72133433, 0.5842947 ,\n",
       "       0.48482575, 0.54515358, 0.70752651, 0.44308359, 0.89742727,\n",
       "       0.9000621 , 0.84484658, 0.83082235, 0.6833368 , 0.83313621])"
      ]
     },
     "execution_count": 48,
     "metadata": {},
     "output_type": "execute_result"
    }
   ],
   "source": [
    "preds_lgb = model_lgb.predict(X_valid)\n",
    "preds_lgb"
   ]
  },
  {
   "cell_type": "code",
   "execution_count": 49,
   "id": "4b39d656",
   "metadata": {},
   "outputs": [
    {
     "name": "stdout",
     "output_type": "stream",
     "text": [
      "[1, 0, 1, 0, 1, 1, 0, 1, 1, 0, 1, 1, 1, 1, 1, 1, 1, 1, 1, 0, 0, 0, 1, 1, 0, 1, 0, 1, 1, 1, 1, 1, 1, 1, 0, 0, 0, 0, 1, 1, 1, 1, 1, 1, 1, 1, 0, 1, 1, 1, 1, 1, 1, 1, 1, 1, 1, 1, 0, 1, 1, 1, 1, 1, 1, 1, 1, 1, 1, 1, 1, 1, 1, 1, 0, 1, 1, 1, 1, 1, 1, 0, 0, 1, 0, 1, 1, 1, 1, 1, 1, 1, 0, 1, 1, 1, 0, 1, 1, 0, 1, 1, 0, 1, 1, 1, 1, 1, 1, 1, 1, 1, 0, 0, 1, 1, 0, 1, 1, 1, 0, 1, 1, 1, 1, 0, 1, 0, 1, 1, 1, 1, 1, 1, 1, 1, 1, 1, 1, 0, 1, 1, 1, 1, 1, 1, 1, 1, 1, 0, 1, 1, 1, 1, 1, 0, 1, 0, 1, 1, 0, 1, 1, 1, 1, 1, 1, 0, 1, 1, 1, 1, 1, 1, 1, 1, 1, 1, 0, 1, 1, 1, 1, 1, 1, 1, 1, 1, 1, 1, 0, 1, 1, 0, 1, 1, 1, 1, 1, 1]\n"
     ]
    }
   ],
   "source": [
    "p_lgb = []\n",
    "for i in preds_lgb:\n",
    "    if i >= 0.5:\n",
    "        i = 1\n",
    "        p_lgb.append(i)\n",
    "    else:\n",
    "        i = 0\n",
    "        p_lgb.append(i)\n",
    "        \n",
    "print(p_lgb)"
   ]
  },
  {
   "cell_type": "code",
   "execution_count": 50,
   "id": "6abed554",
   "metadata": {},
   "outputs": [
    {
     "name": "stdout",
     "output_type": "stream",
     "text": [
      "LGB Accuracy:  0.76\n"
     ]
    }
   ],
   "source": [
    "# Accuracy \n",
    "acc_lgb = metrics.accuracy_score(y_valid, p_lgb)\n",
    "\n",
    "print('LGB Accuracy: ', acc_lgb)"
   ]
  },
  {
   "cell_type": "code",
   "execution_count": null,
   "id": "7b3527ae",
   "metadata": {},
   "outputs": [],
   "source": []
  },
  {
   "cell_type": "markdown",
   "id": "fce412d7",
   "metadata": {},
   "source": [
    "## Deep Learning\n",
    "+ Deep Neural Networks using Tensorflow and Keras"
   ]
  },
  {
   "cell_type": "code",
   "execution_count": 51,
   "id": "5ec55200",
   "metadata": {},
   "outputs": [],
   "source": [
    "from tensorflow.keras import Sequential, layers, callbacks"
   ]
  },
  {
   "cell_type": "code",
   "execution_count": 52,
   "id": "b3c0f4ab",
   "metadata": {},
   "outputs": [],
   "source": [
    "model_dnn = Sequential([\n",
    "    layers.Dense(224, activation = 'relu', input_shape = [20]),\n",
    "    layers.BatchNormalization(),\n",
    "    layers.Dense(124, activation = 'relu'),\n",
    "    layers.Dense(124, activation = 'relu'),\n",
    "    layers.Dense(1, activation = 'sigmoid')\n",
    "])\n",
    "\n",
    "model_dnn.compile(optimizer = 'adam', loss = 'binary_crossentropy')"
   ]
  },
  {
   "cell_type": "code",
   "execution_count": 53,
   "id": "89ba15fd",
   "metadata": {},
   "outputs": [],
   "source": [
    "early_stopping = callbacks.EarlyStopping(\n",
    "    min_delta = 0.001, \n",
    "    patience = 20,\n",
    "    restore_best_weights = True\n",
    ")"
   ]
  },
  {
   "cell_type": "code",
   "execution_count": 54,
   "id": "03f638a5",
   "metadata": {},
   "outputs": [
    {
     "name": "stdout",
     "output_type": "stream",
     "text": [
      "Epoch 1/1000\n",
      "7/7 [==============================] - 1s 127ms/step - loss: 0.6400 - val_loss: 1.3431\n",
      "Epoch 2/1000\n",
      "7/7 [==============================] - 0s 19ms/step - loss: 0.6293 - val_loss: 0.9093\n",
      "Epoch 3/1000\n",
      "7/7 [==============================] - 0s 16ms/step - loss: 0.6071 - val_loss: 0.7248\n",
      "Epoch 4/1000\n",
      "7/7 [==============================] - 0s 8ms/step - loss: 0.6045 - val_loss: 0.6241\n",
      "Epoch 5/1000\n",
      "7/7 [==============================] - 0s 7ms/step - loss: 0.5923 - val_loss: 0.8098\n",
      "Epoch 6/1000\n",
      "7/7 [==============================] - 0s 9ms/step - loss: 0.5742 - val_loss: 0.6463\n",
      "Epoch 7/1000\n",
      "7/7 [==============================] - 0s 8ms/step - loss: 0.5698 - val_loss: 0.6752\n",
      "Epoch 8/1000\n",
      "7/7 [==============================] - 0s 8ms/step - loss: 0.5602 - val_loss: 0.6385\n",
      "Epoch 9/1000\n",
      "7/7 [==============================] - 0s 8ms/step - loss: 0.5547 - val_loss: 0.7330\n",
      "Epoch 10/1000\n",
      "7/7 [==============================] - 0s 9ms/step - loss: 0.5503 - val_loss: 0.6721\n",
      "Epoch 11/1000\n",
      "7/7 [==============================] - 0s 8ms/step - loss: 0.5472 - val_loss: 0.7441\n",
      "Epoch 12/1000\n",
      "7/7 [==============================] - 0s 9ms/step - loss: 0.5545 - val_loss: 0.7285\n",
      "Epoch 13/1000\n",
      "7/7 [==============================] - 0s 8ms/step - loss: 0.5304 - val_loss: 0.8588\n",
      "Epoch 14/1000\n",
      "7/7 [==============================] - 0s 9ms/step - loss: 0.5541 - val_loss: 0.5798\n",
      "Epoch 15/1000\n",
      "7/7 [==============================] - 0s 9ms/step - loss: 0.5499 - val_loss: 0.6884\n",
      "Epoch 16/1000\n",
      "7/7 [==============================] - 0s 9ms/step - loss: 0.5350 - val_loss: 0.6936\n",
      "Epoch 17/1000\n",
      "7/7 [==============================] - 0s 9ms/step - loss: 0.5425 - val_loss: 0.7316\n",
      "Epoch 18/1000\n",
      "7/7 [==============================] - 0s 7ms/step - loss: 0.5312 - val_loss: 0.8232\n",
      "Epoch 19/1000\n",
      "7/7 [==============================] - 0s 7ms/step - loss: 0.5278 - val_loss: 0.9046\n",
      "Epoch 20/1000\n",
      "7/7 [==============================] - 0s 8ms/step - loss: 0.5384 - val_loss: 1.2005\n",
      "Epoch 21/1000\n",
      "7/7 [==============================] - 0s 8ms/step - loss: 0.5348 - val_loss: 1.2167\n",
      "Epoch 22/1000\n",
      "7/7 [==============================] - 0s 8ms/step - loss: 0.5434 - val_loss: 1.1742\n",
      "Epoch 23/1000\n",
      "7/7 [==============================] - 0s 8ms/step - loss: 0.5243 - val_loss: 1.0246\n",
      "Epoch 24/1000\n",
      "7/7 [==============================] - 0s 9ms/step - loss: 0.5162 - val_loss: 1.6058\n",
      "Epoch 25/1000\n",
      "7/7 [==============================] - 0s 9ms/step - loss: 0.5003 - val_loss: 1.5498\n",
      "Epoch 26/1000\n",
      "7/7 [==============================] - 0s 8ms/step - loss: 0.4934 - val_loss: 1.3526\n",
      "Epoch 27/1000\n",
      "7/7 [==============================] - 0s 8ms/step - loss: 0.4899 - val_loss: 1.0722\n",
      "Epoch 28/1000\n",
      "7/7 [==============================] - 0s 7ms/step - loss: 0.4879 - val_loss: 1.1258\n",
      "Epoch 29/1000\n",
      "7/7 [==============================] - 0s 7ms/step - loss: 0.4838 - val_loss: 1.2129\n",
      "Epoch 30/1000\n",
      "7/7 [==============================] - 0s 8ms/step - loss: 0.4961 - val_loss: 0.8794\n",
      "Epoch 31/1000\n",
      "7/7 [==============================] - 0s 8ms/step - loss: 0.5288 - val_loss: 0.7170\n",
      "Epoch 32/1000\n",
      "7/7 [==============================] - 0s 9ms/step - loss: 0.5311 - val_loss: 0.7391\n",
      "Epoch 33/1000\n",
      "7/7 [==============================] - 0s 9ms/step - loss: 0.5197 - val_loss: 0.6939\n",
      "Epoch 34/1000\n",
      "7/7 [==============================] - 0s 9ms/step - loss: 0.4988 - val_loss: 0.8501\n"
     ]
    }
   ],
   "source": [
    "model_dl = model_dnn.fit(X_train, y_train,\n",
    "                      validation_data = (X_valid, y_valid),\n",
    "                      batch_size = 128,\n",
    "                      epochs = 1000,\n",
    "                      callbacks = [early_stopping]\n",
    "                    )"
   ]
  },
  {
   "cell_type": "code",
   "execution_count": 55,
   "id": "33bc9073",
   "metadata": {},
   "outputs": [
    {
     "data": {
      "text/html": [
       "<div>\n",
       "<style scoped>\n",
       "    .dataframe tbody tr th:only-of-type {\n",
       "        vertical-align: middle;\n",
       "    }\n",
       "\n",
       "    .dataframe tbody tr th {\n",
       "        vertical-align: top;\n",
       "    }\n",
       "\n",
       "    .dataframe thead th {\n",
       "        text-align: right;\n",
       "    }\n",
       "</style>\n",
       "<table border=\"1\" class=\"dataframe\">\n",
       "  <thead>\n",
       "    <tr style=\"text-align: right;\">\n",
       "      <th></th>\n",
       "      <th>loss</th>\n",
       "      <th>val_loss</th>\n",
       "    </tr>\n",
       "  </thead>\n",
       "  <tbody>\n",
       "    <tr>\n",
       "      <th>0</th>\n",
       "      <td>0.639997</td>\n",
       "      <td>1.343062</td>\n",
       "    </tr>\n",
       "    <tr>\n",
       "      <th>1</th>\n",
       "      <td>0.629277</td>\n",
       "      <td>0.909303</td>\n",
       "    </tr>\n",
       "    <tr>\n",
       "      <th>2</th>\n",
       "      <td>0.607050</td>\n",
       "      <td>0.724812</td>\n",
       "    </tr>\n",
       "    <tr>\n",
       "      <th>3</th>\n",
       "      <td>0.604547</td>\n",
       "      <td>0.624091</td>\n",
       "    </tr>\n",
       "    <tr>\n",
       "      <th>4</th>\n",
       "      <td>0.592318</td>\n",
       "      <td>0.809791</td>\n",
       "    </tr>\n",
       "  </tbody>\n",
       "</table>\n",
       "</div>"
      ],
      "text/plain": [
       "       loss  val_loss\n",
       "0  0.639997  1.343062\n",
       "1  0.629277  0.909303\n",
       "2  0.607050  0.724812\n",
       "3  0.604547  0.624091\n",
       "4  0.592318  0.809791"
      ]
     },
     "execution_count": 55,
     "metadata": {},
     "output_type": "execute_result"
    }
   ],
   "source": [
    "dl_hist = pd.DataFrame(model_dl.history)\n",
    "dl_hist.head()"
   ]
  },
  {
   "cell_type": "code",
   "execution_count": 56,
   "id": "e74fcde2",
   "metadata": {},
   "outputs": [
    {
     "data": {
      "text/plain": [
       "<AxesSubplot:>"
      ]
     },
     "execution_count": 56,
     "metadata": {},
     "output_type": "execute_result"
    },
    {
     "data": {
      "image/png": "[encoded data removed]",
      "text/plain": [
       "<Figure size 432x288 with 1 Axes>"
      ]
     },
     "metadata": {
      "needs_background": "light"
     },
     "output_type": "display_data"
    }
   ],
   "source": [
    "dl_hist.plot()"
   ]
  },
  {
   "cell_type": "code",
   "execution_count": 57,
   "id": "2fbf9579",
   "metadata": {},
   "outputs": [
    {
     "data": {
      "text/plain": [
       "0.5798099637031555"
      ]
     },
     "execution_count": 57,
     "metadata": {},
     "output_type": "execute_result"
    }
   ],
   "source": [
    "dl_hist.val_loss.min()"
   ]
  },
  {
   "cell_type": "code",
   "execution_count": 58,
   "id": "31d41683",
   "metadata": {},
   "outputs": [
    {
     "data": {
      "text/plain": [
       "array([[0.78152955],\n",
       "       [0.6417809 ],\n",
       "       [0.7427865 ],\n",
       "       [0.2638259 ],\n",
       "       [0.95601344],\n",
       "       [0.71511626],\n",
       "       [0.61552244],\n",
       "       [0.7599521 ],\n",
       "       [0.81283045],\n",
       "       [0.2995907 ]], dtype=float32)"
      ]
     },
     "execution_count": 58,
     "metadata": {},
     "output_type": "execute_result"
    }
   ],
   "source": [
    "preds_dl = model_dnn.predict(X_valid)\n",
    "preds_dl[:10]"
   ]
  },
  {
   "cell_type": "code",
   "execution_count": 59,
   "id": "8f38045c",
   "metadata": {},
   "outputs": [
    {
     "data": {
      "text/html": [
       "<div>\n",
       "<style scoped>\n",
       "    .dataframe tbody tr th:only-of-type {\n",
       "        vertical-align: middle;\n",
       "    }\n",
       "\n",
       "    .dataframe tbody tr th {\n",
       "        vertical-align: top;\n",
       "    }\n",
       "\n",
       "    .dataframe thead th {\n",
       "        text-align: right;\n",
       "    }\n",
       "</style>\n",
       "<table border=\"1\" class=\"dataframe\">\n",
       "  <thead>\n",
       "    <tr style=\"text-align: right;\">\n",
       "      <th></th>\n",
       "      <th>Account_Balance</th>\n",
       "      <th>Duration_of_Credit_monthly</th>\n",
       "      <th>Payment_Status_of_Previous_Credit</th>\n",
       "      <th>Purpose</th>\n",
       "      <th>Credit_Amount</th>\n",
       "      <th>Value_Savings_Stocks</th>\n",
       "      <th>Length_of_current_employment</th>\n",
       "      <th>Instalment_per_cent</th>\n",
       "      <th>Sex_Marital_Status</th>\n",
       "      <th>Guarantors</th>\n",
       "      <th>Duration_in_Current_address</th>\n",
       "      <th>Most_valuable_available_asset</th>\n",
       "      <th>Age_years</th>\n",
       "      <th>Concurrent_Credits</th>\n",
       "      <th>Type_of_apartment</th>\n",
       "      <th>No_of_Credits_at_this_Bank</th>\n",
       "      <th>Occupation</th>\n",
       "      <th>No_of_dependents</th>\n",
       "      <th>Telephone</th>\n",
       "      <th>Foreign_Worker</th>\n",
       "    </tr>\n",
       "  </thead>\n",
       "  <tbody>\n",
       "    <tr>\n",
       "      <th>717</th>\n",
       "      <td>4</td>\n",
       "      <td>24</td>\n",
       "      <td>2</td>\n",
       "      <td>9</td>\n",
       "      <td>4591</td>\n",
       "      <td>4</td>\n",
       "      <td>3</td>\n",
       "      <td>2</td>\n",
       "      <td>3</td>\n",
       "      <td>1</td>\n",
       "      <td>3</td>\n",
       "      <td>2</td>\n",
       "      <td>54</td>\n",
       "      <td>3</td>\n",
       "      <td>2</td>\n",
       "      <td>3</td>\n",
       "      <td>4</td>\n",
       "      <td>1</td>\n",
       "      <td>2</td>\n",
       "      <td>1</td>\n",
       "    </tr>\n",
       "    <tr>\n",
       "      <th>592</th>\n",
       "      <td>1</td>\n",
       "      <td>36</td>\n",
       "      <td>4</td>\n",
       "      <td>2</td>\n",
       "      <td>6229</td>\n",
       "      <td>1</td>\n",
       "      <td>2</td>\n",
       "      <td>4</td>\n",
       "      <td>2</td>\n",
       "      <td>2</td>\n",
       "      <td>4</td>\n",
       "      <td>4</td>\n",
       "      <td>23</td>\n",
       "      <td>3</td>\n",
       "      <td>1</td>\n",
       "      <td>2</td>\n",
       "      <td>2</td>\n",
       "      <td>1</td>\n",
       "      <td>2</td>\n",
       "      <td>1</td>\n",
       "    </tr>\n",
       "    <tr>\n",
       "      <th>82</th>\n",
       "      <td>2</td>\n",
       "      <td>18</td>\n",
       "      <td>2</td>\n",
       "      <td>0</td>\n",
       "      <td>5866</td>\n",
       "      <td>2</td>\n",
       "      <td>3</td>\n",
       "      <td>2</td>\n",
       "      <td>3</td>\n",
       "      <td>1</td>\n",
       "      <td>2</td>\n",
       "      <td>3</td>\n",
       "      <td>30</td>\n",
       "      <td>3</td>\n",
       "      <td>2</td>\n",
       "      <td>2</td>\n",
       "      <td>3</td>\n",
       "      <td>1</td>\n",
       "      <td>2</td>\n",
       "      <td>1</td>\n",
       "    </tr>\n",
       "    <tr>\n",
       "      <th>810</th>\n",
       "      <td>2</td>\n",
       "      <td>48</td>\n",
       "      <td>2</td>\n",
       "      <td>9</td>\n",
       "      <td>15672</td>\n",
       "      <td>1</td>\n",
       "      <td>3</td>\n",
       "      <td>2</td>\n",
       "      <td>3</td>\n",
       "      <td>1</td>\n",
       "      <td>2</td>\n",
       "      <td>3</td>\n",
       "      <td>23</td>\n",
       "      <td>3</td>\n",
       "      <td>2</td>\n",
       "      <td>1</td>\n",
       "      <td>3</td>\n",
       "      <td>1</td>\n",
       "      <td>2</td>\n",
       "      <td>1</td>\n",
       "    </tr>\n",
       "    <tr>\n",
       "      <th>538</th>\n",
       "      <td>4</td>\n",
       "      <td>7</td>\n",
       "      <td>4</td>\n",
       "      <td>3</td>\n",
       "      <td>730</td>\n",
       "      <td>5</td>\n",
       "      <td>5</td>\n",
       "      <td>4</td>\n",
       "      <td>3</td>\n",
       "      <td>1</td>\n",
       "      <td>2</td>\n",
       "      <td>2</td>\n",
       "      <td>46</td>\n",
       "      <td>3</td>\n",
       "      <td>1</td>\n",
       "      <td>2</td>\n",
       "      <td>2</td>\n",
       "      <td>1</td>\n",
       "      <td>2</td>\n",
       "      <td>1</td>\n",
       "    </tr>\n",
       "  </tbody>\n",
       "</table>\n",
       "</div>"
      ],
      "text/plain": [
       "     Account_Balance  Duration_of_Credit_monthly  \\\n",
       "717                4                          24   \n",
       "592                1                          36   \n",
       "82                 2                          18   \n",
       "810                2                          48   \n",
       "538                4                           7   \n",
       "\n",
       "     Payment_Status_of_Previous_Credit  Purpose  Credit_Amount  \\\n",
       "717                                  2        9           4591   \n",
       "592                                  4        2           6229   \n",
       "82                                   2        0           5866   \n",
       "810                                  2        9          15672   \n",
       "538                                  4        3            730   \n",
       "\n",
       "     Value_Savings_Stocks  Length_of_current_employment  Instalment_per_cent  \\\n",
       "717                     4                             3                    2   \n",
       "592                     1                             2                    4   \n",
       "82                      2                             3                    2   \n",
       "810                     1                             3                    2   \n",
       "538                     5                             5                    4   \n",
       "\n",
       "     Sex_Marital_Status  Guarantors  Duration_in_Current_address  \\\n",
       "717                   3           1                            3   \n",
       "592                   2           2                            4   \n",
       "82                    3           1                            2   \n",
       "810                   3           1                            2   \n",
       "538                   3           1                            2   \n",
       "\n",
       "     Most_valuable_available_asset  Age_years  Concurrent_Credits  \\\n",
       "717                              2         54                   3   \n",
       "592                              4         23                   3   \n",
       "82                               3         30                   3   \n",
       "810                              3         23                   3   \n",
       "538                              2         46                   3   \n",
       "\n",
       "     Type_of_apartment  No_of_Credits_at_this_Bank  Occupation  \\\n",
       "717                  2                           3           4   \n",
       "592                  1                           2           2   \n",
       "82                   2                           2           3   \n",
       "810                  2                           1           3   \n",
       "538                  1                           2           2   \n",
       "\n",
       "     No_of_dependents  Telephone  Foreign_Worker  \n",
       "717                 1          2               1  \n",
       "592                 1          2               1  \n",
       "82                  1          2               1  \n",
       "810                 1          2               1  \n",
       "538                 1          2               1  "
      ]
     },
     "execution_count": 59,
     "metadata": {},
     "output_type": "execute_result"
    }
   ],
   "source": [
    "X_valid.head()"
   ]
  },
  {
   "cell_type": "code",
   "execution_count": 60,
   "id": "fad204af",
   "metadata": {},
   "outputs": [
    {
     "data": {
      "text/plain": [
       "717    0\n",
       "592    0\n",
       "82     1\n",
       "810    0\n",
       "538    1\n",
       "957    0\n",
       "689    0\n",
       "744    1\n",
       "359    1\n",
       "929    0\n",
       "Name: Creditability, dtype: int64"
      ]
     },
     "execution_count": 60,
     "metadata": {},
     "output_type": "execute_result"
    }
   ],
   "source": [
    "y_valid.head(10)"
   ]
  },
  {
   "cell_type": "code",
   "execution_count": 61,
   "id": "05c1fd03",
   "metadata": {},
   "outputs": [
    {
     "data": {
      "text/html": [
       "<div>\n",
       "<style scoped>\n",
       "    .dataframe tbody tr th:only-of-type {\n",
       "        vertical-align: middle;\n",
       "    }\n",
       "\n",
       "    .dataframe tbody tr th {\n",
       "        vertical-align: top;\n",
       "    }\n",
       "\n",
       "    .dataframe thead th {\n",
       "        text-align: right;\n",
       "    }\n",
       "</style>\n",
       "<table border=\"1\" class=\"dataframe\">\n",
       "  <thead>\n",
       "    <tr style=\"text-align: right;\">\n",
       "      <th></th>\n",
       "      <th>Creditability</th>\n",
       "      <th>Account_Balance</th>\n",
       "      <th>Duration_of_Credit_monthly</th>\n",
       "      <th>Payment_Status_of_Previous_Credit</th>\n",
       "      <th>Purpose</th>\n",
       "      <th>Credit_Amount</th>\n",
       "      <th>Value_Savings_Stocks</th>\n",
       "      <th>Length_of_current_employment</th>\n",
       "      <th>Instalment_per_cent</th>\n",
       "      <th>Sex_Marital_Status</th>\n",
       "      <th>...</th>\n",
       "      <th>Duration_in_Current_address</th>\n",
       "      <th>Most_valuable_available_asset</th>\n",
       "      <th>Age_years</th>\n",
       "      <th>Concurrent_Credits</th>\n",
       "      <th>Type_of_apartment</th>\n",
       "      <th>No_of_Credits_at_this_Bank</th>\n",
       "      <th>Occupation</th>\n",
       "      <th>No_of_dependents</th>\n",
       "      <th>Telephone</th>\n",
       "      <th>Foreign_Worker</th>\n",
       "    </tr>\n",
       "  </thead>\n",
       "  <tbody>\n",
       "    <tr>\n",
       "      <th>717</th>\n",
       "      <td>0</td>\n",
       "      <td>4</td>\n",
       "      <td>24</td>\n",
       "      <td>2</td>\n",
       "      <td>9</td>\n",
       "      <td>4591</td>\n",
       "      <td>4</td>\n",
       "      <td>3</td>\n",
       "      <td>2</td>\n",
       "      <td>3</td>\n",
       "      <td>...</td>\n",
       "      <td>3</td>\n",
       "      <td>2</td>\n",
       "      <td>54</td>\n",
       "      <td>3</td>\n",
       "      <td>2</td>\n",
       "      <td>3</td>\n",
       "      <td>4</td>\n",
       "      <td>1</td>\n",
       "      <td>2</td>\n",
       "      <td>1</td>\n",
       "    </tr>\n",
       "    <tr>\n",
       "      <th>592</th>\n",
       "      <td>0</td>\n",
       "      <td>1</td>\n",
       "      <td>36</td>\n",
       "      <td>4</td>\n",
       "      <td>2</td>\n",
       "      <td>6229</td>\n",
       "      <td>1</td>\n",
       "      <td>2</td>\n",
       "      <td>4</td>\n",
       "      <td>2</td>\n",
       "      <td>...</td>\n",
       "      <td>4</td>\n",
       "      <td>4</td>\n",
       "      <td>23</td>\n",
       "      <td>3</td>\n",
       "      <td>1</td>\n",
       "      <td>2</td>\n",
       "      <td>2</td>\n",
       "      <td>1</td>\n",
       "      <td>2</td>\n",
       "      <td>1</td>\n",
       "    </tr>\n",
       "    <tr>\n",
       "      <th>82</th>\n",
       "      <td>1</td>\n",
       "      <td>2</td>\n",
       "      <td>18</td>\n",
       "      <td>2</td>\n",
       "      <td>0</td>\n",
       "      <td>5866</td>\n",
       "      <td>2</td>\n",
       "      <td>3</td>\n",
       "      <td>2</td>\n",
       "      <td>3</td>\n",
       "      <td>...</td>\n",
       "      <td>2</td>\n",
       "      <td>3</td>\n",
       "      <td>30</td>\n",
       "      <td>3</td>\n",
       "      <td>2</td>\n",
       "      <td>2</td>\n",
       "      <td>3</td>\n",
       "      <td>1</td>\n",
       "      <td>2</td>\n",
       "      <td>1</td>\n",
       "    </tr>\n",
       "    <tr>\n",
       "      <th>810</th>\n",
       "      <td>0</td>\n",
       "      <td>2</td>\n",
       "      <td>48</td>\n",
       "      <td>2</td>\n",
       "      <td>9</td>\n",
       "      <td>15672</td>\n",
       "      <td>1</td>\n",
       "      <td>3</td>\n",
       "      <td>2</td>\n",
       "      <td>3</td>\n",
       "      <td>...</td>\n",
       "      <td>2</td>\n",
       "      <td>3</td>\n",
       "      <td>23</td>\n",
       "      <td>3</td>\n",
       "      <td>2</td>\n",
       "      <td>1</td>\n",
       "      <td>3</td>\n",
       "      <td>1</td>\n",
       "      <td>2</td>\n",
       "      <td>1</td>\n",
       "    </tr>\n",
       "    <tr>\n",
       "      <th>538</th>\n",
       "      <td>1</td>\n",
       "      <td>4</td>\n",
       "      <td>7</td>\n",
       "      <td>4</td>\n",
       "      <td>3</td>\n",
       "      <td>730</td>\n",
       "      <td>5</td>\n",
       "      <td>5</td>\n",
       "      <td>4</td>\n",
       "      <td>3</td>\n",
       "      <td>...</td>\n",
       "      <td>2</td>\n",
       "      <td>2</td>\n",
       "      <td>46</td>\n",
       "      <td>3</td>\n",
       "      <td>1</td>\n",
       "      <td>2</td>\n",
       "      <td>2</td>\n",
       "      <td>1</td>\n",
       "      <td>2</td>\n",
       "      <td>1</td>\n",
       "    </tr>\n",
       "    <tr>\n",
       "      <th>...</th>\n",
       "      <td>...</td>\n",
       "      <td>...</td>\n",
       "      <td>...</td>\n",
       "      <td>...</td>\n",
       "      <td>...</td>\n",
       "      <td>...</td>\n",
       "      <td>...</td>\n",
       "      <td>...</td>\n",
       "      <td>...</td>\n",
       "      <td>...</td>\n",
       "      <td>...</td>\n",
       "      <td>...</td>\n",
       "      <td>...</td>\n",
       "      <td>...</td>\n",
       "      <td>...</td>\n",
       "      <td>...</td>\n",
       "      <td>...</td>\n",
       "      <td>...</td>\n",
       "      <td>...</td>\n",
       "      <td>...</td>\n",
       "      <td>...</td>\n",
       "    </tr>\n",
       "    <tr>\n",
       "      <th>215</th>\n",
       "      <td>1</td>\n",
       "      <td>3</td>\n",
       "      <td>10</td>\n",
       "      <td>2</td>\n",
       "      <td>0</td>\n",
       "      <td>3949</td>\n",
       "      <td>1</td>\n",
       "      <td>2</td>\n",
       "      <td>1</td>\n",
       "      <td>3</td>\n",
       "      <td>...</td>\n",
       "      <td>1</td>\n",
       "      <td>2</td>\n",
       "      <td>37</td>\n",
       "      <td>3</td>\n",
       "      <td>2</td>\n",
       "      <td>1</td>\n",
       "      <td>2</td>\n",
       "      <td>2</td>\n",
       "      <td>1</td>\n",
       "      <td>1</td>\n",
       "    </tr>\n",
       "    <tr>\n",
       "      <th>457</th>\n",
       "      <td>1</td>\n",
       "      <td>2</td>\n",
       "      <td>18</td>\n",
       "      <td>2</td>\n",
       "      <td>9</td>\n",
       "      <td>1941</td>\n",
       "      <td>4</td>\n",
       "      <td>3</td>\n",
       "      <td>4</td>\n",
       "      <td>3</td>\n",
       "      <td>...</td>\n",
       "      <td>2</td>\n",
       "      <td>2</td>\n",
       "      <td>35</td>\n",
       "      <td>3</td>\n",
       "      <td>2</td>\n",
       "      <td>1</td>\n",
       "      <td>2</td>\n",
       "      <td>1</td>\n",
       "      <td>2</td>\n",
       "      <td>1</td>\n",
       "    </tr>\n",
       "    <tr>\n",
       "      <th>469</th>\n",
       "      <td>1</td>\n",
       "      <td>4</td>\n",
       "      <td>12</td>\n",
       "      <td>2</td>\n",
       "      <td>6</td>\n",
       "      <td>1393</td>\n",
       "      <td>1</td>\n",
       "      <td>5</td>\n",
       "      <td>4</td>\n",
       "      <td>3</td>\n",
       "      <td>...</td>\n",
       "      <td>4</td>\n",
       "      <td>2</td>\n",
       "      <td>47</td>\n",
       "      <td>1</td>\n",
       "      <td>2</td>\n",
       "      <td>3</td>\n",
       "      <td>3</td>\n",
       "      <td>2</td>\n",
       "      <td>2</td>\n",
       "      <td>1</td>\n",
       "    </tr>\n",
       "    <tr>\n",
       "      <th>726</th>\n",
       "      <td>1</td>\n",
       "      <td>4</td>\n",
       "      <td>21</td>\n",
       "      <td>2</td>\n",
       "      <td>0</td>\n",
       "      <td>2782</td>\n",
       "      <td>3</td>\n",
       "      <td>4</td>\n",
       "      <td>1</td>\n",
       "      <td>2</td>\n",
       "      <td>...</td>\n",
       "      <td>2</td>\n",
       "      <td>3</td>\n",
       "      <td>31</td>\n",
       "      <td>1</td>\n",
       "      <td>2</td>\n",
       "      <td>1</td>\n",
       "      <td>4</td>\n",
       "      <td>1</td>\n",
       "      <td>1</td>\n",
       "      <td>1</td>\n",
       "    </tr>\n",
       "    <tr>\n",
       "      <th>363</th>\n",
       "      <td>1</td>\n",
       "      <td>4</td>\n",
       "      <td>9</td>\n",
       "      <td>2</td>\n",
       "      <td>2</td>\n",
       "      <td>1388</td>\n",
       "      <td>1</td>\n",
       "      <td>3</td>\n",
       "      <td>4</td>\n",
       "      <td>2</td>\n",
       "      <td>...</td>\n",
       "      <td>2</td>\n",
       "      <td>1</td>\n",
       "      <td>26</td>\n",
       "      <td>3</td>\n",
       "      <td>1</td>\n",
       "      <td>1</td>\n",
       "      <td>3</td>\n",
       "      <td>1</td>\n",
       "      <td>1</td>\n",
       "      <td>1</td>\n",
       "    </tr>\n",
       "  </tbody>\n",
       "</table>\n",
       "<p>200 rows × 21 columns</p>\n",
       "</div>"
      ],
      "text/plain": [
       "     Creditability  Account_Balance  Duration_of_Credit_monthly  \\\n",
       "717              0                4                          24   \n",
       "592              0                1                          36   \n",
       "82               1                2                          18   \n",
       "810              0                2                          48   \n",
       "538              1                4                           7   \n",
       "..             ...              ...                         ...   \n",
       "215              1                3                          10   \n",
       "457              1                2                          18   \n",
       "469              1                4                          12   \n",
       "726              1                4                          21   \n",
       "363              1                4                           9   \n",
       "\n",
       "     Payment_Status_of_Previous_Credit  Purpose  Credit_Amount  \\\n",
       "717                                  2        9           4591   \n",
       "592                                  4        2           6229   \n",
       "82                                   2        0           5866   \n",
       "810                                  2        9          15672   \n",
       "538                                  4        3            730   \n",
       "..                                 ...      ...            ...   \n",
       "215                                  2        0           3949   \n",
       "457                                  2        9           1941   \n",
       "469                                  2        6           1393   \n",
       "726                                  2        0           2782   \n",
       "363                                  2        2           1388   \n",
       "\n",
       "     Value_Savings_Stocks  Length_of_current_employment  Instalment_per_cent  \\\n",
       "717                     4                             3                    2   \n",
       "592                     1                             2                    4   \n",
       "82                      2                             3                    2   \n",
       "810                     1                             3                    2   \n",
       "538                     5                             5                    4   \n",
       "..                    ...                           ...                  ...   \n",
       "215                     1                             2                    1   \n",
       "457                     4                             3                    4   \n",
       "469                     1                             5                    4   \n",
       "726                     3                             4                    1   \n",
       "363                     1                             3                    4   \n",
       "\n",
       "     Sex_Marital_Status  ...  Duration_in_Current_address  \\\n",
       "717                   3  ...                            3   \n",
       "592                   2  ...                            4   \n",
       "82                    3  ...                            2   \n",
       "810                   3  ...                            2   \n",
       "538                   3  ...                            2   \n",
       "..                  ...  ...                          ...   \n",
       "215                   3  ...                            1   \n",
       "457                   3  ...                            2   \n",
       "469                   3  ...                            4   \n",
       "726                   2  ...                            2   \n",
       "363                   2  ...                            2   \n",
       "\n",
       "     Most_valuable_available_asset  Age_years  Concurrent_Credits  \\\n",
       "717                              2         54                   3   \n",
       "592                              4         23                   3   \n",
       "82                               3         30                   3   \n",
       "810                              3         23                   3   \n",
       "538                              2         46                   3   \n",
       "..                             ...        ...                 ...   \n",
       "215                              2         37                   3   \n",
       "457                              2         35                   3   \n",
       "469                              2         47                   1   \n",
       "726                              3         31                   1   \n",
       "363                              1         26                   3   \n",
       "\n",
       "     Type_of_apartment  No_of_Credits_at_this_Bank  Occupation  \\\n",
       "717                  2                           3           4   \n",
       "592                  1                           2           2   \n",
       "82                   2                           2           3   \n",
       "810                  2                           1           3   \n",
       "538                  1                           2           2   \n",
       "..                 ...                         ...         ...   \n",
       "215                  2                           1           2   \n",
       "457                  2                           1           2   \n",
       "469                  2                           3           3   \n",
       "726                  2                           1           4   \n",
       "363                  1                           1           3   \n",
       "\n",
       "     No_of_dependents  Telephone  Foreign_Worker  \n",
       "717                 1          2               1  \n",
       "592                 1          2               1  \n",
       "82                  1          2               1  \n",
       "810                 1          2               1  \n",
       "538                 1          2               1  \n",
       "..                ...        ...             ...  \n",
       "215                 2          1               1  \n",
       "457                 1          2               1  \n",
       "469                 2          2               1  \n",
       "726                 1          1               1  \n",
       "363                 1          1               1  \n",
       "\n",
       "[200 rows x 21 columns]"
      ]
     },
     "execution_count": 61,
     "metadata": {},
     "output_type": "execute_result"
    }
   ],
   "source": [
    "data.loc[X_valid.index]"
   ]
  },
  {
   "cell_type": "code",
   "execution_count": 62,
   "id": "91c073e8",
   "metadata": {},
   "outputs": [],
   "source": [
    "# DNN Accuracy\n",
    "# dl_acc = metrics.accuracy_score(y_valid, preds_dl)\n",
    "# print(dl_acc)"
   ]
  },
  {
   "cell_type": "code",
   "execution_count": 63,
   "id": "48673e0a",
   "metadata": {},
   "outputs": [],
   "source": [
    "tr_pdl = []\n",
    "for elem in preds_dl:\n",
    "    \n",
    "    if elem >= 0.5:\n",
    "        elem = 1\n",
    "        tr_pdl.append(elem)\n",
    "#         print(elem)\n",
    "    else:\n",
    "        elem = 0\n",
    "        tr_pdl.append(elem)\n",
    "#         print(elem)"
   ]
  },
  {
   "cell_type": "code",
   "execution_count": 64,
   "id": "05f61162",
   "metadata": {},
   "outputs": [
    {
     "name": "stdout",
     "output_type": "stream",
     "text": [
      "[1, 1, 1, 0, 1, 1, 1, 1, 1, 0, 1, 1, 1, 1, 1, 1, 1, 1, 1, 1, 1, 1, 1, 1, 1, 1, 1, 1, 1, 1, 1, 1, 1, 1, 1, 1, 0, 1, 1, 1, 1, 1, 1, 1, 1, 1, 0, 1, 0, 1, 1, 1, 1, 1, 1, 1, 1, 1, 1, 1, 1, 1, 1, 1, 1, 1, 1, 1, 1, 1, 1, 1, 1, 1, 0, 1, 1, 1, 1, 1, 1, 0, 1, 1, 1, 1, 1, 1, 1, 1, 1, 1, 1, 1, 1, 1, 1, 1, 0, 1, 1, 1, 1, 0, 1, 1, 1, 1, 1, 1, 1, 1, 1, 1, 1, 1, 1, 1, 1, 1, 1, 1, 1, 1, 1, 1, 1, 1, 1, 1, 1, 1, 1, 1, 1, 1, 1, 1, 1, 1, 1, 1, 1, 1, 1, 1, 1, 1, 1, 1, 1, 1, 1, 1, 1, 1, 1, 1, 1, 1, 1, 1, 1, 1, 1, 1, 1, 1, 1, 1, 1, 1, 1, 1, 1, 1, 1, 1, 1, 1, 1, 1, 1, 1, 1, 1, 1, 1, 1, 1, 1, 1, 1, 1, 1, 1, 1, 1, 1, 1]\n"
     ]
    }
   ],
   "source": [
    "print(tr_pdl)"
   ]
  },
  {
   "cell_type": "code",
   "execution_count": 65,
   "id": "16949e06",
   "metadata": {},
   "outputs": [
    {
     "name": "stdout",
     "output_type": "stream",
     "text": [
      "Deep Neural Networks Accuracy\n"
     ]
    },
    {
     "data": {
      "text/plain": [
       "0.705"
      ]
     },
     "execution_count": 65,
     "metadata": {},
     "output_type": "execute_result"
    }
   ],
   "source": [
    "print('Deep Neural Networks Accuracy')\n",
    "dl_acc = metrics.accuracy_score(y_valid, tr_pdl)\n",
    "dl_acc"
   ]
  },
  {
   "cell_type": "code",
   "execution_count": null,
   "id": "b343de61",
   "metadata": {},
   "outputs": [],
   "source": []
  },
  {
   "cell_type": "markdown",
   "id": "cfa27988",
   "metadata": {},
   "source": [
    "# Using Scaled Data"
   ]
  },
  {
   "cell_type": "code",
   "execution_count": 66,
   "id": "5ce34995",
   "metadata": {},
   "outputs": [],
   "source": [
    "# from mlextend.preprocessing import minmax_scaling"
   ]
  },
  {
   "cell_type": "code",
   "execution_count": 67,
   "id": "7f4a7c53",
   "metadata": {},
   "outputs": [
    {
     "data": {
      "text/plain": [
       "Account_Balance                        1\n",
       "Duration_of_Credit_monthly             4\n",
       "Payment_Status_of_Previous_Credit      0\n",
       "Purpose                                0\n",
       "Credit_Amount                        276\n",
       "Value_Savings_Stocks                   1\n",
       "Length_of_current_employment           1\n",
       "Instalment_per_cent                    1\n",
       "Sex_Marital_Status                     1\n",
       "Guarantors                             1\n",
       "Duration_in_Current_address            1\n",
       "Most_valuable_available_asset          1\n",
       "Age_years                             19\n",
       "Concurrent_Credits                     1\n",
       "Type_of_apartment                      1\n",
       "No_of_Credits_at_this_Bank             1\n",
       "Occupation                             1\n",
       "No_of_dependents                       1\n",
       "Telephone                              1\n",
       "Foreign_Worker                         1\n",
       "dtype: int64"
      ]
     },
     "execution_count": 67,
     "metadata": {},
     "output_type": "execute_result"
    }
   ],
   "source": [
    "min_ = X_train.min(axis = 0)\n",
    "max_ = X_train.max(axis = 0)\n",
    "min_"
   ]
  },
  {
   "cell_type": "code",
   "execution_count": 68,
   "id": "cd95f554",
   "metadata": {},
   "outputs": [
    {
     "data": {
      "text/plain": [
       "Account_Balance                          4\n",
       "Duration_of_Credit_monthly              72\n",
       "Payment_Status_of_Previous_Credit        4\n",
       "Purpose                                 10\n",
       "Credit_Amount                        18424\n",
       "Value_Savings_Stocks                     5\n",
       "Length_of_current_employment             5\n",
       "Instalment_per_cent                      4\n",
       "Sex_Marital_Status                       4\n",
       "Guarantors                               3\n",
       "Duration_in_Current_address              4\n",
       "Most_valuable_available_asset            4\n",
       "Age_years                               75\n",
       "Concurrent_Credits                       3\n",
       "Type_of_apartment                        3\n",
       "No_of_Credits_at_this_Bank               4\n",
       "Occupation                               4\n",
       "No_of_dependents                         2\n",
       "Telephone                                2\n",
       "Foreign_Worker                           2\n",
       "dtype: int64"
      ]
     },
     "execution_count": 68,
     "metadata": {},
     "output_type": "execute_result"
    }
   ],
   "source": [
    "max_"
   ]
  },
  {
   "cell_type": "code",
   "execution_count": 69,
   "id": "a3511df4",
   "metadata": {},
   "outputs": [
    {
     "data": {
      "text/html": [
       "<div>\n",
       "<style scoped>\n",
       "    .dataframe tbody tr th:only-of-type {\n",
       "        vertical-align: middle;\n",
       "    }\n",
       "\n",
       "    .dataframe tbody tr th {\n",
       "        vertical-align: top;\n",
       "    }\n",
       "\n",
       "    .dataframe thead th {\n",
       "        text-align: right;\n",
       "    }\n",
       "</style>\n",
       "<table border=\"1\" class=\"dataframe\">\n",
       "  <thead>\n",
       "    <tr style=\"text-align: right;\">\n",
       "      <th></th>\n",
       "      <th>Account_Balance</th>\n",
       "      <th>Duration_of_Credit_monthly</th>\n",
       "      <th>Payment_Status_of_Previous_Credit</th>\n",
       "      <th>Purpose</th>\n",
       "      <th>Credit_Amount</th>\n",
       "      <th>Value_Savings_Stocks</th>\n",
       "      <th>Length_of_current_employment</th>\n",
       "      <th>Instalment_per_cent</th>\n",
       "      <th>Sex_Marital_Status</th>\n",
       "      <th>Guarantors</th>\n",
       "      <th>Duration_in_Current_address</th>\n",
       "      <th>Most_valuable_available_asset</th>\n",
       "      <th>Age_years</th>\n",
       "      <th>Concurrent_Credits</th>\n",
       "      <th>Type_of_apartment</th>\n",
       "      <th>No_of_Credits_at_this_Bank</th>\n",
       "      <th>Occupation</th>\n",
       "      <th>No_of_dependents</th>\n",
       "      <th>Telephone</th>\n",
       "      <th>Foreign_Worker</th>\n",
       "    </tr>\n",
       "  </thead>\n",
       "  <tbody>\n",
       "    <tr>\n",
       "      <th>769</th>\n",
       "      <td>0.000000</td>\n",
       "      <td>0.161765</td>\n",
       "      <td>0.50</td>\n",
       "      <td>0.4</td>\n",
       "      <td>0.055047</td>\n",
       "      <td>1.0</td>\n",
       "      <td>0.50</td>\n",
       "      <td>1.000000</td>\n",
       "      <td>0.333333</td>\n",
       "      <td>0.0</td>\n",
       "      <td>0.333333</td>\n",
       "      <td>0.666667</td>\n",
       "      <td>0.089286</td>\n",
       "      <td>1.0</td>\n",
       "      <td>0.0</td>\n",
       "      <td>0.000000</td>\n",
       "      <td>0.666667</td>\n",
       "      <td>0.0</td>\n",
       "      <td>0.0</td>\n",
       "      <td>0.0</td>\n",
       "    </tr>\n",
       "    <tr>\n",
       "      <th>702</th>\n",
       "      <td>0.000000</td>\n",
       "      <td>0.205882</td>\n",
       "      <td>0.75</td>\n",
       "      <td>0.6</td>\n",
       "      <td>0.451565</td>\n",
       "      <td>1.0</td>\n",
       "      <td>0.50</td>\n",
       "      <td>0.000000</td>\n",
       "      <td>0.333333</td>\n",
       "      <td>0.0</td>\n",
       "      <td>0.333333</td>\n",
       "      <td>0.666667</td>\n",
       "      <td>0.071429</td>\n",
       "      <td>1.0</td>\n",
       "      <td>0.0</td>\n",
       "      <td>0.333333</td>\n",
       "      <td>0.666667</td>\n",
       "      <td>0.0</td>\n",
       "      <td>1.0</td>\n",
       "      <td>0.0</td>\n",
       "    </tr>\n",
       "    <tr>\n",
       "      <th>553</th>\n",
       "      <td>1.000000</td>\n",
       "      <td>0.088235</td>\n",
       "      <td>0.50</td>\n",
       "      <td>0.8</td>\n",
       "      <td>0.034053</td>\n",
       "      <td>1.0</td>\n",
       "      <td>0.75</td>\n",
       "      <td>1.000000</td>\n",
       "      <td>0.333333</td>\n",
       "      <td>0.0</td>\n",
       "      <td>0.666667</td>\n",
       "      <td>0.333333</td>\n",
       "      <td>0.375000</td>\n",
       "      <td>1.0</td>\n",
       "      <td>0.5</td>\n",
       "      <td>0.000000</td>\n",
       "      <td>0.666667</td>\n",
       "      <td>0.0</td>\n",
       "      <td>1.0</td>\n",
       "      <td>0.0</td>\n",
       "    </tr>\n",
       "    <tr>\n",
       "      <th>760</th>\n",
       "      <td>0.333333</td>\n",
       "      <td>0.647059</td>\n",
       "      <td>0.50</td>\n",
       "      <td>0.3</td>\n",
       "      <td>0.153405</td>\n",
       "      <td>0.0</td>\n",
       "      <td>0.75</td>\n",
       "      <td>1.000000</td>\n",
       "      <td>0.666667</td>\n",
       "      <td>0.0</td>\n",
       "      <td>1.000000</td>\n",
       "      <td>0.000000</td>\n",
       "      <td>0.160714</td>\n",
       "      <td>1.0</td>\n",
       "      <td>0.5</td>\n",
       "      <td>0.333333</td>\n",
       "      <td>0.666667</td>\n",
       "      <td>0.0</td>\n",
       "      <td>0.0</td>\n",
       "      <td>0.0</td>\n",
       "    </tr>\n",
       "    <tr>\n",
       "      <th>38</th>\n",
       "      <td>1.000000</td>\n",
       "      <td>0.205882</td>\n",
       "      <td>0.50</td>\n",
       "      <td>0.1</td>\n",
       "      <td>0.170928</td>\n",
       "      <td>1.0</td>\n",
       "      <td>0.50</td>\n",
       "      <td>0.333333</td>\n",
       "      <td>0.666667</td>\n",
       "      <td>0.0</td>\n",
       "      <td>0.000000</td>\n",
       "      <td>0.333333</td>\n",
       "      <td>0.214286</td>\n",
       "      <td>1.0</td>\n",
       "      <td>0.5</td>\n",
       "      <td>0.000000</td>\n",
       "      <td>0.666667</td>\n",
       "      <td>0.0</td>\n",
       "      <td>1.0</td>\n",
       "      <td>0.0</td>\n",
       "    </tr>\n",
       "    <tr>\n",
       "      <th>...</th>\n",
       "      <td>...</td>\n",
       "      <td>...</td>\n",
       "      <td>...</td>\n",
       "      <td>...</td>\n",
       "      <td>...</td>\n",
       "      <td>...</td>\n",
       "      <td>...</td>\n",
       "      <td>...</td>\n",
       "      <td>...</td>\n",
       "      <td>...</td>\n",
       "      <td>...</td>\n",
       "      <td>...</td>\n",
       "      <td>...</td>\n",
       "      <td>...</td>\n",
       "      <td>...</td>\n",
       "      <td>...</td>\n",
       "      <td>...</td>\n",
       "      <td>...</td>\n",
       "      <td>...</td>\n",
       "      <td>...</td>\n",
       "    </tr>\n",
       "    <tr>\n",
       "      <th>797</th>\n",
       "      <td>0.666667</td>\n",
       "      <td>0.250000</td>\n",
       "      <td>1.00</td>\n",
       "      <td>0.6</td>\n",
       "      <td>0.112574</td>\n",
       "      <td>0.0</td>\n",
       "      <td>0.25</td>\n",
       "      <td>0.333333</td>\n",
       "      <td>0.000000</td>\n",
       "      <td>0.0</td>\n",
       "      <td>0.000000</td>\n",
       "      <td>0.666667</td>\n",
       "      <td>0.250000</td>\n",
       "      <td>1.0</td>\n",
       "      <td>0.0</td>\n",
       "      <td>0.000000</td>\n",
       "      <td>0.666667</td>\n",
       "      <td>0.0</td>\n",
       "      <td>0.0</td>\n",
       "      <td>0.0</td>\n",
       "    </tr>\n",
       "    <tr>\n",
       "      <th>944</th>\n",
       "      <td>0.000000</td>\n",
       "      <td>0.117647</td>\n",
       "      <td>0.50</td>\n",
       "      <td>0.3</td>\n",
       "      <td>0.023859</td>\n",
       "      <td>0.0</td>\n",
       "      <td>1.00</td>\n",
       "      <td>1.000000</td>\n",
       "      <td>0.666667</td>\n",
       "      <td>0.0</td>\n",
       "      <td>1.000000</td>\n",
       "      <td>0.000000</td>\n",
       "      <td>0.678571</td>\n",
       "      <td>1.0</td>\n",
       "      <td>0.5</td>\n",
       "      <td>0.000000</td>\n",
       "      <td>0.333333</td>\n",
       "      <td>0.0</td>\n",
       "      <td>0.0</td>\n",
       "      <td>0.0</td>\n",
       "    </tr>\n",
       "    <tr>\n",
       "      <th>219</th>\n",
       "      <td>1.000000</td>\n",
       "      <td>0.088235</td>\n",
       "      <td>0.50</td>\n",
       "      <td>0.0</td>\n",
       "      <td>0.055709</td>\n",
       "      <td>1.0</td>\n",
       "      <td>1.00</td>\n",
       "      <td>1.000000</td>\n",
       "      <td>0.666667</td>\n",
       "      <td>0.5</td>\n",
       "      <td>0.333333</td>\n",
       "      <td>0.333333</td>\n",
       "      <td>0.464286</td>\n",
       "      <td>1.0</td>\n",
       "      <td>0.5</td>\n",
       "      <td>0.000000</td>\n",
       "      <td>0.333333</td>\n",
       "      <td>0.0</td>\n",
       "      <td>0.0</td>\n",
       "      <td>1.0</td>\n",
       "    </tr>\n",
       "    <tr>\n",
       "      <th>704</th>\n",
       "      <td>0.000000</td>\n",
       "      <td>0.029412</td>\n",
       "      <td>1.00</td>\n",
       "      <td>0.3</td>\n",
       "      <td>0.049207</td>\n",
       "      <td>1.0</td>\n",
       "      <td>1.00</td>\n",
       "      <td>1.000000</td>\n",
       "      <td>0.666667</td>\n",
       "      <td>0.0</td>\n",
       "      <td>1.000000</td>\n",
       "      <td>0.000000</td>\n",
       "      <td>0.857143</td>\n",
       "      <td>1.0</td>\n",
       "      <td>0.5</td>\n",
       "      <td>0.333333</td>\n",
       "      <td>0.666667</td>\n",
       "      <td>0.0</td>\n",
       "      <td>1.0</td>\n",
       "      <td>0.0</td>\n",
       "    </tr>\n",
       "    <tr>\n",
       "      <th>483</th>\n",
       "      <td>1.000000</td>\n",
       "      <td>0.117647</td>\n",
       "      <td>1.00</td>\n",
       "      <td>0.2</td>\n",
       "      <td>0.304441</td>\n",
       "      <td>1.0</td>\n",
       "      <td>1.00</td>\n",
       "      <td>0.333333</td>\n",
       "      <td>0.666667</td>\n",
       "      <td>0.0</td>\n",
       "      <td>1.000000</td>\n",
       "      <td>0.333333</td>\n",
       "      <td>0.535714</td>\n",
       "      <td>1.0</td>\n",
       "      <td>0.0</td>\n",
       "      <td>0.000000</td>\n",
       "      <td>0.666667</td>\n",
       "      <td>0.0</td>\n",
       "      <td>1.0</td>\n",
       "      <td>1.0</td>\n",
       "    </tr>\n",
       "  </tbody>\n",
       "</table>\n",
       "<p>800 rows × 20 columns</p>\n",
       "</div>"
      ],
      "text/plain": [
       "     Account_Balance  Duration_of_Credit_monthly  \\\n",
       "769         0.000000                    0.161765   \n",
       "702         0.000000                    0.205882   \n",
       "553         1.000000                    0.088235   \n",
       "760         0.333333                    0.647059   \n",
       "38          1.000000                    0.205882   \n",
       "..               ...                         ...   \n",
       "797         0.666667                    0.250000   \n",
       "944         0.000000                    0.117647   \n",
       "219         1.000000                    0.088235   \n",
       "704         0.000000                    0.029412   \n",
       "483         1.000000                    0.117647   \n",
       "\n",
       "     Payment_Status_of_Previous_Credit  Purpose  Credit_Amount  \\\n",
       "769                               0.50      0.4       0.055047   \n",
       "702                               0.75      0.6       0.451565   \n",
       "553                               0.50      0.8       0.034053   \n",
       "760                               0.50      0.3       0.153405   \n",
       "38                                0.50      0.1       0.170928   \n",
       "..                                 ...      ...            ...   \n",
       "797                               1.00      0.6       0.112574   \n",
       "944                               0.50      0.3       0.023859   \n",
       "219                               0.50      0.0       0.055709   \n",
       "704                               1.00      0.3       0.049207   \n",
       "483                               1.00      0.2       0.304441   \n",
       "\n",
       "     Value_Savings_Stocks  Length_of_current_employment  Instalment_per_cent  \\\n",
       "769                   1.0                          0.50             1.000000   \n",
       "702                   1.0                          0.50             0.000000   \n",
       "553                   1.0                          0.75             1.000000   \n",
       "760                   0.0                          0.75             1.000000   \n",
       "38                    1.0                          0.50             0.333333   \n",
       "..                    ...                           ...                  ...   \n",
       "797                   0.0                          0.25             0.333333   \n",
       "944                   0.0                          1.00             1.000000   \n",
       "219                   1.0                          1.00             1.000000   \n",
       "704                   1.0                          1.00             1.000000   \n",
       "483                   1.0                          1.00             0.333333   \n",
       "\n",
       "     Sex_Marital_Status  Guarantors  Duration_in_Current_address  \\\n",
       "769            0.333333         0.0                     0.333333   \n",
       "702            0.333333         0.0                     0.333333   \n",
       "553            0.333333         0.0                     0.666667   \n",
       "760            0.666667         0.0                     1.000000   \n",
       "38             0.666667         0.0                     0.000000   \n",
       "..                  ...         ...                          ...   \n",
       "797            0.000000         0.0                     0.000000   \n",
       "944            0.666667         0.0                     1.000000   \n",
       "219            0.666667         0.5                     0.333333   \n",
       "704            0.666667         0.0                     1.000000   \n",
       "483            0.666667         0.0                     1.000000   \n",
       "\n",
       "     Most_valuable_available_asset  Age_years  Concurrent_Credits  \\\n",
       "769                       0.666667   0.089286                 1.0   \n",
       "702                       0.666667   0.071429                 1.0   \n",
       "553                       0.333333   0.375000                 1.0   \n",
       "760                       0.000000   0.160714                 1.0   \n",
       "38                        0.333333   0.214286                 1.0   \n",
       "..                             ...        ...                 ...   \n",
       "797                       0.666667   0.250000                 1.0   \n",
       "944                       0.000000   0.678571                 1.0   \n",
       "219                       0.333333   0.464286                 1.0   \n",
       "704                       0.000000   0.857143                 1.0   \n",
       "483                       0.333333   0.535714                 1.0   \n",
       "\n",
       "     Type_of_apartment  No_of_Credits_at_this_Bank  Occupation  \\\n",
       "769                0.0                    0.000000    0.666667   \n",
       "702                0.0                    0.333333    0.666667   \n",
       "553                0.5                    0.000000    0.666667   \n",
       "760                0.5                    0.333333    0.666667   \n",
       "38                 0.5                    0.000000    0.666667   \n",
       "..                 ...                         ...         ...   \n",
       "797                0.0                    0.000000    0.666667   \n",
       "944                0.5                    0.000000    0.333333   \n",
       "219                0.5                    0.000000    0.333333   \n",
       "704                0.5                    0.333333    0.666667   \n",
       "483                0.0                    0.000000    0.666667   \n",
       "\n",
       "     No_of_dependents  Telephone  Foreign_Worker  \n",
       "769               0.0        0.0             0.0  \n",
       "702               0.0        1.0             0.0  \n",
       "553               0.0        1.0             0.0  \n",
       "760               0.0        0.0             0.0  \n",
       "38                0.0        1.0             0.0  \n",
       "..                ...        ...             ...  \n",
       "797               0.0        0.0             0.0  \n",
       "944               0.0        0.0             0.0  \n",
       "219               0.0        0.0             1.0  \n",
       "704               0.0        1.0             0.0  \n",
       "483               0.0        1.0             1.0  \n",
       "\n",
       "[800 rows x 20 columns]"
      ]
     },
     "execution_count": 69,
     "metadata": {},
     "output_type": "execute_result"
    }
   ],
   "source": [
    "sc_train = (X_train - min_) / (max_ - min_)\n",
    "sc_train"
   ]
  },
  {
   "cell_type": "code",
   "execution_count": 70,
   "id": "6387f5ed",
   "metadata": {},
   "outputs": [
    {
     "data": {
      "text/html": [
       "<div>\n",
       "<style scoped>\n",
       "    .dataframe tbody tr th:only-of-type {\n",
       "        vertical-align: middle;\n",
       "    }\n",
       "\n",
       "    .dataframe tbody tr th {\n",
       "        vertical-align: top;\n",
       "    }\n",
       "\n",
       "    .dataframe thead th {\n",
       "        text-align: right;\n",
       "    }\n",
       "</style>\n",
       "<table border=\"1\" class=\"dataframe\">\n",
       "  <thead>\n",
       "    <tr style=\"text-align: right;\">\n",
       "      <th></th>\n",
       "      <th>Account_Balance</th>\n",
       "      <th>Duration_of_Credit_monthly</th>\n",
       "      <th>Payment_Status_of_Previous_Credit</th>\n",
       "      <th>Purpose</th>\n",
       "      <th>Credit_Amount</th>\n",
       "      <th>Value_Savings_Stocks</th>\n",
       "      <th>Length_of_current_employment</th>\n",
       "      <th>Instalment_per_cent</th>\n",
       "      <th>Sex_Marital_Status</th>\n",
       "      <th>Guarantors</th>\n",
       "      <th>Duration_in_Current_address</th>\n",
       "      <th>Most_valuable_available_asset</th>\n",
       "      <th>Age_years</th>\n",
       "      <th>Concurrent_Credits</th>\n",
       "      <th>Type_of_apartment</th>\n",
       "      <th>No_of_Credits_at_this_Bank</th>\n",
       "      <th>Occupation</th>\n",
       "      <th>No_of_dependents</th>\n",
       "      <th>Telephone</th>\n",
       "      <th>Foreign_Worker</th>\n",
       "    </tr>\n",
       "  </thead>\n",
       "  <tbody>\n",
       "    <tr>\n",
       "      <th>717</th>\n",
       "      <td>1.000000</td>\n",
       "      <td>0.294118</td>\n",
       "      <td>0.5</td>\n",
       "      <td>0.9</td>\n",
       "      <td>0.237767</td>\n",
       "      <td>0.75</td>\n",
       "      <td>0.50</td>\n",
       "      <td>0.333333</td>\n",
       "      <td>0.666667</td>\n",
       "      <td>0.0</td>\n",
       "      <td>0.666667</td>\n",
       "      <td>0.333333</td>\n",
       "      <td>0.625000</td>\n",
       "      <td>1.0</td>\n",
       "      <td>0.5</td>\n",
       "      <td>0.666667</td>\n",
       "      <td>1.000000</td>\n",
       "      <td>0.0</td>\n",
       "      <td>1.0</td>\n",
       "      <td>0.0</td>\n",
       "    </tr>\n",
       "    <tr>\n",
       "      <th>592</th>\n",
       "      <td>0.000000</td>\n",
       "      <td>0.470588</td>\n",
       "      <td>1.0</td>\n",
       "      <td>0.2</td>\n",
       "      <td>0.328025</td>\n",
       "      <td>0.00</td>\n",
       "      <td>0.25</td>\n",
       "      <td>1.000000</td>\n",
       "      <td>0.333333</td>\n",
       "      <td>0.5</td>\n",
       "      <td>1.000000</td>\n",
       "      <td>1.000000</td>\n",
       "      <td>0.071429</td>\n",
       "      <td>1.0</td>\n",
       "      <td>0.0</td>\n",
       "      <td>0.333333</td>\n",
       "      <td>0.333333</td>\n",
       "      <td>0.0</td>\n",
       "      <td>1.0</td>\n",
       "      <td>0.0</td>\n",
       "    </tr>\n",
       "    <tr>\n",
       "      <th>82</th>\n",
       "      <td>0.333333</td>\n",
       "      <td>0.205882</td>\n",
       "      <td>0.5</td>\n",
       "      <td>0.0</td>\n",
       "      <td>0.308023</td>\n",
       "      <td>0.25</td>\n",
       "      <td>0.50</td>\n",
       "      <td>0.333333</td>\n",
       "      <td>0.666667</td>\n",
       "      <td>0.0</td>\n",
       "      <td>0.333333</td>\n",
       "      <td>0.666667</td>\n",
       "      <td>0.196429</td>\n",
       "      <td>1.0</td>\n",
       "      <td>0.5</td>\n",
       "      <td>0.333333</td>\n",
       "      <td>0.666667</td>\n",
       "      <td>0.0</td>\n",
       "      <td>1.0</td>\n",
       "      <td>0.0</td>\n",
       "    </tr>\n",
       "    <tr>\n",
       "      <th>810</th>\n",
       "      <td>0.333333</td>\n",
       "      <td>0.647059</td>\n",
       "      <td>0.5</td>\n",
       "      <td>0.9</td>\n",
       "      <td>0.848358</td>\n",
       "      <td>0.00</td>\n",
       "      <td>0.50</td>\n",
       "      <td>0.333333</td>\n",
       "      <td>0.666667</td>\n",
       "      <td>0.0</td>\n",
       "      <td>0.333333</td>\n",
       "      <td>0.666667</td>\n",
       "      <td>0.071429</td>\n",
       "      <td>1.0</td>\n",
       "      <td>0.5</td>\n",
       "      <td>0.000000</td>\n",
       "      <td>0.666667</td>\n",
       "      <td>0.0</td>\n",
       "      <td>1.0</td>\n",
       "      <td>0.0</td>\n",
       "    </tr>\n",
       "    <tr>\n",
       "      <th>538</th>\n",
       "      <td>1.000000</td>\n",
       "      <td>0.044118</td>\n",
       "      <td>1.0</td>\n",
       "      <td>0.3</td>\n",
       "      <td>0.025017</td>\n",
       "      <td>1.00</td>\n",
       "      <td>1.00</td>\n",
       "      <td>1.000000</td>\n",
       "      <td>0.666667</td>\n",
       "      <td>0.0</td>\n",
       "      <td>0.333333</td>\n",
       "      <td>0.333333</td>\n",
       "      <td>0.482143</td>\n",
       "      <td>1.0</td>\n",
       "      <td>0.0</td>\n",
       "      <td>0.333333</td>\n",
       "      <td>0.333333</td>\n",
       "      <td>0.0</td>\n",
       "      <td>1.0</td>\n",
       "      <td>0.0</td>\n",
       "    </tr>\n",
       "  </tbody>\n",
       "</table>\n",
       "</div>"
      ],
      "text/plain": [
       "     Account_Balance  Duration_of_Credit_monthly  \\\n",
       "717         1.000000                    0.294118   \n",
       "592         0.000000                    0.470588   \n",
       "82          0.333333                    0.205882   \n",
       "810         0.333333                    0.647059   \n",
       "538         1.000000                    0.044118   \n",
       "\n",
       "     Payment_Status_of_Previous_Credit  Purpose  Credit_Amount  \\\n",
       "717                                0.5      0.9       0.237767   \n",
       "592                                1.0      0.2       0.328025   \n",
       "82                                 0.5      0.0       0.308023   \n",
       "810                                0.5      0.9       0.848358   \n",
       "538                                1.0      0.3       0.025017   \n",
       "\n",
       "     Value_Savings_Stocks  Length_of_current_employment  Instalment_per_cent  \\\n",
       "717                  0.75                          0.50             0.333333   \n",
       "592                  0.00                          0.25             1.000000   \n",
       "82                   0.25                          0.50             0.333333   \n",
       "810                  0.00                          0.50             0.333333   \n",
       "538                  1.00                          1.00             1.000000   \n",
       "\n",
       "     Sex_Marital_Status  Guarantors  Duration_in_Current_address  \\\n",
       "717            0.666667         0.0                     0.666667   \n",
       "592            0.333333         0.5                     1.000000   \n",
       "82             0.666667         0.0                     0.333333   \n",
       "810            0.666667         0.0                     0.333333   \n",
       "538            0.666667         0.0                     0.333333   \n",
       "\n",
       "     Most_valuable_available_asset  Age_years  Concurrent_Credits  \\\n",
       "717                       0.333333   0.625000                 1.0   \n",
       "592                       1.000000   0.071429                 1.0   \n",
       "82                        0.666667   0.196429                 1.0   \n",
       "810                       0.666667   0.071429                 1.0   \n",
       "538                       0.333333   0.482143                 1.0   \n",
       "\n",
       "     Type_of_apartment  No_of_Credits_at_this_Bank  Occupation  \\\n",
       "717                0.5                    0.666667    1.000000   \n",
       "592                0.0                    0.333333    0.333333   \n",
       "82                 0.5                    0.333333    0.666667   \n",
       "810                0.5                    0.000000    0.666667   \n",
       "538                0.0                    0.333333    0.333333   \n",
       "\n",
       "     No_of_dependents  Telephone  Foreign_Worker  \n",
       "717               0.0        1.0             0.0  \n",
       "592               0.0        1.0             0.0  \n",
       "82                0.0        1.0             0.0  \n",
       "810               0.0        1.0             0.0  \n",
       "538               0.0        1.0             0.0  "
      ]
     },
     "execution_count": 70,
     "metadata": {},
     "output_type": "execute_result"
    }
   ],
   "source": [
    "sc_valid = (X_valid - min_) / (max_ - min_)\n",
    "sc_valid.head()"
   ]
  },
  {
   "cell_type": "code",
   "execution_count": 71,
   "id": "978b58fa",
   "metadata": {},
   "outputs": [
    {
     "name": "stdout",
     "output_type": "stream",
     "text": [
      "Epoch 1/1000\n",
      "7/7 [==============================] - 0s 58ms/step - loss: 0.6007 - val_loss: 0.6162\n",
      "Epoch 2/1000\n",
      "7/7 [==============================] - 0s 9ms/step - loss: 0.4549 - val_loss: 0.6052\n",
      "Epoch 3/1000\n",
      "7/7 [==============================] - 0s 17ms/step - loss: 0.4030 - val_loss: 0.6041\n",
      "Epoch 4/1000\n",
      "7/7 [==============================] - 0s 18ms/step - loss: 0.3765 - val_loss: 0.6041\n",
      "Epoch 5/1000\n",
      "7/7 [==============================] - 0s 14ms/step - loss: 0.3376 - val_loss: 0.6009\n",
      "Epoch 6/1000\n",
      "7/7 [==============================] - 0s 8ms/step - loss: 0.3151 - val_loss: 0.5931\n",
      "Epoch 7/1000\n",
      "7/7 [==============================] - 0s 10ms/step - loss: 0.2918 - val_loss: 0.5956\n",
      "Epoch 8/1000\n",
      "7/7 [==============================] - 0s 9ms/step - loss: 0.2682 - val_loss: 0.5924\n",
      "Epoch 9/1000\n",
      "7/7 [==============================] - 0s 9ms/step - loss: 0.2486 - val_loss: 0.5905\n",
      "Epoch 10/1000\n",
      "7/7 [==============================] - 0s 9ms/step - loss: 0.2214 - val_loss: 0.5887\n",
      "Epoch 11/1000\n",
      "7/7 [==============================] - 0s 10ms/step - loss: 0.2060 - val_loss: 0.5794\n",
      "Epoch 12/1000\n",
      "7/7 [==============================] - 0s 10ms/step - loss: 0.1932 - val_loss: 0.5793\n",
      "Epoch 13/1000\n",
      "7/7 [==============================] - 0s 10ms/step - loss: 0.1784 - val_loss: 0.5796\n",
      "Epoch 14/1000\n",
      "7/7 [==============================] - 0s 11ms/step - loss: 0.1634 - val_loss: 0.5689\n",
      "Epoch 15/1000\n",
      "7/7 [==============================] - 0s 9ms/step - loss: 0.1700 - val_loss: 0.5655\n",
      "Epoch 16/1000\n",
      "7/7 [==============================] - 0s 10ms/step - loss: 0.1523 - val_loss: 0.5724\n",
      "Epoch 17/1000\n",
      "7/7 [==============================] - 0s 10ms/step - loss: 0.1165 - val_loss: 0.5740\n",
      "Epoch 18/1000\n",
      "7/7 [==============================] - 0s 7ms/step - loss: 0.1031 - val_loss: 0.5660\n",
      "Epoch 19/1000\n",
      "7/7 [==============================] - 0s 9ms/step - loss: 0.0907 - val_loss: 0.5608\n",
      "Epoch 20/1000\n",
      "7/7 [==============================] - 0s 8ms/step - loss: 0.0808 - val_loss: 0.5605\n",
      "Epoch 21/1000\n",
      "7/7 [==============================] - 0s 10ms/step - loss: 0.0737 - val_loss: 0.5550\n",
      "Epoch 22/1000\n",
      "7/7 [==============================] - 0s 10ms/step - loss: 0.0588 - val_loss: 0.5467\n",
      "Epoch 23/1000\n",
      "7/7 [==============================] - 0s 10ms/step - loss: 0.0606 - val_loss: 0.5595\n",
      "Epoch 24/1000\n",
      "7/7 [==============================] - 0s 9ms/step - loss: 0.0479 - val_loss: 0.5543\n",
      "Epoch 25/1000\n",
      "7/7 [==============================] - 0s 10ms/step - loss: 0.0459 - val_loss: 0.5441\n",
      "Epoch 26/1000\n",
      "7/7 [==============================] - 0s 10ms/step - loss: 0.0407 - val_loss: 0.5542\n",
      "Epoch 27/1000\n",
      "7/7 [==============================] - 0s 10ms/step - loss: 0.0321 - val_loss: 0.5673\n",
      "Epoch 28/1000\n",
      "7/7 [==============================] - 0s 11ms/step - loss: 0.0311 - val_loss: 0.5625\n",
      "Epoch 29/1000\n",
      "7/7 [==============================] - 0s 10ms/step - loss: 0.0327 - val_loss: 0.5657\n",
      "Epoch 30/1000\n",
      "7/7 [==============================] - 0s 10ms/step - loss: 0.0271 - val_loss: 0.5681\n",
      "Epoch 31/1000\n",
      "7/7 [==============================] - 0s 9ms/step - loss: 0.0322 - val_loss: 0.5906\n",
      "Epoch 32/1000\n",
      "7/7 [==============================] - 0s 10ms/step - loss: 0.0436 - val_loss: 0.6021\n",
      "Epoch 33/1000\n",
      "7/7 [==============================] - 0s 8ms/step - loss: 0.0206 - val_loss: 0.6071\n",
      "Epoch 34/1000\n",
      "7/7 [==============================] - 0s 9ms/step - loss: 0.0276 - val_loss: 0.6045\n",
      "Epoch 35/1000\n",
      "7/7 [==============================] - 0s 9ms/step - loss: 0.0198 - val_loss: 0.6039\n",
      "Epoch 36/1000\n",
      "7/7 [==============================] - 0s 9ms/step - loss: 0.0229 - val_loss: 0.6193\n",
      "Epoch 37/1000\n",
      "7/7 [==============================] - 0s 10ms/step - loss: 0.0152 - val_loss: 0.6343\n",
      "Epoch 38/1000\n",
      "7/7 [==============================] - 0s 10ms/step - loss: 0.0124 - val_loss: 0.6483\n",
      "Epoch 39/1000\n",
      "7/7 [==============================] - 0s 10ms/step - loss: 0.0277 - val_loss: 0.6706\n",
      "Epoch 40/1000\n",
      "7/7 [==============================] - 0s 10ms/step - loss: 0.0182 - val_loss: 0.6950\n",
      "Epoch 41/1000\n",
      "7/7 [==============================] - 0s 9ms/step - loss: 0.0152 - val_loss: 0.7223\n",
      "Epoch 42/1000\n",
      "7/7 [==============================] - 0s 10ms/step - loss: 0.0092 - val_loss: 0.7788\n",
      "Epoch 43/1000\n",
      "7/7 [==============================] - 0s 9ms/step - loss: 0.0121 - val_loss: 0.7064\n",
      "Epoch 44/1000\n",
      "7/7 [==============================] - 0s 9ms/step - loss: 0.0175 - val_loss: 0.7346\n",
      "Epoch 45/1000\n",
      "7/7 [==============================] - 0s 9ms/step - loss: 0.0108 - val_loss: 0.7567\n"
     ]
    }
   ],
   "source": [
    "model_nn2 = Sequential([\n",
    "    layers.Dense(224, activation = 'relu', input_shape = [20]),\n",
    "    layers.BatchNormalization(),\n",
    "    layers.Dense(224, activation = 'relu'),\n",
    "    layers.Dense(224, activation = 'relu'),\n",
    "    layers.Dense(1, activation = 'sigmoid')\n",
    "])\n",
    "\n",
    "model_nn2.compile(optimizer = 'adam', loss = 'binary_crossentropy')\n",
    "\n",
    "early_stopping = callbacks.EarlyStopping(\n",
    "    min_delta = 0.001, \n",
    "    patience = 20,\n",
    "    restore_best_weights = True\n",
    ")\n",
    "\n",
    "model_dl2 = model_nn2.fit(sc_train, y_train,\n",
    "                      validation_data = (sc_valid, y_valid),\n",
    "                      batch_size = 128,\n",
    "                      epochs = 1000,\n",
    "                      callbacks = [early_stopping]\n",
    "                    )"
   ]
  },
  {
   "cell_type": "code",
   "execution_count": 72,
   "id": "d3043937",
   "metadata": {},
   "outputs": [],
   "source": [
    "preds_dl2 = model_nn2.predict(sc_valid)"
   ]
  },
  {
   "cell_type": "code",
   "execution_count": 73,
   "id": "9b1fea5e",
   "metadata": {},
   "outputs": [],
   "source": [
    "tr_dl2 = []\n",
    "for elem in preds_dl2:\n",
    "    \n",
    "    if elem >= 0.5:\n",
    "        elem = 1\n",
    "        tr_dl2.append(elem)\n",
    "#         print(elem)\n",
    "    else:\n",
    "        elem = 0\n",
    "        tr_dl2.append(elem)\n",
    "#         print(elem)"
   ]
  },
  {
   "cell_type": "code",
   "execution_count": 74,
   "id": "811f4afc",
   "metadata": {},
   "outputs": [
    {
     "name": "stdout",
     "output_type": "stream",
     "text": [
      "Deep Neural Networks Accuracy\n"
     ]
    },
    {
     "data": {
      "text/plain": [
       "0.73"
      ]
     },
     "execution_count": 74,
     "metadata": {},
     "output_type": "execute_result"
    }
   ],
   "source": [
    "print('Deep Neural Networks Accuracy')\n",
    "dl2_acc = metrics.accuracy_score(y_valid, tr_dl2)\n",
    "dl2_acc"
   ]
  },
  {
   "cell_type": "code",
   "execution_count": 75,
   "id": "36209c74",
   "metadata": {},
   "outputs": [
    {
     "name": "stdout",
     "output_type": "stream",
     "text": [
      "K2 Accuracy\n"
     ]
    },
    {
     "data": {
      "text/plain": [
       "0.74"
      ]
     },
     "execution_count": 75,
     "metadata": {},
     "output_type": "execute_result"
    }
   ],
   "source": [
    "# Classical models\n",
    "\n",
    "knn2 = KNeighborsClassifier()\n",
    "knn2.fit(sc_train, y_train)\n",
    "\n",
    "k2_preds = knn2.predict(sc_valid)\n",
    "\n",
    "# Acc\n",
    "k2_acc = metrics.accuracy_score(y_valid, k2_preds)\n",
    "print('K2 Accuracy')\n",
    "k2_acc"
   ]
  },
  {
   "cell_type": "code",
   "execution_count": 76,
   "id": "14bdebc5",
   "metadata": {},
   "outputs": [
    {
     "name": "stdout",
     "output_type": "stream",
     "text": [
      "dt2 Accuracy\n"
     ]
    },
    {
     "data": {
      "text/plain": [
       "0.65"
      ]
     },
     "execution_count": 76,
     "metadata": {},
     "output_type": "execute_result"
    }
   ],
   "source": [
    "dt2 = DecisionTreeClassifier()\n",
    "dt2.fit(sc_train, y_train)\n",
    "\n",
    "dt2_preds = dt2.predict(sc_valid)\n",
    "\n",
    "# Acc\n",
    "dt2_acc = metrics.accuracy_score(y_valid, dt2_preds)\n",
    "print('dt2 Accuracy')\n",
    "dt2_acc"
   ]
  },
  {
   "cell_type": "code",
   "execution_count": 77,
   "id": "72b6de7a",
   "metadata": {},
   "outputs": [
    {
     "name": "stdout",
     "output_type": "stream",
     "text": [
      "svc2 Accuracy\n"
     ]
    },
    {
     "data": {
      "text/plain": [
       "0.745"
      ]
     },
     "execution_count": 77,
     "metadata": {},
     "output_type": "execute_result"
    }
   ],
   "source": [
    "svc2 = SVC()\n",
    "svc2.fit(sc_train, y_train)\n",
    "\n",
    "svc2_preds = svc2.predict(sc_valid)\n",
    "\n",
    "# Acc\n",
    "svc2_acc = metrics.accuracy_score(y_valid, svc2_preds)\n",
    "print('svc2 Accuracy')\n",
    "svc2_acc"
   ]
  },
  {
   "cell_type": "code",
   "execution_count": 78,
   "id": "81583250",
   "metadata": {},
   "outputs": [
    {
     "name": "stdout",
     "output_type": "stream",
     "text": [
      "rf2 Accuracy\n"
     ]
    },
    {
     "data": {
      "text/plain": [
       "0.76"
      ]
     },
     "execution_count": 78,
     "metadata": {},
     "output_type": "execute_result"
    }
   ],
   "source": [
    "rf2 = RandomForestClassifier()\n",
    "rf2.fit(sc_train, y_train)\n",
    "\n",
    "rf2_preds = rf2.predict(sc_valid)\n",
    "\n",
    "# Acc\n",
    "rf2_acc = metrics.accuracy_score(y_valid, rf2_preds)\n",
    "print('rf2 Accuracy')\n",
    "rf2_acc"
   ]
  },
  {
   "cell_type": "code",
   "execution_count": 79,
   "id": "86c6eb83",
   "metadata": {},
   "outputs": [
    {
     "name": "stdout",
     "output_type": "stream",
     "text": [
      "lr2 Accuracy\n"
     ]
    },
    {
     "data": {
      "text/plain": [
       "0.715"
      ]
     },
     "execution_count": 79,
     "metadata": {},
     "output_type": "execute_result"
    }
   ],
   "source": [
    "lr2 = LogisticRegression()\n",
    "lr2.fit(sc_train, y_train)\n",
    "\n",
    "lr2_preds = lr2.predict(sc_valid)\n",
    "\n",
    "# Acc\n",
    "lr2_acc = metrics.accuracy_score(y_valid, lr2_preds)\n",
    "print('lr2 Accuracy')\n",
    "lr2_acc"
   ]
  },
  {
   "cell_type": "code",
   "execution_count": null,
   "id": "49a46b60",
   "metadata": {},
   "outputs": [],
   "source": []
  }
 ],
 "metadata": {
  "kernelspec": {
   "display_name": "Python 3",
   "language": "python",
   "name": "python3"
  },
  "language_info": {
   "codemirror_mode": {
    "name": "ipython",
    "version": 3
   },
   "file_extension": ".py",
   "mimetype": "text/x-python",
   "name": "python",
   "nbconvert_exporter": "python",
   "pygments_lexer": "ipython3",
   "version": "3.8.8"
  }
 },
 "nbformat": 4,
 "nbformat_minor": 5
}
