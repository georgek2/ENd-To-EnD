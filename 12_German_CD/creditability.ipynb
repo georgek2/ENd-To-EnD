{
 "cells": [
  {
   "cell_type": "markdown",
   "id": "d29d3737",
   "metadata": {},
   "source": [
    "## About this Dataset\n",
    "+ Context\n",
    "\n",
    "When a bank receives a loan application, based on the applicant’s profile the bank has to make a decision regarding whether to go ahead with the loan approval or not. Two types of risks are associated with the bank’s decision.\n",
    "\n",
    "If the applicant is a good credit risk, i.e. is likely to repay the loan, then not approving the loan to the person results in a loss of business to the bank\n",
    "If the applicant is a bad credit risk, i.e. is not likely to repay the loan, then approving the loan to the person results in a financial loss to the bank.\"\n",
    "\n",
    "The predictors that may potentially have any influence on Creditability:\n",
    "\n",
    "+ Account Balance: No account (1), None (No balance) (2), Some Balance (3)\n",
    "\n",
    "+ Payment Status: Some Problems (1), Paid Up (2), No Problems (in this bank) (3)\n",
    "\n",
    "+ Savings/Stock Value: None, Below 100 DM, [100, 1000] DM, Above 1000 DM\n",
    "\n",
    "+ Employment Length: Below 1 year (including unemployed), [1, 4), [4, 7), Above 7\n",
    "\n",
    "+ Sex/Marital Status: Male Divorced/Single, Male Married/Widowed, Female\n",
    "\n",
    "+ No of Credits at this bank: 1, More than 1\n",
    "\n",
    "+ Guarantor: None, Yes\n",
    "\n",
    "+ Concurrent Credits: Other Banks or Dept Stores, None\n",
    "\n",
    "+ ForeignWorker variable may be dropped from the study\n",
    "\n",
    "+ Purpose of Credit: New car, Used car, Home Related, Other\n",
    "\n",
    "https://online.stat.psu.edu/stat508/resource/analysis/gcd\n",
    "\n",
    "Content\n",
    "\n",
    "The German Credit Data contains data on 20 variables and the classification whether an applicant is considered a Good or a Bad credit risk for 1000 loan applicants. A predictive model developed on this data is expected to provide a bank manager guidance for making a decision whether to approve a loan to a prospective applicant based on his/her profiles.\n",
    "\n",
    "Acknowledgements\n",
    "https://online.stat.psu.edu/stat508/resource/analysis/gcd\n",
    "\n",
    "Photo by Alice Pasqual on Unsplash\n",
    "\n",
    "Inspiration\n",
    "Unemployment in time of crisis."
   ]
  },
  {
   "cell_type": "code",
   "execution_count": 1,
   "id": "9b62a757",
   "metadata": {},
   "outputs": [],
   "source": [
    "import numpy as np\n",
    "import pandas as pd\n",
    "import matplotlib.pyplot as plt\n",
    "import seaborn as sns"
   ]
  },
  {
   "cell_type": "markdown",
   "id": "8df2acd0",
   "metadata": {},
   "source": [
    "## Loading data and EDA"
   ]
  },
  {
   "cell_type": "code",
   "execution_count": 2,
   "id": "ad74a791",
   "metadata": {},
   "outputs": [
    {
     "data": {
      "text/html": [
       "<div>\n",
       "<style scoped>\n",
       "    .dataframe tbody tr th:only-of-type {\n",
       "        vertical-align: middle;\n",
       "    }\n",
       "\n",
       "    .dataframe tbody tr th {\n",
       "        vertical-align: top;\n",
       "    }\n",
       "\n",
       "    .dataframe thead th {\n",
       "        text-align: right;\n",
       "    }\n",
       "</style>\n",
       "<table border=\"1\" class=\"dataframe\">\n",
       "  <thead>\n",
       "    <tr style=\"text-align: right;\">\n",
       "      <th></th>\n",
       "      <th>Creditability</th>\n",
       "      <th>Account_Balance</th>\n",
       "      <th>Duration_of_Credit_monthly</th>\n",
       "      <th>Payment_Status_of_Previous_Credit</th>\n",
       "      <th>Purpose</th>\n",
       "      <th>Credit_Amount</th>\n",
       "      <th>Value_Savings_Stocks</th>\n",
       "      <th>Length_of_current_employment</th>\n",
       "      <th>Instalment_per_cent</th>\n",
       "      <th>Sex_Marital_Status</th>\n",
       "      <th>...</th>\n",
       "      <th>Duration_in_Current_address</th>\n",
       "      <th>Most_valuable_available_asset</th>\n",
       "      <th>Age_years</th>\n",
       "      <th>Concurrent_Credits</th>\n",
       "      <th>Type_of_apartment</th>\n",
       "      <th>No_of_Credits_at_this_Bank</th>\n",
       "      <th>Occupation</th>\n",
       "      <th>No_of_dependents</th>\n",
       "      <th>Telephone</th>\n",
       "      <th>Foreign_Worker</th>\n",
       "    </tr>\n",
       "  </thead>\n",
       "  <tbody>\n",
       "    <tr>\n",
       "      <th>0</th>\n",
       "      <td>1</td>\n",
       "      <td>1</td>\n",
       "      <td>18</td>\n",
       "      <td>4</td>\n",
       "      <td>2</td>\n",
       "      <td>1049</td>\n",
       "      <td>1</td>\n",
       "      <td>2</td>\n",
       "      <td>4</td>\n",
       "      <td>2</td>\n",
       "      <td>...</td>\n",
       "      <td>4</td>\n",
       "      <td>2</td>\n",
       "      <td>21</td>\n",
       "      <td>3</td>\n",
       "      <td>1</td>\n",
       "      <td>1</td>\n",
       "      <td>3</td>\n",
       "      <td>1</td>\n",
       "      <td>1</td>\n",
       "      <td>1</td>\n",
       "    </tr>\n",
       "    <tr>\n",
       "      <th>1</th>\n",
       "      <td>1</td>\n",
       "      <td>1</td>\n",
       "      <td>9</td>\n",
       "      <td>4</td>\n",
       "      <td>0</td>\n",
       "      <td>2799</td>\n",
       "      <td>1</td>\n",
       "      <td>3</td>\n",
       "      <td>2</td>\n",
       "      <td>3</td>\n",
       "      <td>...</td>\n",
       "      <td>2</td>\n",
       "      <td>1</td>\n",
       "      <td>36</td>\n",
       "      <td>3</td>\n",
       "      <td>1</td>\n",
       "      <td>2</td>\n",
       "      <td>3</td>\n",
       "      <td>2</td>\n",
       "      <td>1</td>\n",
       "      <td>1</td>\n",
       "    </tr>\n",
       "    <tr>\n",
       "      <th>2</th>\n",
       "      <td>1</td>\n",
       "      <td>2</td>\n",
       "      <td>12</td>\n",
       "      <td>2</td>\n",
       "      <td>9</td>\n",
       "      <td>841</td>\n",
       "      <td>2</td>\n",
       "      <td>4</td>\n",
       "      <td>2</td>\n",
       "      <td>2</td>\n",
       "      <td>...</td>\n",
       "      <td>4</td>\n",
       "      <td>1</td>\n",
       "      <td>23</td>\n",
       "      <td>3</td>\n",
       "      <td>1</td>\n",
       "      <td>1</td>\n",
       "      <td>2</td>\n",
       "      <td>1</td>\n",
       "      <td>1</td>\n",
       "      <td>1</td>\n",
       "    </tr>\n",
       "    <tr>\n",
       "      <th>3</th>\n",
       "      <td>1</td>\n",
       "      <td>1</td>\n",
       "      <td>12</td>\n",
       "      <td>4</td>\n",
       "      <td>0</td>\n",
       "      <td>2122</td>\n",
       "      <td>1</td>\n",
       "      <td>3</td>\n",
       "      <td>3</td>\n",
       "      <td>3</td>\n",
       "      <td>...</td>\n",
       "      <td>2</td>\n",
       "      <td>1</td>\n",
       "      <td>39</td>\n",
       "      <td>3</td>\n",
       "      <td>1</td>\n",
       "      <td>2</td>\n",
       "      <td>2</td>\n",
       "      <td>2</td>\n",
       "      <td>1</td>\n",
       "      <td>2</td>\n",
       "    </tr>\n",
       "    <tr>\n",
       "      <th>4</th>\n",
       "      <td>1</td>\n",
       "      <td>1</td>\n",
       "      <td>12</td>\n",
       "      <td>4</td>\n",
       "      <td>0</td>\n",
       "      <td>2171</td>\n",
       "      <td>1</td>\n",
       "      <td>3</td>\n",
       "      <td>4</td>\n",
       "      <td>3</td>\n",
       "      <td>...</td>\n",
       "      <td>4</td>\n",
       "      <td>2</td>\n",
       "      <td>38</td>\n",
       "      <td>1</td>\n",
       "      <td>2</td>\n",
       "      <td>2</td>\n",
       "      <td>2</td>\n",
       "      <td>1</td>\n",
       "      <td>1</td>\n",
       "      <td>2</td>\n",
       "    </tr>\n",
       "  </tbody>\n",
       "</table>\n",
       "<p>5 rows × 21 columns</p>\n",
       "</div>"
      ],
      "text/plain": [
       "   Creditability  Account_Balance  Duration_of_Credit_monthly  \\\n",
       "0              1                1                          18   \n",
       "1              1                1                           9   \n",
       "2              1                2                          12   \n",
       "3              1                1                          12   \n",
       "4              1                1                          12   \n",
       "\n",
       "   Payment_Status_of_Previous_Credit  Purpose  Credit_Amount  \\\n",
       "0                                  4        2           1049   \n",
       "1                                  4        0           2799   \n",
       "2                                  2        9            841   \n",
       "3                                  4        0           2122   \n",
       "4                                  4        0           2171   \n",
       "\n",
       "   Value_Savings_Stocks  Length_of_current_employment  Instalment_per_cent  \\\n",
       "0                     1                             2                    4   \n",
       "1                     1                             3                    2   \n",
       "2                     2                             4                    2   \n",
       "3                     1                             3                    3   \n",
       "4                     1                             3                    4   \n",
       "\n",
       "   Sex_Marital_Status  ...  Duration_in_Current_address  \\\n",
       "0                   2  ...                            4   \n",
       "1                   3  ...                            2   \n",
       "2                   2  ...                            4   \n",
       "3                   3  ...                            2   \n",
       "4                   3  ...                            4   \n",
       "\n",
       "   Most_valuable_available_asset  Age_years  Concurrent_Credits  \\\n",
       "0                              2         21                   3   \n",
       "1                              1         36                   3   \n",
       "2                              1         23                   3   \n",
       "3                              1         39                   3   \n",
       "4                              2         38                   1   \n",
       "\n",
       "   Type_of_apartment  No_of_Credits_at_this_Bank  Occupation  \\\n",
       "0                  1                           1           3   \n",
       "1                  1                           2           3   \n",
       "2                  1                           1           2   \n",
       "3                  1                           2           2   \n",
       "4                  2                           2           2   \n",
       "\n",
       "   No_of_dependents  Telephone  Foreign_Worker  \n",
       "0                 1          1               1  \n",
       "1                 2          1               1  \n",
       "2                 1          1               1  \n",
       "3                 2          1               2  \n",
       "4                 1          1               2  \n",
       "\n",
       "[5 rows x 21 columns]"
      ]
     },
     "execution_count": 2,
     "metadata": {},
     "output_type": "execute_result"
    }
   ],
   "source": [
    "data = pd.read_csv('german.csv', sep=';')\n",
    "data.head()"
   ]
  },
  {
   "cell_type": "code",
   "execution_count": 3,
   "id": "b56ef194",
   "metadata": {},
   "outputs": [
    {
     "data": {
      "text/plain": [
       "(1000, 21)"
      ]
     },
     "execution_count": 3,
     "metadata": {},
     "output_type": "execute_result"
    }
   ],
   "source": [
    "data.shape"
   ]
  },
  {
   "cell_type": "code",
   "execution_count": 4,
   "id": "99382396",
   "metadata": {},
   "outputs": [
    {
     "name": "stdout",
     "output_type": "stream",
     "text": [
      "<class 'pandas.core.frame.DataFrame'>\n",
      "RangeIndex: 1000 entries, 0 to 999\n",
      "Data columns (total 21 columns):\n",
      " #   Column                             Non-Null Count  Dtype\n",
      "---  ------                             --------------  -----\n",
      " 0   Creditability                      1000 non-null   int64\n",
      " 1   Account_Balance                    1000 non-null   int64\n",
      " 2   Duration_of_Credit_monthly         1000 non-null   int64\n",
      " 3   Payment_Status_of_Previous_Credit  1000 non-null   int64\n",
      " 4   Purpose                            1000 non-null   int64\n",
      " 5   Credit_Amount                      1000 non-null   int64\n",
      " 6   Value_Savings_Stocks               1000 non-null   int64\n",
      " 7   Length_of_current_employment       1000 non-null   int64\n",
      " 8   Instalment_per_cent                1000 non-null   int64\n",
      " 9   Sex_Marital_Status                 1000 non-null   int64\n",
      " 10  Guarantors                         1000 non-null   int64\n",
      " 11  Duration_in_Current_address        1000 non-null   int64\n",
      " 12  Most_valuable_available_asset      1000 non-null   int64\n",
      " 13  Age_years                          1000 non-null   int64\n",
      " 14  Concurrent_Credits                 1000 non-null   int64\n",
      " 15  Type_of_apartment                  1000 non-null   int64\n",
      " 16  No_of_Credits_at_this_Bank         1000 non-null   int64\n",
      " 17  Occupation                         1000 non-null   int64\n",
      " 18  No_of_dependents                   1000 non-null   int64\n",
      " 19  Telephone                          1000 non-null   int64\n",
      " 20  Foreign_Worker                     1000 non-null   int64\n",
      "dtypes: int64(21)\n",
      "memory usage: 164.2 KB\n"
     ]
    }
   ],
   "source": [
    "data.info()"
   ]
  },
  {
   "cell_type": "code",
   "execution_count": 5,
   "id": "cdca91d7",
   "metadata": {},
   "outputs": [
    {
     "data": {
      "text/plain": [
       "1    700\n",
       "0    300\n",
       "Name: Creditability, dtype: int64"
      ]
     },
     "execution_count": 5,
     "metadata": {},
     "output_type": "execute_result"
    }
   ],
   "source": [
    "data.Creditability.value_counts()"
   ]
  },
  {
   "cell_type": "code",
   "execution_count": 6,
   "id": "852442ab",
   "metadata": {},
   "outputs": [
    {
     "data": {
      "text/plain": [
       "<AxesSubplot:>"
      ]
     },
     "execution_count": 6,
     "metadata": {},
     "output_type": "execute_result"
    },
    {
     "data": {
      "image/png": "[encoded data removed]",
      "text/plain": [
       "<Figure size 432x288 with 1 Axes>"
      ]
     },
     "metadata": {
      "needs_background": "light"
     },
     "output_type": "display_data"
    }
   ],
   "source": [
    "# Plotting the imbalanced dataset\n",
    "data.Creditability.value_counts().plot(kind = 'bar')"
   ]
  },
  {
   "cell_type": "code",
   "execution_count": 7,
   "id": "49609fc6",
   "metadata": {},
   "outputs": [
    {
     "data": {
      "text/plain": [
       "Creditability                        0\n",
       "Account_Balance                      0\n",
       "Duration_of_Credit_monthly           0\n",
       "Payment_Status_of_Previous_Credit    0\n",
       "Purpose                              0\n",
       "Credit_Amount                        0\n",
       "Value_Savings_Stocks                 0\n",
       "Length_of_current_employment         0\n",
       "Instalment_per_cent                  0\n",
       "Sex_Marital_Status                   0\n",
       "Guarantors                           0\n",
       "Duration_in_Current_address          0\n",
       "Most_valuable_available_asset        0\n",
       "Age_years                            0\n",
       "Concurrent_Credits                   0\n",
       "Type_of_apartment                    0\n",
       "No_of_Credits_at_this_Bank           0\n",
       "Occupation                           0\n",
       "No_of_dependents                     0\n",
       "Telephone                            0\n",
       "Foreign_Worker                       0\n",
       "dtype: int64"
      ]
     },
     "execution_count": 7,
     "metadata": {},
     "output_type": "execute_result"
    }
   ],
   "source": [
    "data.isnull().sum()"
   ]
  },
  {
   "cell_type": "code",
   "execution_count": 8,
   "id": "a2e880a0",
   "metadata": {},
   "outputs": [],
   "source": [
    "# Target\n",
    "y = data.Creditability\n",
    "\n",
    "# Features\n",
    "X = data.drop('Creditability', axis = 1)"
   ]
  },
  {
   "cell_type": "code",
   "execution_count": 9,
   "id": "64de9009",
   "metadata": {},
   "outputs": [
    {
     "data": {
      "text/plain": [
       "Index(['Account_Balance', 'Duration_of_Credit_monthly',\n",
       "       'Payment_Status_of_Previous_Credit', 'Purpose', 'Credit_Amount',\n",
       "       'Value_Savings_Stocks', 'Length_of_current_employment',\n",
       "       'Instalment_per_cent', 'Sex_Marital_Status', 'Guarantors',\n",
       "       'Duration_in_Current_address', 'Most_valuable_available_asset',\n",
       "       'Age_years', 'Concurrent_Credits', 'Type_of_apartment',\n",
       "       'No_of_Credits_at_this_Bank', 'Occupation', 'No_of_dependents',\n",
       "       'Telephone', 'Foreign_Worker'],\n",
       "      dtype='object')"
      ]
     },
     "execution_count": 9,
     "metadata": {},
     "output_type": "execute_result"
    }
   ],
   "source": [
    "features = X.columns\n",
    "features"
   ]
  },
  {
   "cell_type": "code",
   "execution_count": 10,
   "id": "f5acc52a",
   "metadata": {},
   "outputs": [
    {
     "data": {
      "text/plain": [
       "<AxesSubplot:ylabel='Frequency'>"
      ]
     },
     "execution_count": 10,
     "metadata": {},
     "output_type": "execute_result"
    },
    {
     "data": {
      "image/png": "[encoded data removed]",
      "text/plain": [
       "<Figure size 432x288 with 1 Axes>"
      ]
     },
     "metadata": {
      "needs_background": "light"
     },
     "output_type": "display_data"
    }
   ],
   "source": [
    "X.Account_Balance.plot(kind = 'hist')"
   ]
  },
  {
   "cell_type": "code",
   "execution_count": 11,
   "id": "44a7d167",
   "metadata": {},
   "outputs": [
    {
     "data": {
      "text/plain": [
       "4    394\n",
       "1    274\n",
       "2    269\n",
       "3     63\n",
       "Name: Account_Balance, dtype: int64"
      ]
     },
     "execution_count": 11,
     "metadata": {},
     "output_type": "execute_result"
    }
   ],
   "source": [
    "X['Account_Balance'].value_counts()"
   ]
  },
  {
   "cell_type": "code",
   "execution_count": 12,
   "id": "a9d8b7e4",
   "metadata": {},
   "outputs": [
    {
     "data": {
      "text/plain": [
       "4    39.4\n",
       "1    27.4\n",
       "2    26.9\n",
       "3     6.3\n",
       "Name: Account_Balance, dtype: float64"
      ]
     },
     "execution_count": 12,
     "metadata": {},
     "output_type": "execute_result"
    }
   ],
   "source": [
    "tran_acc_bal = X['Account_Balance'].value_counts() / len(X) * 100\n",
    "tran_acc_bal"
   ]
  },
  {
   "cell_type": "code",
   "execution_count": null,
   "id": "371bef99",
   "metadata": {},
   "outputs": [],
   "source": []
  },
  {
   "cell_type": "code",
   "execution_count": 13,
   "id": "f44700d0",
   "metadata": {},
   "outputs": [
    {
     "data": {
      "image/png": "[encoded data removed]",
      "text/plain": [
       "<Figure size 1008x576 with 19 Axes>"
      ]
     },
     "metadata": {
      "needs_background": "light"
     },
     "output_type": "display_data"
    }
   ],
   "source": [
    "plt.figure(figsize = (14, 8))\n",
    "for i, j in zip(range(1, 20), features):\n",
    "    \n",
    "    plt.subplot(7, 3, i)\n",
    "    \n",
    "    X[j].hist(label = j)\n",
    "    \n",
    "    plt.legend()"
   ]
  },
  {
   "cell_type": "code",
   "execution_count": 14,
   "id": "a9175009",
   "metadata": {},
   "outputs": [
    {
     "data": {
      "text/plain": [
       "<matplotlib.legend.Legend at 0x20f9ecc9c70>"
      ]
     },
     "execution_count": 14,
     "metadata": {},
     "output_type": "execute_result"
    },
    {
     "data": {
      "image/png": "[encoded data removed]",
      "text/plain": [
       "<Figure size 432x288 with 1 Axes>"
      ]
     },
     "metadata": {
      "needs_background": "light"
     },
     "output_type": "display_data"
    }
   ],
   "source": [
    "X['Duration_of_Credit_monthly'].hist(label = features[1])\n",
    "plt.legend()"
   ]
  },
  {
   "cell_type": "markdown",
   "id": "d07831fe",
   "metadata": {},
   "source": [
    "Most of the loans applied for are to be paid within two years.."
   ]
  },
  {
   "cell_type": "code",
   "execution_count": 15,
   "id": "2316bc4b",
   "metadata": {},
   "outputs": [
    {
     "data": {
      "text/plain": [
       "2    530\n",
       "4    293\n",
       "3     88\n",
       "1     49\n",
       "0     40\n",
       "Name: Payment_Status_of_Previous_Credit, dtype: int64"
      ]
     },
     "execution_count": 15,
     "metadata": {},
     "output_type": "execute_result"
    }
   ],
   "source": [
    "X['Payment_Status_of_Previous_Credit'].value_counts()"
   ]
  },
  {
   "cell_type": "code",
   "execution_count": 16,
   "id": "d7d50813",
   "metadata": {},
   "outputs": [
    {
     "data": {
      "text/plain": [
       "<matplotlib.legend.Legend at 0x20f9e9af4f0>"
      ]
     },
     "execution_count": 16,
     "metadata": {},
     "output_type": "execute_result"
    },
    {
     "data": {
      "image/png": "[encoded data removed]",
      "text/plain": [
       "<Figure size 432x288 with 1 Axes>"
      ]
     },
     "metadata": {
      "needs_background": "light"
     },
     "output_type": "display_data"
    }
   ],
   "source": [
    "X['Payment_Status_of_Previous_Credit'].hist(label = [features[2]])\n",
    "plt.legend()"
   ]
  },
  {
   "cell_type": "code",
   "execution_count": 17,
   "id": "70ac4b7f",
   "metadata": {},
   "outputs": [
    {
     "data": {
      "text/plain": [
       "3     280\n",
       "0     234\n",
       "2     181\n",
       "1     103\n",
       "9      97\n",
       "6      50\n",
       "5      22\n",
       "4      12\n",
       "10     12\n",
       "8       9\n",
       "Name: Purpose, dtype: int64"
      ]
     },
     "execution_count": 17,
     "metadata": {},
     "output_type": "execute_result"
    }
   ],
   "source": [
    "X['Purpose'].value_counts()"
   ]
  },
  {
   "cell_type": "code",
   "execution_count": 18,
   "id": "1791fb40",
   "metadata": {},
   "outputs": [
    {
     "data": {
      "text/plain": [
       "<matplotlib.legend.Legend at 0x20f9ea335b0>"
      ]
     },
     "execution_count": 18,
     "metadata": {},
     "output_type": "execute_result"
    },
    {
     "data": {
      "image/png": "[encoded data removed]",
      "text/plain": [
       "<Figure size 432x288 with 1 Axes>"
      ]
     },
     "metadata": {
      "needs_background": "light"
     },
     "output_type": "display_data"
    }
   ],
   "source": [
    "X['Purpose'].hist(label = features[3])\n",
    "plt.legend()"
   ]
  },
  {
   "cell_type": "code",
   "execution_count": 19,
   "id": "684f19a0",
   "metadata": {},
   "outputs": [
    {
     "data": {
      "text/plain": [
       "<matplotlib.legend.Legend at 0x20f9eaa0880>"
      ]
     },
     "execution_count": 19,
     "metadata": {},
     "output_type": "execute_result"
    },
    {
     "data": {
      "image/png": "[encoded data removed]",
      "text/plain": [
       "<Figure size 432x288 with 1 Axes>"
      ]
     },
     "metadata": {
      "needs_background": "light"
     },
     "output_type": "display_data"
    }
   ],
   "source": [
    "X['Credit_Amount'].hist(label = features[4])\n",
    "plt.legend()"
   ]
  },
  {
   "cell_type": "markdown",
   "id": "074d250d",
   "metadata": {},
   "source": [
    "Most of the loan applications are for amounts less than 10,000"
   ]
  },
  {
   "cell_type": "code",
   "execution_count": 20,
   "id": "329abc72",
   "metadata": {},
   "outputs": [
    {
     "data": {
      "text/plain": [
       "count     1000.00000\n",
       "mean      3271.24800\n",
       "std       2822.75176\n",
       "min        250.00000\n",
       "25%       1365.50000\n",
       "50%       2319.50000\n",
       "75%       3972.25000\n",
       "max      18424.00000\n",
       "Name: Credit_Amount, dtype: float64"
      ]
     },
     "execution_count": 20,
     "metadata": {},
     "output_type": "execute_result"
    }
   ],
   "source": [
    "X['Credit_Amount'].describe()"
   ]
  },
  {
   "cell_type": "code",
   "execution_count": 21,
   "id": "4bc672a5",
   "metadata": {},
   "outputs": [
    {
     "data": {
      "text/plain": [
       "<AxesSubplot:ylabel='Frequency'>"
      ]
     },
     "execution_count": 21,
     "metadata": {},
     "output_type": "execute_result"
    },
    {
     "data": {
      "image/png": "[encoded data removed]",
      "text/plain": [
       "<Figure size 432x288 with 1 Axes>"
      ]
     },
     "metadata": {
      "needs_background": "light"
     },
     "output_type": "display_data"
    }
   ],
   "source": [
    "X['Credit_Amount'].plot(kind = 'hist', bins = 4)"
   ]
  },
  {
   "cell_type": "code",
   "execution_count": 22,
   "id": "79c13218",
   "metadata": {},
   "outputs": [
    {
     "data": {
      "text/plain": [
       "<AxesSubplot:>"
      ]
     },
     "execution_count": 22,
     "metadata": {},
     "output_type": "execute_result"
    },
    {
     "data": {
      "image/png": "[encoded data removed]",
      "text/plain": [
       "<Figure size 432x288 with 1 Axes>"
      ]
     },
     "metadata": {
      "needs_background": "light"
     },
     "output_type": "display_data"
    }
   ],
   "source": [
    "X['Credit_Amount'].plot(kind = 'box')"
   ]
  },
  {
   "cell_type": "code",
   "execution_count": 23,
   "id": "a0967a83",
   "metadata": {},
   "outputs": [
    {
     "data": {
      "text/plain": [
       "18.8"
      ]
     },
     "execution_count": 23,
     "metadata": {},
     "output_type": "execute_result"
    }
   ],
   "source": [
    "len(X.loc[X['Credit_Amount'] > 5000]) / len(X) * 100"
   ]
  },
  {
   "cell_type": "code",
   "execution_count": 24,
   "id": "22acc355",
   "metadata": {},
   "outputs": [
    {
     "data": {
      "text/plain": [
       "4.0"
      ]
     },
     "execution_count": 24,
     "metadata": {},
     "output_type": "execute_result"
    }
   ],
   "source": [
    "len(X.loc[X['Credit_Amount'] > 10000]) / len(X) * 100"
   ]
  },
  {
   "cell_type": "markdown",
   "id": "efa4d20e",
   "metadata": {},
   "source": [
    "Half of the applications are below 2,500. Only about 20% of the loan applications exceed 5,000 and 4% exceeding 10000"
   ]
  },
  {
   "cell_type": "code",
   "execution_count": 25,
   "id": "0fd0f6d3",
   "metadata": {},
   "outputs": [
    {
     "data": {
      "text/plain": [
       "<matplotlib.legend.Legend at 0x20f98c1c6d0>"
      ]
     },
     "execution_count": 25,
     "metadata": {},
     "output_type": "execute_result"
    },
    {
     "data": {
      "image/png": "[encoded data removed]",
      "text/plain": [
       "<Figure size 432x288 with 1 Axes>"
      ]
     },
     "metadata": {
      "needs_background": "light"
     },
     "output_type": "display_data"
    }
   ],
   "source": [
    "X['Value_Savings_Stocks'].hist(label = features[5])\n",
    "plt.legend()"
   ]
  },
  {
   "cell_type": "code",
   "execution_count": 26,
   "id": "62e4fef9",
   "metadata": {},
   "outputs": [
    {
     "data": {
      "text/plain": [
       "1    603\n",
       "5    183\n",
       "2    103\n",
       "3     63\n",
       "4     48\n",
       "Name: Value_Savings_Stocks, dtype: int64"
      ]
     },
     "execution_count": 26,
     "metadata": {},
     "output_type": "execute_result"
    }
   ],
   "source": [
    "X['Value_Savings_Stocks'].value_counts()"
   ]
  },
  {
   "cell_type": "code",
   "execution_count": 27,
   "id": "141653eb",
   "metadata": {},
   "outputs": [
    {
     "data": {
      "text/plain": [
       "23.1"
      ]
     },
     "execution_count": 27,
     "metadata": {},
     "output_type": "execute_result"
    }
   ],
   "source": [
    "len(X.loc[X['Value_Savings_Stocks'].isin([4,5])]) / len(X) * 100"
   ]
  },
  {
   "cell_type": "markdown",
   "id": "ccb46f72",
   "metadata": {},
   "source": [
    "About 60% of the loan applicants have no savings or do not own a stock. 23% of the applicants have over 1000DM in savings or stock holdings."
   ]
  },
  {
   "cell_type": "code",
   "execution_count": 28,
   "id": "64f332ed",
   "metadata": {},
   "outputs": [
    {
     "data": {
      "text/plain": [
       "<AxesSubplot:title={'center':'Credit_Amount'}, xlabel='Value_Savings_Stocks'>"
      ]
     },
     "execution_count": 28,
     "metadata": {},
     "output_type": "execute_result"
    },
    {
     "data": {
      "image/png": "[encoded data removed]",
      "text/plain": [
       "<Figure size 432x288 with 1 Axes>"
      ]
     },
     "metadata": {
      "needs_background": "light"
     },
     "output_type": "display_data"
    }
   ],
   "source": [
    "X.boxplot(column = 'Credit_Amount', by = 'Value_Savings_Stocks')"
   ]
  },
  {
   "cell_type": "code",
   "execution_count": null,
   "id": "9d47be37",
   "metadata": {},
   "outputs": [],
   "source": []
  },
  {
   "cell_type": "code",
   "execution_count": null,
   "id": "2f9cf3c1",
   "metadata": {},
   "outputs": [],
   "source": []
  },
  {
   "cell_type": "code",
   "execution_count": 29,
   "id": "4c93286c",
   "metadata": {},
   "outputs": [
    {
     "data": {
      "text/plain": [
       "<AxesSubplot:>"
      ]
     },
     "execution_count": 29,
     "metadata": {},
     "output_type": "execute_result"
    },
    {
     "data": {
      "image/png": "[encoded data removed]",
      "text/plain": [
       "<Figure size 432x288 with 1 Axes>"
      ]
     },
     "metadata": {
      "needs_background": "light"
     },
     "output_type": "display_data"
    }
   ],
   "source": [
    "X['Length_of_current_employment'].hist(label = features[6])\n",
    "# plt.legend()"
   ]
  },
  {
   "cell_type": "code",
   "execution_count": null,
   "id": "50e1ec34",
   "metadata": {},
   "outputs": [],
   "source": []
  },
  {
   "cell_type": "code",
   "execution_count": 30,
   "id": "0d7a97a1",
   "metadata": {},
   "outputs": [
    {
     "data": {
      "text/plain": [
       "<AxesSubplot:>"
      ]
     },
     "execution_count": 30,
     "metadata": {},
     "output_type": "execute_result"
    },
    {
     "data": {
      "image/png": "[encoded data removed]",
      "text/plain": [
       "<Figure size 432x288 with 1 Axes>"
      ]
     },
     "metadata": {
      "needs_background": "light"
     },
     "output_type": "display_data"
    }
   ],
   "source": [
    "X['Length_of_current_employment'].hist(label = 'Length_of_current_employment')"
   ]
  },
  {
   "cell_type": "code",
   "execution_count": 31,
   "id": "2dd5aa08",
   "metadata": {},
   "outputs": [
    {
     "data": {
      "text/plain": [
       "3    339\n",
       "5    253\n",
       "4    174\n",
       "2    172\n",
       "1     62\n",
       "Name: Length_of_current_employment, dtype: int64"
      ]
     },
     "execution_count": 31,
     "metadata": {},
     "output_type": "execute_result"
    }
   ],
   "source": [
    "X['Length_of_current_employment'].value_counts()"
   ]
  },
  {
   "cell_type": "code",
   "execution_count": 32,
   "id": "85c50cdf",
   "metadata": {},
   "outputs": [
    {
     "data": {
      "text/plain": [
       "76.6"
      ]
     },
     "execution_count": 32,
     "metadata": {},
     "output_type": "execute_result"
    }
   ],
   "source": [
    "len(X[X['Length_of_current_employment'].isin([3,4,5])]) / len(X) * 100"
   ]
  },
  {
   "cell_type": "code",
   "execution_count": 33,
   "id": "9ccad8cd",
   "metadata": {},
   "outputs": [
    {
     "data": {
      "text/plain": [
       "6.2"
      ]
     },
     "execution_count": 33,
     "metadata": {},
     "output_type": "execute_result"
    }
   ],
   "source": [
    "len(X[X['Length_of_current_employment'].isin([1])]) / len(X) * 100"
   ]
  },
  {
   "cell_type": "markdown",
   "id": "5a3ecbb2",
   "metadata": {},
   "source": [
    "Over 75% of the applicants have a stable employment with contracts extending over four years.\n",
    "Just 6% have a contract of less than a year or maybe unemployed (perhaps entrepreneurs) "
   ]
  },
  {
   "cell_type": "code",
   "execution_count": 34,
   "id": "2a5f8d3d",
   "metadata": {},
   "outputs": [
    {
     "data": {
      "text/plain": [
       "<AxesSubplot:title={'center':'Credit_Amount'}, xlabel='Length_of_current_employment'>"
      ]
     },
     "execution_count": 34,
     "metadata": {},
     "output_type": "execute_result"
    },
    {
     "data": {
      "image/png": "[encoded data removed]",
      "text/plain": [
       "<Figure size 432x288 with 1 Axes>"
      ]
     },
     "metadata": {
      "needs_background": "light"
     },
     "output_type": "display_data"
    }
   ],
   "source": [
    "X.boxplot(column = 'Credit_Amount', by = 'Length_of_current_employment')"
   ]
  },
  {
   "cell_type": "code",
   "execution_count": null,
   "id": "afdc0bec",
   "metadata": {},
   "outputs": [],
   "source": []
  },
  {
   "cell_type": "code",
   "execution_count": 35,
   "id": "ba0a63ec",
   "metadata": {},
   "outputs": [
    {
     "data": {
      "text/plain": [
       "<AxesSubplot:>"
      ]
     },
     "execution_count": 35,
     "metadata": {},
     "output_type": "execute_result"
    },
    {
     "data": {
      "image/png": "[encoded data removed]",
      "text/plain": [
       "<Figure size 432x288 with 1 Axes>"
      ]
     },
     "metadata": {
      "needs_background": "light"
     },
     "output_type": "display_data"
    }
   ],
   "source": [
    "X['Guarantors'].hist(label = 'Guarantors')"
   ]
  },
  {
   "cell_type": "code",
   "execution_count": 36,
   "id": "7f403ede",
   "metadata": {},
   "outputs": [
    {
     "data": {
      "text/plain": [
       "<AxesSubplot:>"
      ]
     },
     "execution_count": 36,
     "metadata": {},
     "output_type": "execute_result"
    },
    {
     "data": {
      "image/png": "[encoded data removed]",
      "text/plain": [
       "<Figure size 432x288 with 1 Axes>"
      ]
     },
     "metadata": {
      "needs_background": "light"
     },
     "output_type": "display_data"
    }
   ],
   "source": [
    "X['Most_valuable_available_asset'].hist(label = 'Most_valuable_available_asset')"
   ]
  },
  {
   "cell_type": "code",
   "execution_count": 37,
   "id": "09745550",
   "metadata": {},
   "outputs": [
    {
     "data": {
      "text/plain": [
       "<matplotlib.legend.Legend at 0x20f9e5a16d0>"
      ]
     },
     "execution_count": 37,
     "metadata": {},
     "output_type": "execute_result"
    },
    {
     "data": {
      "image/png": "[encoded data removed]",
      "text/plain": [
       "<Figure size 432x288 with 1 Axes>"
      ]
     },
     "metadata": {
      "needs_background": "light"
     },
     "output_type": "display_data"
    }
   ],
   "source": [
    "X['Age_years'].hist(label = 'Age_years', bins = 5)\n",
    "plt.legend()"
   ]
  },
  {
   "cell_type": "code",
   "execution_count": 38,
   "id": "f6227750",
   "metadata": {},
   "outputs": [
    {
     "data": {
      "text/plain": [
       "<AxesSubplot:title={'center':'Age'}>"
      ]
     },
     "execution_count": 38,
     "metadata": {},
     "output_type": "execute_result"
    },
    {
     "data": {
      "image/png": "[encoded data removed]",
      "text/plain": [
       "<Figure size 432x288 with 1 Axes>"
      ]
     },
     "metadata": {
      "needs_background": "light"
     },
     "output_type": "display_data"
    }
   ],
   "source": [
    "X['Age_years'].plot(kind = 'box', title = 'Age')"
   ]
  },
  {
   "cell_type": "code",
   "execution_count": 39,
   "id": "38754dd4",
   "metadata": {},
   "outputs": [
    {
     "ename": "SyntaxError",
     "evalue": "invalid syntax (<ipython-input-39-2c588b0560f6>, line 1)",
     "output_type": "error",
     "traceback": [
      "\u001b[1;36m  File \u001b[1;32m\"<ipython-input-39-2c588b0560f6>\"\u001b[1;36m, line \u001b[1;32m1\u001b[0m\n\u001b[1;33m    bins = [(20 - 25), (26 - 30), (31 - 39), (40 >)]\u001b[0m\n\u001b[1;37m                                                  ^\u001b[0m\n\u001b[1;31mSyntaxError\u001b[0m\u001b[1;31m:\u001b[0m invalid syntax\n"
     ]
    }
   ],
   "source": [
    "bins = [(20 - 25), (26 - 30), (31 - 39), (40 >)]"
   ]
  },
  {
   "cell_type": "code",
   "execution_count": null,
   "id": "523c6c7a",
   "metadata": {},
   "outputs": [],
   "source": []
  },
  {
   "cell_type": "code",
   "execution_count": null,
   "id": "f203bef6",
   "metadata": {},
   "outputs": [],
   "source": [
    "X['Concurrent_Credits'].hist(label = 'Concurrent_Credits')\n",
    "plt.legend()"
   ]
  },
  {
   "cell_type": "code",
   "execution_count": null,
   "id": "9ff76d05",
   "metadata": {},
   "outputs": [],
   "source": [
    "X['No_of_Credits_at_this_Bank'].hist(label = 'No_of_Credits_at_this_Bank')\n",
    "plt.legend()"
   ]
  },
  {
   "cell_type": "code",
   "execution_count": null,
   "id": "b5961c6c",
   "metadata": {},
   "outputs": [],
   "source": [
    "X['Occupation'].hist(label = 'Occupation')\n",
    "plt.legend()"
   ]
  },
  {
   "cell_type": "code",
   "execution_count": null,
   "id": "2ddce97c",
   "metadata": {},
   "outputs": [],
   "source": [
    "sns.regplot(x = X['Age_years'], y = X['Credit_Amount'])"
   ]
  },
  {
   "cell_type": "markdown",
   "id": "4284496c",
   "metadata": {},
   "source": [
    "## Predictive Modelling"
   ]
  },
  {
   "cell_type": "code",
   "execution_count": null,
   "id": "f28e88c9",
   "metadata": {},
   "outputs": [],
   "source": [
    "# Tree-based\n",
    "from sklearn.tree import DecisionTreeClassifier\n",
    "from sklearn.ensemble import RandomForestClassifier\n",
    "\n",
    "# LogisticRegression\n",
    "from sklearn.linear_model import LogisticRegression\n",
    "\n",
    "# Distance-based\n",
    "from sklearn.svm import SVC\n",
    "from sklearn.neighbors import KNeighborsClassifier\n",
    "\n",
    "# Preprocessing \n",
    "from sklearn.preprocessing import StandardScaler\n",
    "from sklearn.model_selection import train_test_split\n",
    "\n",
    "# Model Validation\n",
    "from sklearn import metrics"
   ]
  },
  {
   "cell_type": "code",
   "execution_count": null,
   "id": "b03d71ee",
   "metadata": {},
   "outputs": [],
   "source": [
    "X_train, X_valid, y_train, y_valid = train_test_split(X, y, test_size = 0.2)"
   ]
  },
  {
   "cell_type": "markdown",
   "id": "0f01dba5",
   "metadata": {},
   "source": [
    "+ ## DecisionTree"
   ]
  },
  {
   "cell_type": "code",
   "execution_count": null,
   "id": "bc4c832c",
   "metadata": {},
   "outputs": [],
   "source": [
    "model_dt = DecisionTreeClassifier(random_state = 0)\n",
    "model_dt.fit(X_train, y_train)"
   ]
  },
  {
   "cell_type": "code",
   "execution_count": null,
   "id": "3dccfb6c",
   "metadata": {},
   "outputs": [],
   "source": [
    "preds_dt = model_dt.predict(X_valid)\n",
    "acc_score = metrics.accuracy_score(y_valid, preds_dt)\n",
    "print(f'DecisionTree Accuracy: {acc_score}')\n",
    "\n",
    "class_report = metrics.classification_report(y_valid, preds_dt)\n",
    "print(class_report)"
   ]
  },
  {
   "cell_type": "markdown",
   "id": "f0442f9f",
   "metadata": {},
   "source": [
    "+ ## RandomForest"
   ]
  },
  {
   "cell_type": "code",
   "execution_count": null,
   "id": "a13c6054",
   "metadata": {},
   "outputs": [],
   "source": [
    "model_rf = RandomForestClassifier(random_state = 11)\n",
    "model_rf.fit(X_train, y_train)"
   ]
  },
  {
   "cell_type": "code",
   "execution_count": null,
   "id": "28191fd0",
   "metadata": {},
   "outputs": [],
   "source": [
    "preds_rf = model_rf.predict(X_valid)\n",
    "acc_score = metrics.accuracy_score(y_valid, preds_rf)\n",
    "print(f'RandomForest Accuracy: {acc_score}')\n",
    "\n",
    "class_report = metrics.classification_report(y_valid, preds_rf)\n",
    "print(class_report)"
   ]
  },
  {
   "cell_type": "markdown",
   "id": "6b95d125",
   "metadata": {},
   "source": [
    "+ ## LogisticRegression"
   ]
  },
  {
   "cell_type": "code",
   "execution_count": null,
   "id": "960faf3e",
   "metadata": {},
   "outputs": [],
   "source": [
    "model_lr = LogisticRegression(max_iter = 1000)\n",
    "model_lr.fit(X_train, y_train)"
   ]
  },
  {
   "cell_type": "code",
   "execution_count": null,
   "id": "512a7830",
   "metadata": {},
   "outputs": [],
   "source": [
    "preds_lr = model_lr.predict(X_valid)\n",
    "acc_score = metrics.accuracy_score(y_valid, preds_lr)\n",
    "print(f'LogisticRegression Accuracy: {acc_score}')\n",
    "\n",
    "class_report = metrics.classification_report(y_valid, preds_lr)\n",
    "print(class_report)"
   ]
  },
  {
   "cell_type": "code",
   "execution_count": null,
   "id": "f1c6ec88",
   "metadata": {},
   "outputs": [],
   "source": []
  },
  {
   "cell_type": "markdown",
   "id": "f15539b7",
   "metadata": {},
   "source": [
    "+ ## SupportVector"
   ]
  },
  {
   "cell_type": "code",
   "execution_count": null,
   "id": "d97733ca",
   "metadata": {},
   "outputs": [],
   "source": [
    "model_svc = SVC()\n",
    "model_svc.fit(X_train, y_train)"
   ]
  },
  {
   "cell_type": "code",
   "execution_count": null,
   "id": "6c47a7f6",
   "metadata": {},
   "outputs": [],
   "source": [
    "preds_svc = model_svc.predict(X_valid)\n",
    "acc_score = metrics.accuracy_score(y_valid, preds_svc)\n",
    "print(f'SupportVector Accuracy: {acc_score}')\n",
    "\n",
    "class_report = metrics.classification_report(y_valid, preds_svc)\n",
    "print(class_report)"
   ]
  },
  {
   "cell_type": "code",
   "execution_count": null,
   "id": "76fc49b4",
   "metadata": {},
   "outputs": [],
   "source": []
  },
  {
   "cell_type": "code",
   "execution_count": null,
   "id": "ef853fd9",
   "metadata": {},
   "outputs": [],
   "source": []
  },
  {
   "cell_type": "markdown",
   "id": "6b1dce06",
   "metadata": {},
   "source": [
    "+ ## KNeighbors"
   ]
  },
  {
   "cell_type": "code",
   "execution_count": null,
   "id": "daef47bd",
   "metadata": {},
   "outputs": [],
   "source": [
    "model_knn = KNeighborsClassifier()\n",
    "model_knn.fit(X_train, y_train)"
   ]
  },
  {
   "cell_type": "code",
   "execution_count": null,
   "id": "8205b90e",
   "metadata": {},
   "outputs": [],
   "source": [
    "preds_knn = model_knn.predict(X_valid)\n",
    "acc_score = metrics.accuracy_score(y_valid, preds_knn)\n",
    "print(f'KNeighbors Accuracy: {acc_score}')\n",
    "\n",
    "class_report = metrics.classification_report(y_valid, preds_knn)\n",
    "print('\\n', class_report)"
   ]
  },
  {
   "cell_type": "markdown",
   "id": "74620acd",
   "metadata": {},
   "source": [
    "## Boosting Techniques\n",
    "+ Xtreme Gradient Boosting"
   ]
  },
  {
   "cell_type": "code",
   "execution_count": null,
   "id": "a95b498b",
   "metadata": {},
   "outputs": [],
   "source": [
    "from xgboost import XGBClassifier\n",
    "import lightgbm as lgb"
   ]
  },
  {
   "cell_type": "code",
   "execution_count": null,
   "id": "48b1ba82",
   "metadata": {},
   "outputs": [],
   "source": [
    "model_xgb = XGBClassifier(use_label_encoder = False)\n",
    "\n",
    "model_xgb.fit(X_train, y_train)"
   ]
  },
  {
   "cell_type": "code",
   "execution_count": null,
   "id": "64c7791d",
   "metadata": {},
   "outputs": [],
   "source": [
    "preds_xgb = model_xgb.predict(X_valid)\n",
    "print(preds_xgb[:10])\n",
    "# Accuracy\n",
    "acc_xgb = metrics.accuracy_score(y_valid, preds_xgb)\n",
    "\n",
    "print('XGB Accuracy: ', acc_xgb)"
   ]
  },
  {
   "cell_type": "code",
   "execution_count": null,
   "id": "aa04bad0",
   "metadata": {},
   "outputs": [],
   "source": [
    "print(metrics.classification_report(y_valid, preds_xgb))"
   ]
  },
  {
   "cell_type": "code",
   "execution_count": null,
   "id": "a8cfc51e",
   "metadata": {},
   "outputs": [],
   "source": []
  },
  {
   "cell_type": "markdown",
   "id": "32f34d8f",
   "metadata": {},
   "source": [
    "+ LightGradient Boosting"
   ]
  },
  {
   "cell_type": "code",
   "execution_count": null,
   "id": "2d428d42",
   "metadata": {},
   "outputs": [],
   "source": [
    "param = {'num_leaves': 8, 'objective': 'binary', 'metrics': 'auc'}\n",
    "\n",
    "num_rounds = 1000\n",
    "\n",
    "dtrain = lgb.Dataset(X_train, y_train)\n",
    "dvalid = lgb.Dataset(X_valid, y_valid)"
   ]
  },
  {
   "cell_type": "code",
   "execution_count": null,
   "id": "5d84fb89",
   "metadata": {},
   "outputs": [],
   "source": [
    "model_lgb = lgb.train(param, dtrain, num_rounds, valid_sets = [dvalid],\n",
    "                     early_stopping_rounds = 20)"
   ]
  },
  {
   "cell_type": "code",
   "execution_count": null,
   "id": "9c893807",
   "metadata": {},
   "outputs": [],
   "source": [
    "preds_lgb = model_lgb.predict(X_valid)\n",
    "preds_lgb[:20]"
   ]
  },
  {
   "cell_type": "code",
   "execution_count": null,
   "id": "4b39d656",
   "metadata": {},
   "outputs": [],
   "source": [
    "p_lgb = []\n",
    "for i in preds_lgb:\n",
    "    if i >= 0.5:\n",
    "        i = 1\n",
    "        p_lgb.append(i)\n",
    "    else:\n",
    "        i = 0\n",
    "        p_lgb.append(i)\n",
    "        \n",
    "print(p_lgb)"
   ]
  },
  {
   "cell_type": "code",
   "execution_count": null,
   "id": "6abed554",
   "metadata": {},
   "outputs": [],
   "source": [
    "# Accuracy \n",
    "acc_lgb = metrics.accuracy_score(y_valid, p_lgb)\n",
    "\n",
    "print('LGB Accuracy: ', acc_lgb)"
   ]
  },
  {
   "cell_type": "code",
   "execution_count": null,
   "id": "a5de250b",
   "metadata": {},
   "outputs": [],
   "source": [
    "acc_lgb = metrics.classification_report(y_valid, p_lgb)\n",
    "print(acc_lgb)"
   ]
  },
  {
   "cell_type": "code",
   "execution_count": null,
   "id": "7b3527ae",
   "metadata": {},
   "outputs": [],
   "source": []
  },
  {
   "cell_type": "markdown",
   "id": "fce412d7",
   "metadata": {},
   "source": [
    "## Deep Learning\n",
    "+ Deep Neural Networks using Tensorflow and Keras"
   ]
  },
  {
   "cell_type": "code",
   "execution_count": null,
   "id": "5ec55200",
   "metadata": {},
   "outputs": [],
   "source": [
    "from tensorflow.keras import Sequential, layers, callbacks"
   ]
  },
  {
   "cell_type": "code",
   "execution_count": null,
   "id": "b3c0f4ab",
   "metadata": {},
   "outputs": [],
   "source": [
    "model_dnn = Sequential([\n",
    "    layers.Dense(224, activation = 'relu', input_shape = [20]),\n",
    "    layers.BatchNormalization(),\n",
    "    layers.Dense(124, activation = 'relu'),\n",
    "    layers.Dense(124, activation = 'relu'),\n",
    "    layers.Dense(1, activation = 'sigmoid')\n",
    "])\n",
    "\n",
    "model_dnn.compile(optimizer = 'adam', loss = 'binary_crossentropy')"
   ]
  },
  {
   "cell_type": "code",
   "execution_count": null,
   "id": "89ba15fd",
   "metadata": {},
   "outputs": [],
   "source": [
    "early_stopping = callbacks.EarlyStopping(\n",
    "    min_delta = 0.001, \n",
    "    patience = 20,\n",
    "    restore_best_weights = True\n",
    ")"
   ]
  },
  {
   "cell_type": "code",
   "execution_count": null,
   "id": "03f638a5",
   "metadata": {},
   "outputs": [],
   "source": [
    "model_dl = model_dnn.fit(X_train, y_train,\n",
    "                      validation_data = (X_valid, y_valid),\n",
    "                      batch_size = 128,\n",
    "                      epochs = 1000,\n",
    "                      callbacks = [early_stopping]\n",
    "                    )"
   ]
  },
  {
   "cell_type": "code",
   "execution_count": null,
   "id": "33bc9073",
   "metadata": {},
   "outputs": [],
   "source": [
    "dl_hist = pd.DataFrame(model_dl.history)\n",
    "dl_hist.head()"
   ]
  },
  {
   "cell_type": "code",
   "execution_count": null,
   "id": "e74fcde2",
   "metadata": {},
   "outputs": [],
   "source": [
    "dl_hist.plot()"
   ]
  },
  {
   "cell_type": "code",
   "execution_count": null,
   "id": "2fbf9579",
   "metadata": {},
   "outputs": [],
   "source": [
    "dl_hist.val_loss.min()"
   ]
  },
  {
   "cell_type": "code",
   "execution_count": null,
   "id": "31d41683",
   "metadata": {},
   "outputs": [],
   "source": [
    "preds_dl = model_dnn.predict(X_valid)\n",
    "preds_dl[:10]"
   ]
  },
  {
   "cell_type": "code",
   "execution_count": null,
   "id": "fad204af",
   "metadata": {},
   "outputs": [],
   "source": [
    "y_valid.head(10)"
   ]
  },
  {
   "cell_type": "code",
   "execution_count": null,
   "id": "05c1fd03",
   "metadata": {},
   "outputs": [],
   "source": [
    "data.loc[X_valid.index][:10]"
   ]
  },
  {
   "cell_type": "code",
   "execution_count": null,
   "id": "91c073e8",
   "metadata": {},
   "outputs": [],
   "source": [
    "# DNN Accuracy\n",
    "# dl_acc = metrics.accuracy_score(y_valid, preds_dl)\n",
    "# print(dl_acc)"
   ]
  },
  {
   "cell_type": "code",
   "execution_count": null,
   "id": "48673e0a",
   "metadata": {},
   "outputs": [],
   "source": [
    "tr_pdl = []\n",
    "for elem in preds_dl:\n",
    "    \n",
    "    if elem >= 0.5:\n",
    "        elem = 1\n",
    "        tr_pdl.append(elem)\n",
    "#         print(elem)\n",
    "    else:\n",
    "        elem = 0\n",
    "        tr_pdl.append(elem)\n",
    "#         print(elem)"
   ]
  },
  {
   "cell_type": "code",
   "execution_count": null,
   "id": "05f61162",
   "metadata": {},
   "outputs": [],
   "source": [
    "print(tr_pdl)"
   ]
  },
  {
   "cell_type": "code",
   "execution_count": null,
   "id": "16949e06",
   "metadata": {},
   "outputs": [],
   "source": [
    "print('Deep Neural Networks Accuracy')\n",
    "dl_acc = metrics.accuracy_score(y_valid, tr_pdl)\n",
    "dl_acc"
   ]
  },
  {
   "cell_type": "code",
   "execution_count": null,
   "id": "b343de61",
   "metadata": {},
   "outputs": [],
   "source": []
  },
  {
   "cell_type": "markdown",
   "id": "cfa27988",
   "metadata": {},
   "source": [
    "# Using Scaled Data"
   ]
  },
  {
   "cell_type": "code",
   "execution_count": null,
   "id": "5ce34995",
   "metadata": {},
   "outputs": [],
   "source": [
    "# from mlextend.preprocessing import minmax_scaling"
   ]
  },
  {
   "cell_type": "code",
   "execution_count": null,
   "id": "7f4a7c53",
   "metadata": {},
   "outputs": [],
   "source": [
    "min_ = X_train.min(axis = 0)\n",
    "max_ = X_train.max(axis = 0)\n",
    "min_"
   ]
  },
  {
   "cell_type": "code",
   "execution_count": null,
   "id": "cd95f554",
   "metadata": {},
   "outputs": [],
   "source": [
    "max_"
   ]
  },
  {
   "cell_type": "code",
   "execution_count": null,
   "id": "a3511df4",
   "metadata": {},
   "outputs": [],
   "source": [
    "sc_train = (X_train - min_) / (max_ - min_)\n",
    "sc_train"
   ]
  },
  {
   "cell_type": "code",
   "execution_count": null,
   "id": "6387f5ed",
   "metadata": {},
   "outputs": [],
   "source": [
    "sc_valid = (X_valid - min_) / (max_ - min_)\n",
    "sc_valid.head()"
   ]
  },
  {
   "cell_type": "code",
   "execution_count": null,
   "id": "978b58fa",
   "metadata": {},
   "outputs": [],
   "source": [
    "model_nn2 = Sequential([\n",
    "    layers.Dense(224, activation = 'relu', input_shape = [20]),\n",
    "    layers.BatchNormalization(),\n",
    "    layers.Dense(224, activation = 'relu'),\n",
    "    layers.Dense(224, activation = 'relu'),\n",
    "    layers.Dense(1, activation = 'sigmoid')\n",
    "])\n",
    "\n",
    "model_nn2.compile(optimizer = 'adam', loss = 'binary_crossentropy')\n",
    "\n",
    "early_stopping = callbacks.EarlyStopping(\n",
    "    min_delta = 0.001, \n",
    "    patience = 20,\n",
    "    restore_best_weights = True\n",
    ")\n",
    "\n",
    "model_dl2 = model_nn2.fit(sc_train, y_train,\n",
    "                      validation_data = (sc_valid, y_valid),\n",
    "                      batch_size = 128,\n",
    "                      epochs = 1000,\n",
    "                      callbacks = [early_stopping]\n",
    "                    )"
   ]
  },
  {
   "cell_type": "code",
   "execution_count": null,
   "id": "d3043937",
   "metadata": {},
   "outputs": [],
   "source": [
    "preds_dl2 = model_nn2.predict(sc_valid)"
   ]
  },
  {
   "cell_type": "code",
   "execution_count": null,
   "id": "9b1fea5e",
   "metadata": {},
   "outputs": [],
   "source": [
    "tr_dl2 = []\n",
    "for elem in preds_dl2:\n",
    "    \n",
    "    if elem >= 0.5:\n",
    "        elem = 1\n",
    "        tr_dl2.append(elem)\n",
    "#         print(elem)\n",
    "    else:\n",
    "        elem = 0\n",
    "        tr_dl2.append(elem)\n",
    "#         print(elem)"
   ]
  },
  {
   "cell_type": "code",
   "execution_count": null,
   "id": "811f4afc",
   "metadata": {},
   "outputs": [],
   "source": [
    "print('Deep Neural Networks Accuracy')\n",
    "dl2_acc = metrics.accuracy_score(y_valid, tr_dl2)\n",
    "dl2_acc"
   ]
  },
  {
   "cell_type": "code",
   "execution_count": null,
   "id": "36209c74",
   "metadata": {},
   "outputs": [],
   "source": [
    "# Classical models\n",
    "\n",
    "knn2 = KNeighborsClassifier()\n",
    "knn2.fit(sc_train, y_train)\n",
    "\n",
    "k2_preds = knn2.predict(sc_valid)\n",
    "\n",
    "# Acc\n",
    "k2_acc = metrics.accuracy_score(y_valid, k2_preds)\n",
    "print('K2 Accuracy')\n",
    "k2_acc"
   ]
  },
  {
   "cell_type": "code",
   "execution_count": null,
   "id": "14bdebc5",
   "metadata": {},
   "outputs": [],
   "source": [
    "dt2 = DecisionTreeClassifier()\n",
    "dt2.fit(sc_train, y_train)\n",
    "\n",
    "dt2_preds = dt2.predict(sc_valid)\n",
    "\n",
    "# Acc\n",
    "dt2_acc = metrics.accuracy_score(y_valid, dt2_preds)\n",
    "print('dt2 Accuracy')\n",
    "dt2_acc"
   ]
  },
  {
   "cell_type": "code",
   "execution_count": null,
   "id": "72b6de7a",
   "metadata": {},
   "outputs": [],
   "source": [
    "svc2 = SVC()\n",
    "svc2.fit(sc_train, y_train)\n",
    "\n",
    "svc2_preds = svc2.predict(sc_valid)\n",
    "\n",
    "# Acc\n",
    "svc2_acc = metrics.accuracy_score(y_valid, svc2_preds)\n",
    "print('svc2 Accuracy')\n",
    "svc2_acc"
   ]
  },
  {
   "cell_type": "code",
   "execution_count": null,
   "id": "81583250",
   "metadata": {},
   "outputs": [],
   "source": [
    "rf2 = RandomForestClassifier()\n",
    "rf2.fit(sc_train, y_train)\n",
    "\n",
    "rf2_preds = rf2.predict(sc_valid)\n",
    "\n",
    "# Acc\n",
    "rf2_acc = metrics.accuracy_score(y_valid, rf2_preds)\n",
    "print('rf2 Accuracy')\n",
    "rf2_acc"
   ]
  },
  {
   "cell_type": "code",
   "execution_count": null,
   "id": "86c6eb83",
   "metadata": {},
   "outputs": [],
   "source": [
    "lr2 = LogisticRegression()\n",
    "lr2.fit(sc_train, y_train)\n",
    "\n",
    "lr2_preds = lr2.predict(sc_valid)\n",
    "\n",
    "# Acc\n",
    "lr2_acc = metrics.accuracy_score(y_valid, lr2_preds)\n",
    "print('lr2 Accuracy')\n",
    "lr2_acc"
   ]
  },
  {
   "cell_type": "code",
   "execution_count": null,
   "id": "49a46b60",
   "metadata": {},
   "outputs": [],
   "source": []
  }
 ],
 "metadata": {
  "kernelspec": {
   "display_name": "Python 3 (ipykernel)",
   "language": "python",
   "name": "python3"
  },
  "language_info": {
   "codemirror_mode": {
    "name": "ipython",
    "version": 3
   },
   "file_extension": ".py",
   "mimetype": "text/x-python",
   "name": "python",
   "nbconvert_exporter": "python",
   "pygments_lexer": "ipython3",
   "version": "3.9.13"
  }
 },
 "nbformat": 4,
 "nbformat_minor": 5
}
