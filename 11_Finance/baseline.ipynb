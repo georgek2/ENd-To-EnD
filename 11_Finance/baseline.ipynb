{
 "cells": [
  {
   "cell_type": "markdown",
   "id": "2dc1b05e",
   "metadata": {},
   "source": [
    "+ MachineHack - Financial Risk Prediction\n",
    "> Predict whether an organization is under a possible financial risk or not\n",
    "\n",
    "For any organization, even the slightest chance of financial risk can not be ignored. Organizations conduct regular inspections on their expenditures and revenue to make sure that they do not fall below the critical limit. In this hackathon, you as a data scientist must use the given data to predict whether an organization is under a possible financial risk or not.\n",
    "\n",
    "Content\n",
    "Given are 7 distinguishing factors that can provide insight into whether an organization may face a financial risk or not. Your objective as a data scientist is to build a machine learning model that can predict if an organization will fall under the risk using the given features.\n",
    "\n",
    "Acknowledgements\n",
    "Data Description\n",
    "The unzipped folder will have the following files.\n",
    "\n",
    "Train.csv – 543 observations.\n",
    "Test.csv – 233 observations.\n",
    "Sample Submission – Sample format for the submission.\n",
    "Target Variable: IsUnderRisk\n",
    "\n",
    "Note:\n",
    "\n",
    "The columns Past_Results indicate the number of times an organization fell under a financial risk\n",
    "\n"
   ]
  },
  {
   "cell_type": "code",
   "execution_count": null,
   "id": "078846f8",
   "metadata": {},
   "outputs": [],
   "source": []
  },
  {
   "cell_type": "code",
   "execution_count": null,
   "id": "c8b99cf3",
   "metadata": {},
   "outputs": [],
   "source": []
  },
  {
   "cell_type": "code",
   "execution_count": 1,
   "id": "661aca0f",
   "metadata": {},
   "outputs": [],
   "source": [
    "import numpy as np\n",
    "import pandas as pd\n",
    "import matplotlib.pyplot as plt\n",
    "import seaborn as sns\n",
    "%matplotlib inline"
   ]
  },
  {
   "cell_type": "code",
   "execution_count": 2,
   "id": "c17e22e1",
   "metadata": {},
   "outputs": [
    {
     "data": {
      "text/html": [
       "<div>\n",
       "<style scoped>\n",
       "    .dataframe tbody tr th:only-of-type {\n",
       "        vertical-align: middle;\n",
       "    }\n",
       "\n",
       "    .dataframe tbody tr th {\n",
       "        vertical-align: top;\n",
       "    }\n",
       "\n",
       "    .dataframe thead th {\n",
       "        text-align: right;\n",
       "    }\n",
       "</style>\n",
       "<table border=\"1\" class=\"dataframe\">\n",
       "  <thead>\n",
       "    <tr style=\"text-align: right;\">\n",
       "      <th></th>\n",
       "      <th>City</th>\n",
       "      <th>Location_Score</th>\n",
       "      <th>Internal_Audit_Score</th>\n",
       "      <th>External_Audit_Score</th>\n",
       "      <th>Fin_Score</th>\n",
       "      <th>Loss_score</th>\n",
       "      <th>Past_Results</th>\n",
       "      <th>IsUnderRisk</th>\n",
       "    </tr>\n",
       "  </thead>\n",
       "  <tbody>\n",
       "    <tr>\n",
       "      <th>0</th>\n",
       "      <td>2</td>\n",
       "      <td>8.032</td>\n",
       "      <td>14</td>\n",
       "      <td>8</td>\n",
       "      <td>3</td>\n",
       "      <td>6</td>\n",
       "      <td>0</td>\n",
       "      <td>1</td>\n",
       "    </tr>\n",
       "    <tr>\n",
       "      <th>1</th>\n",
       "      <td>31</td>\n",
       "      <td>77.730</td>\n",
       "      <td>8</td>\n",
       "      <td>3</td>\n",
       "      <td>3</td>\n",
       "      <td>8</td>\n",
       "      <td>1</td>\n",
       "      <td>0</td>\n",
       "    </tr>\n",
       "    <tr>\n",
       "      <th>2</th>\n",
       "      <td>40</td>\n",
       "      <td>59.203</td>\n",
       "      <td>3</td>\n",
       "      <td>12</td>\n",
       "      <td>11</td>\n",
       "      <td>3</td>\n",
       "      <td>0</td>\n",
       "      <td>1</td>\n",
       "    </tr>\n",
       "    <tr>\n",
       "      <th>3</th>\n",
       "      <td>12</td>\n",
       "      <td>73.080</td>\n",
       "      <td>4</td>\n",
       "      <td>5</td>\n",
       "      <td>7</td>\n",
       "      <td>6</td>\n",
       "      <td>0</td>\n",
       "      <td>0</td>\n",
       "    </tr>\n",
       "    <tr>\n",
       "      <th>4</th>\n",
       "      <td>4</td>\n",
       "      <td>15.666</td>\n",
       "      <td>13</td>\n",
       "      <td>15</td>\n",
       "      <td>6</td>\n",
       "      <td>7</td>\n",
       "      <td>2</td>\n",
       "      <td>1</td>\n",
       "    </tr>\n",
       "  </tbody>\n",
       "</table>\n",
       "</div>"
      ],
      "text/plain": [
       "   City  Location_Score  Internal_Audit_Score  External_Audit_Score  \\\n",
       "0     2           8.032                    14                     8   \n",
       "1    31          77.730                     8                     3   \n",
       "2    40          59.203                     3                    12   \n",
       "3    12          73.080                     4                     5   \n",
       "4     4          15.666                    13                    15   \n",
       "\n",
       "   Fin_Score  Loss_score  Past_Results  IsUnderRisk  \n",
       "0          3           6             0            1  \n",
       "1          3           8             1            0  \n",
       "2         11           3             0            1  \n",
       "3          7           6             0            0  \n",
       "4          6           7             2            1  "
      ]
     },
     "execution_count": 2,
     "metadata": {},
     "output_type": "execute_result"
    }
   ],
   "source": [
    "data = pd.read_csv('train.csv')\n",
    "data.head()"
   ]
  },
  {
   "cell_type": "code",
   "execution_count": 3,
   "id": "a23c78e9",
   "metadata": {},
   "outputs": [
    {
     "data": {
      "text/plain": [
       "(543, 8)"
      ]
     },
     "execution_count": 3,
     "metadata": {},
     "output_type": "execute_result"
    }
   ],
   "source": [
    "data.shape"
   ]
  },
  {
   "cell_type": "code",
   "execution_count": 4,
   "id": "59f6738d",
   "metadata": {},
   "outputs": [
    {
     "data": {
      "text/plain": [
       "Index(['City', 'Location_Score', 'Internal_Audit_Score',\n",
       "       'External_Audit_Score', 'Fin_Score', 'Loss_score', 'Past_Results'],\n",
       "      dtype='object')"
      ]
     },
     "execution_count": 4,
     "metadata": {},
     "output_type": "execute_result"
    }
   ],
   "source": [
    "features = data.columns.drop('IsUnderRisk')\n",
    "features"
   ]
  },
  {
   "cell_type": "code",
   "execution_count": 5,
   "id": "1d7adb2a",
   "metadata": {},
   "outputs": [
    {
     "data": {
      "text/plain": [
       "City                    0\n",
       "Location_Score          0\n",
       "Internal_Audit_Score    0\n",
       "External_Audit_Score    0\n",
       "Fin_Score               0\n",
       "Loss_score              0\n",
       "Past_Results            0\n",
       "IsUnderRisk             0\n",
       "dtype: int64"
      ]
     },
     "execution_count": 5,
     "metadata": {},
     "output_type": "execute_result"
    }
   ],
   "source": [
    "data.isnull().sum()"
   ]
  },
  {
   "cell_type": "code",
   "execution_count": 6,
   "id": "a9e0c3ce",
   "metadata": {},
   "outputs": [
    {
     "name": "stdout",
     "output_type": "stream",
     "text": [
      "<class 'pandas.core.frame.DataFrame'>\n",
      "RangeIndex: 543 entries, 0 to 542\n",
      "Data columns (total 8 columns):\n",
      " #   Column                Non-Null Count  Dtype  \n",
      "---  ------                --------------  -----  \n",
      " 0   City                  543 non-null    int64  \n",
      " 1   Location_Score        543 non-null    float64\n",
      " 2   Internal_Audit_Score  543 non-null    int64  \n",
      " 3   External_Audit_Score  543 non-null    int64  \n",
      " 4   Fin_Score             543 non-null    int64  \n",
      " 5   Loss_score            543 non-null    int64  \n",
      " 6   Past_Results          543 non-null    int64  \n",
      " 7   IsUnderRisk           543 non-null    int64  \n",
      "dtypes: float64(1), int64(7)\n",
      "memory usage: 34.1 KB\n"
     ]
    }
   ],
   "source": [
    "data.info()"
   ]
  },
  {
   "cell_type": "code",
   "execution_count": 7,
   "id": "56728b2a",
   "metadata": {},
   "outputs": [
    {
     "data": {
      "text/plain": [
       "City                    216.757524\n",
       "Location_Score          619.377270\n",
       "Internal_Audit_Score     10.969488\n",
       "External_Audit_Score     11.907103\n",
       "Fin_Score                 9.966511\n",
       "Loss_score                3.382378\n",
       "Past_Results              0.584473\n",
       "IsUnderRisk               0.234518\n",
       "dtype: float64"
      ]
     },
     "execution_count": 7,
     "metadata": {},
     "output_type": "execute_result"
    }
   ],
   "source": [
    "data.var()"
   ]
  },
  {
   "cell_type": "markdown",
   "id": "4427428f",
   "metadata": {},
   "source": [
    "### Univariate Data Analysis\n",
    "> Continuous variables"
   ]
  },
  {
   "cell_type": "markdown",
   "id": "9235a5cc",
   "metadata": {},
   "source": [
    "- Histograms"
   ]
  },
  {
   "cell_type": "code",
   "execution_count": 8,
   "id": "2718473a",
   "metadata": {},
   "outputs": [
    {
     "data": {
      "text/plain": [
       "<AxesSubplot:xlabel='Location_Score', ylabel='Count'>"
      ]
     },
     "execution_count": 8,
     "metadata": {},
     "output_type": "execute_result"
    },
    {
     "data": {
      "image/png": "[encoded data removed]",
      "text/plain": [
       "<Figure size 432x288 with 1 Axes>"
      ]
     },
     "metadata": {
      "needs_background": "light"
     },
     "output_type": "display_data"
    }
   ],
   "source": [
    "columns = ['Location_Score', 'Internal_Audit_Score', 'External_Audit_Score', 'Fin_Score', 'Loss_score']\n",
    "\n",
    "sns.histplot(data['Location_Score'])"
   ]
  },
  {
   "cell_type": "code",
   "execution_count": 9,
   "id": "c57ebe3c",
   "metadata": {},
   "outputs": [
    {
     "data": {
      "text/plain": [
       "<AxesSubplot:xlabel='Internal_Audit_Score', ylabel='Count'>"
      ]
     },
     "execution_count": 9,
     "metadata": {},
     "output_type": "execute_result"
    },
    {
     "data": {
      "image/png": "[encoded data removed]",
      "text/plain": [
       "<Figure size 432x288 with 1 Axes>"
      ]
     },
     "metadata": {
      "needs_background": "light"
     },
     "output_type": "display_data"
    }
   ],
   "source": [
    "sns.histplot(data['Internal_Audit_Score'])"
   ]
  },
  {
   "cell_type": "code",
   "execution_count": 10,
   "id": "9e01e9c3",
   "metadata": {},
   "outputs": [
    {
     "data": {
      "text/plain": [
       "<AxesSubplot:xlabel='External_Audit_Score', ylabel='Count'>"
      ]
     },
     "execution_count": 10,
     "metadata": {},
     "output_type": "execute_result"
    },
    {
     "data": {
      "image/png": "[encoded data removed]",
      "text/plain": [
       "<Figure size 432x288 with 1 Axes>"
      ]
     },
     "metadata": {
      "needs_background": "light"
     },
     "output_type": "display_data"
    }
   ],
   "source": [
    "sns.histplot(data['External_Audit_Score'])"
   ]
  },
  {
   "cell_type": "code",
   "execution_count": 11,
   "id": "108fdbdf",
   "metadata": {},
   "outputs": [
    {
     "data": {
      "text/plain": [
       "<AxesSubplot:xlabel='Fin_Score', ylabel='Count'>"
      ]
     },
     "execution_count": 11,
     "metadata": {},
     "output_type": "execute_result"
    },
    {
     "data": {
      "image/png": "[encoded data removed]",
      "text/plain": [
       "<Figure size 432x288 with 1 Axes>"
      ]
     },
     "metadata": {
      "needs_background": "light"
     },
     "output_type": "display_data"
    }
   ],
   "source": [
    "sns.histplot(data['Fin_Score'])"
   ]
  },
  {
   "cell_type": "code",
   "execution_count": 12,
   "id": "793620a5",
   "metadata": {},
   "outputs": [
    {
     "data": {
      "text/plain": [
       "<AxesSubplot:xlabel='Loss_score', ylabel='Count'>"
      ]
     },
     "execution_count": 12,
     "metadata": {},
     "output_type": "execute_result"
    },
    {
     "data": {
      "image/png": "[encoded data removed]",
      "text/plain": [
       "<Figure size 432x288 with 1 Axes>"
      ]
     },
     "metadata": {
      "needs_background": "light"
     },
     "output_type": "display_data"
    }
   ],
   "source": [
    "sns.histplot(data['Loss_score'])"
   ]
  },
  {
   "cell_type": "code",
   "execution_count": 13,
   "id": "0fd82579",
   "metadata": {},
   "outputs": [
    {
     "data": {
      "image/png": "[encoded data removed]",
      "text/plain": [
       "<Figure size 1008x576 with 5 Axes>"
      ]
     },
     "metadata": {
      "needs_background": "light"
     },
     "output_type": "display_data"
    }
   ],
   "source": [
    "plt.figure(figsize=(14,8))\n",
    "clr=['indigo','blue','green','orange','orangered']\n",
    "\n",
    "for i,j in zip(range(1,6),columns):\n",
    "    plt.subplot(2,3,i)\n",
    "    data[j].hist(color = clr[i-1], label=j)\n",
    "    plt.legend()\n",
    "    "
   ]
  },
  {
   "cell_type": "markdown",
   "id": "293b2064",
   "metadata": {},
   "source": [
    "- Density plots"
   ]
  },
  {
   "cell_type": "code",
   "execution_count": 14,
   "id": "969ede24",
   "metadata": {},
   "outputs": [
    {
     "data": {
      "text/plain": [
       "array([[<AxesSubplot:ylabel='Density'>, <AxesSubplot:ylabel='Density'>,\n",
       "        <AxesSubplot:ylabel='Density'>],\n",
       "       [<AxesSubplot:ylabel='Density'>, <AxesSubplot:ylabel='Density'>,\n",
       "        <AxesSubplot:ylabel='Density'>]], dtype=object)"
      ]
     },
     "execution_count": 14,
     "metadata": {},
     "output_type": "execute_result"
    },
    {
     "data": {
      "text/plain": [
       "<Figure size 1152x432 with 0 Axes>"
      ]
     },
     "metadata": {},
     "output_type": "display_data"
    },
    {
     "data": {
      "image/png": "[encoded data removed]",
      "text/plain": [
       "<Figure size 1008x432 with 6 Axes>"
      ]
     },
     "metadata": {
      "needs_background": "light"
     },
     "output_type": "display_data"
    }
   ],
   "source": [
    "plt.figure(figsize=(16, 6))\n",
    "\n",
    "data[columns].plot(kind = 'density', subplots = True, sharex = False, sharey = False, figsize=(14, 6), layout = (2, 3))"
   ]
  },
  {
   "cell_type": "code",
   "execution_count": null,
   "id": "d0036df8",
   "metadata": {},
   "outputs": [],
   "source": []
  },
  {
   "cell_type": "code",
   "execution_count": 15,
   "id": "c9a4379d",
   "metadata": {},
   "outputs": [
    {
     "data": {
      "text/plain": [
       "<AxesSubplot:>"
      ]
     },
     "execution_count": 15,
     "metadata": {},
     "output_type": "execute_result"
    },
    {
     "data": {
      "image/png": "[encoded data removed]",
      "text/plain": [
       "<Figure size 1152x432 with 1 Axes>"
      ]
     },
     "metadata": {
      "needs_background": "light"
     },
     "output_type": "display_data"
    }
   ],
   "source": [
    "plt.figure(figsize = (16, 6))\n",
    "\n",
    "data.boxplot(column=columns)"
   ]
  },
  {
   "cell_type": "markdown",
   "id": "b23a8ef9",
   "metadata": {},
   "source": [
    "> Discrete Variables"
   ]
  },
  {
   "cell_type": "code",
   "execution_count": 16,
   "id": "6187b1c5",
   "metadata": {},
   "outputs": [
    {
     "data": {
      "text/plain": [
       "<AxesSubplot:xlabel='City', ylabel='Count'>"
      ]
     },
     "execution_count": 16,
     "metadata": {},
     "output_type": "execute_result"
    },
    {
     "data": {
      "image/png": "[encoded data removed]",
      "text/plain": [
       "<Figure size 432x288 with 1 Axes>"
      ]
     },
     "metadata": {
      "needs_background": "light"
     },
     "output_type": "display_data"
    }
   ],
   "source": [
    "sns.histplot(data.City)"
   ]
  },
  {
   "cell_type": "code",
   "execution_count": 17,
   "id": "0d6e57c7",
   "metadata": {},
   "outputs": [
    {
     "data": {
      "text/plain": [
       "0      8\n",
       "1     14\n",
       "2     31\n",
       "3     23\n",
       "4     15\n",
       "5     27\n",
       "6     38\n",
       "7      1\n",
       "8     10\n",
       "9     45\n",
       "10    35\n",
       "11     3\n",
       "12     3\n",
       "13    18\n",
       "14     1\n",
       "15     1\n",
       "16     6\n",
       "17     7\n",
       "18     6\n",
       "19    14\n",
       "20     2\n",
       "21     3\n",
       "22     7\n",
       "23    19\n",
       "24     1\n",
       "25     1\n",
       "26     1\n",
       "27     3\n",
       "28     6\n",
       "29     3\n",
       "30     7\n",
       "31    25\n",
       "32     3\n",
       "33     1\n",
       "35     6\n",
       "37    27\n",
       "38    26\n",
       "39     2\n",
       "40    55\n",
       "41    36\n",
       "42     1\n",
       "43     1\n",
       "44     1\n",
       "Name: City, dtype: int64"
      ]
     },
     "execution_count": 17,
     "metadata": {},
     "output_type": "execute_result"
    }
   ],
   "source": [
    "data.City.value_counts().sort_index()"
   ]
  },
  {
   "cell_type": "code",
   "execution_count": 18,
   "id": "011f6501",
   "metadata": {},
   "outputs": [
    {
     "data": {
      "text/plain": [
       "<AxesSubplot:xlabel='City', ylabel='Count'>"
      ]
     },
     "execution_count": 18,
     "metadata": {},
     "output_type": "execute_result"
    },
    {
     "data": {
      "image/png": "[encoded data removed]",
      "text/plain": [
       "<Figure size 432x288 with 1 Axes>"
      ]
     },
     "metadata": {
      "needs_background": "light"
     },
     "output_type": "display_data"
    }
   ],
   "source": [
    "sns.histplot(data.City, bins = 44)"
   ]
  },
  {
   "cell_type": "code",
   "execution_count": 19,
   "id": "7f83bf89",
   "metadata": {},
   "outputs": [
    {
     "data": {
      "text/plain": [
       "<AxesSubplot:xlabel='Past_Results', ylabel='Count'>"
      ]
     },
     "execution_count": 19,
     "metadata": {},
     "output_type": "execute_result"
    },
    {
     "data": {
      "image/png": "[encoded data removed]",
      "text/plain": [
       "<Figure size 432x288 with 1 Axes>"
      ]
     },
     "metadata": {
      "needs_background": "light"
     },
     "output_type": "display_data"
    }
   ],
   "source": [
    "sns.histplot(data.Past_Results)"
   ]
  },
  {
   "cell_type": "code",
   "execution_count": 20,
   "id": "545fd053",
   "metadata": {},
   "outputs": [
    {
     "data": {
      "text/plain": [
       "1     272\n",
       "0     250\n",
       "2      13\n",
       "3       5\n",
       "4       1\n",
       "6       1\n",
       "10      1\n",
       "Name: Past_Results, dtype: int64"
      ]
     },
     "execution_count": 20,
     "metadata": {},
     "output_type": "execute_result"
    }
   ],
   "source": [
    "data.Past_Results.value_counts()"
   ]
  },
  {
   "cell_type": "code",
   "execution_count": 21,
   "id": "86906e13",
   "metadata": {},
   "outputs": [
    {
     "data": {
      "text/plain": [
       "<matplotlib.legend.Legend at 0x1e5ec0f9dc0>"
      ]
     },
     "execution_count": 21,
     "metadata": {},
     "output_type": "execute_result"
    },
    {
     "data": {
      "image/png": "[encoded data removed]",
      "text/plain": [
       "<Figure size 432x288 with 1 Axes>"
      ]
     },
     "metadata": {
      "needs_background": "light"
     },
     "output_type": "display_data"
    }
   ],
   "source": [
    "data.Past_Results.value_counts().plot(kind = 'bar', label = 'Past Results')\n",
    "plt.legend()"
   ]
  },
  {
   "cell_type": "markdown",
   "id": "9876aeeb",
   "metadata": {},
   "source": [
    "Target Variable (IsUnderRisk)"
   ]
  },
  {
   "cell_type": "code",
   "execution_count": 22,
   "id": "5cf45a8d",
   "metadata": {},
   "outputs": [
    {
     "data": {
      "text/plain": [
       "1    340\n",
       "0    203\n",
       "Name: IsUnderRisk, dtype: int64"
      ]
     },
     "execution_count": 22,
     "metadata": {},
     "output_type": "execute_result"
    }
   ],
   "source": [
    "data.IsUnderRisk.value_counts()"
   ]
  },
  {
   "cell_type": "code",
   "execution_count": 23,
   "id": "083dba3d",
   "metadata": {},
   "outputs": [
    {
     "data": {
      "text/plain": [
       "<AxesSubplot:>"
      ]
     },
     "execution_count": 23,
     "metadata": {},
     "output_type": "execute_result"
    },
    {
     "data": {
      "image/png": "[encoded data removed]",
      "text/plain": [
       "<Figure size 432x288 with 1 Axes>"
      ]
     },
     "metadata": {
      "needs_background": "light"
     },
     "output_type": "display_data"
    }
   ],
   "source": [
    "data.IsUnderRisk.value_counts().plot(kind = 'bar', color = ['red', 'green'])"
   ]
  },
  {
   "cell_type": "code",
   "execution_count": 24,
   "id": "4fc45a18",
   "metadata": {},
   "outputs": [],
   "source": [
    "train = data.sample(frac = 0.8)\n",
    "valid = data.drop(train.index)"
   ]
  },
  {
   "cell_type": "code",
   "execution_count": 25,
   "id": "5cac82c5",
   "metadata": {},
   "outputs": [
    {
     "data": {
      "text/html": [
       "<div>\n",
       "<style scoped>\n",
       "    .dataframe tbody tr th:only-of-type {\n",
       "        vertical-align: middle;\n",
       "    }\n",
       "\n",
       "    .dataframe tbody tr th {\n",
       "        vertical-align: top;\n",
       "    }\n",
       "\n",
       "    .dataframe thead th {\n",
       "        text-align: right;\n",
       "    }\n",
       "</style>\n",
       "<table border=\"1\" class=\"dataframe\">\n",
       "  <thead>\n",
       "    <tr style=\"text-align: right;\">\n",
       "      <th></th>\n",
       "      <th>City</th>\n",
       "      <th>Location_Score</th>\n",
       "      <th>Internal_Audit_Score</th>\n",
       "      <th>External_Audit_Score</th>\n",
       "      <th>Fin_Score</th>\n",
       "      <th>Loss_score</th>\n",
       "      <th>Past_Results</th>\n",
       "      <th>IsUnderRisk</th>\n",
       "    </tr>\n",
       "  </thead>\n",
       "  <tbody>\n",
       "    <tr>\n",
       "      <th>18</th>\n",
       "      <td>6</td>\n",
       "      <td>41.253</td>\n",
       "      <td>3</td>\n",
       "      <td>6</td>\n",
       "      <td>4</td>\n",
       "      <td>5</td>\n",
       "      <td>0</td>\n",
       "      <td>0</td>\n",
       "    </tr>\n",
       "    <tr>\n",
       "      <th>421</th>\n",
       "      <td>2</td>\n",
       "      <td>10.854</td>\n",
       "      <td>8</td>\n",
       "      <td>8</td>\n",
       "      <td>3</td>\n",
       "      <td>4</td>\n",
       "      <td>0</td>\n",
       "      <td>1</td>\n",
       "    </tr>\n",
       "    <tr>\n",
       "      <th>159</th>\n",
       "      <td>6</td>\n",
       "      <td>7.168</td>\n",
       "      <td>7</td>\n",
       "      <td>8</td>\n",
       "      <td>4</td>\n",
       "      <td>5</td>\n",
       "      <td>1</td>\n",
       "      <td>1</td>\n",
       "    </tr>\n",
       "    <tr>\n",
       "      <th>135</th>\n",
       "      <td>38</td>\n",
       "      <td>62.351</td>\n",
       "      <td>6</td>\n",
       "      <td>4</td>\n",
       "      <td>8</td>\n",
       "      <td>7</td>\n",
       "      <td>0</td>\n",
       "      <td>0</td>\n",
       "    </tr>\n",
       "    <tr>\n",
       "      <th>115</th>\n",
       "      <td>31</td>\n",
       "      <td>16.789</td>\n",
       "      <td>13</td>\n",
       "      <td>6</td>\n",
       "      <td>6</td>\n",
       "      <td>8</td>\n",
       "      <td>0</td>\n",
       "      <td>1</td>\n",
       "    </tr>\n",
       "  </tbody>\n",
       "</table>\n",
       "</div>"
      ],
      "text/plain": [
       "     City  Location_Score  Internal_Audit_Score  External_Audit_Score  \\\n",
       "18      6          41.253                     3                     6   \n",
       "421     2          10.854                     8                     8   \n",
       "159     6           7.168                     7                     8   \n",
       "135    38          62.351                     6                     4   \n",
       "115    31          16.789                    13                     6   \n",
       "\n",
       "     Fin_Score  Loss_score  Past_Results  IsUnderRisk  \n",
       "18           4           5             0            0  \n",
       "421          3           4             0            1  \n",
       "159          4           5             1            1  \n",
       "135          8           7             0            0  \n",
       "115          6           8             0            1  "
      ]
     },
     "execution_count": 25,
     "metadata": {},
     "output_type": "execute_result"
    }
   ],
   "source": [
    "train.head()"
   ]
  },
  {
   "cell_type": "code",
   "execution_count": 26,
   "id": "88b59e9e",
   "metadata": {},
   "outputs": [
    {
     "name": "stdout",
     "output_type": "stream",
     "text": [
      "Training data: (434, 8)\n",
      "Validation data: (109, 8)\n"
     ]
    }
   ],
   "source": [
    "print(f'Training data: {train.shape}')\n",
    "print(f'Validation data: {valid.shape}')"
   ]
  },
  {
   "cell_type": "code",
   "execution_count": 27,
   "id": "8eda8fcb",
   "metadata": {},
   "outputs": [
    {
     "data": {
      "text/html": [
       "<div>\n",
       "<style scoped>\n",
       "    .dataframe tbody tr th:only-of-type {\n",
       "        vertical-align: middle;\n",
       "    }\n",
       "\n",
       "    .dataframe tbody tr th {\n",
       "        vertical-align: top;\n",
       "    }\n",
       "\n",
       "    .dataframe thead th {\n",
       "        text-align: right;\n",
       "    }\n",
       "</style>\n",
       "<table border=\"1\" class=\"dataframe\">\n",
       "  <thead>\n",
       "    <tr style=\"text-align: right;\">\n",
       "      <th></th>\n",
       "      <th>City</th>\n",
       "      <th>Location_Score</th>\n",
       "      <th>Internal_Audit_Score</th>\n",
       "      <th>External_Audit_Score</th>\n",
       "      <th>Fin_Score</th>\n",
       "      <th>Loss_score</th>\n",
       "      <th>Past_Results</th>\n",
       "    </tr>\n",
       "  </thead>\n",
       "  <tbody>\n",
       "    <tr>\n",
       "      <th>18</th>\n",
       "      <td>6</td>\n",
       "      <td>41.253</td>\n",
       "      <td>3</td>\n",
       "      <td>6</td>\n",
       "      <td>4</td>\n",
       "      <td>5</td>\n",
       "      <td>0</td>\n",
       "    </tr>\n",
       "    <tr>\n",
       "      <th>421</th>\n",
       "      <td>2</td>\n",
       "      <td>10.854</td>\n",
       "      <td>8</td>\n",
       "      <td>8</td>\n",
       "      <td>3</td>\n",
       "      <td>4</td>\n",
       "      <td>0</td>\n",
       "    </tr>\n",
       "    <tr>\n",
       "      <th>159</th>\n",
       "      <td>6</td>\n",
       "      <td>7.168</td>\n",
       "      <td>7</td>\n",
       "      <td>8</td>\n",
       "      <td>4</td>\n",
       "      <td>5</td>\n",
       "      <td>1</td>\n",
       "    </tr>\n",
       "    <tr>\n",
       "      <th>135</th>\n",
       "      <td>38</td>\n",
       "      <td>62.351</td>\n",
       "      <td>6</td>\n",
       "      <td>4</td>\n",
       "      <td>8</td>\n",
       "      <td>7</td>\n",
       "      <td>0</td>\n",
       "    </tr>\n",
       "    <tr>\n",
       "      <th>115</th>\n",
       "      <td>31</td>\n",
       "      <td>16.789</td>\n",
       "      <td>13</td>\n",
       "      <td>6</td>\n",
       "      <td>6</td>\n",
       "      <td>8</td>\n",
       "      <td>0</td>\n",
       "    </tr>\n",
       "  </tbody>\n",
       "</table>\n",
       "</div>"
      ],
      "text/plain": [
       "     City  Location_Score  Internal_Audit_Score  External_Audit_Score  \\\n",
       "18      6          41.253                     3                     6   \n",
       "421     2          10.854                     8                     8   \n",
       "159     6           7.168                     7                     8   \n",
       "135    38          62.351                     6                     4   \n",
       "115    31          16.789                    13                     6   \n",
       "\n",
       "     Fin_Score  Loss_score  Past_Results  \n",
       "18           4           5             0  \n",
       "421          3           4             0  \n",
       "159          4           5             1  \n",
       "135          8           7             0  \n",
       "115          6           8             0  "
      ]
     },
     "execution_count": 27,
     "metadata": {},
     "output_type": "execute_result"
    }
   ],
   "source": [
    "X_train, y_train = train[features], train['IsUnderRisk']\n",
    "X_valid, y_valid = valid[features], valid['IsUnderRisk']\n",
    "\n",
    "X_train.head()"
   ]
  },
  {
   "cell_type": "code",
   "execution_count": 28,
   "id": "979bfab4",
   "metadata": {},
   "outputs": [
    {
     "name": "stdout",
     "output_type": "stream",
     "text": [
      "------------------\n",
      "Minimum values\n",
      "------------------\n",
      "City                    0.000\n",
      "Location_Score          5.185\n",
      "Internal_Audit_Score    3.000\n",
      "External_Audit_Score    3.000\n",
      "Fin_Score               3.000\n",
      "Loss_score              3.000\n",
      "Past_Results            0.000\n",
      "dtype: float64\n",
      "------------------\n",
      "Maximum values\n",
      "------------------\n",
      "City                    44.000\n",
      "Location_Score          80.809\n",
      "Internal_Audit_Score    15.000\n",
      "External_Audit_Score    15.000\n",
      "Fin_Score               15.000\n",
      "Loss_score              13.000\n",
      "Past_Results            10.000\n",
      "dtype: float64\n"
     ]
    }
   ],
   "source": [
    "min_ = X_train.min(axis = 0)\n",
    "print('------------------')\n",
    "print('Minimum values')\n",
    "print('------------------')\n",
    "print(min_)\n",
    "\n",
    "max_ = X_train.max(axis = 0)\n",
    "print('------------------')\n",
    "print('Maximum values')\n",
    "print('------------------')\n",
    "print(max_)"
   ]
  },
  {
   "cell_type": "code",
   "execution_count": 29,
   "id": "886569fe",
   "metadata": {},
   "outputs": [
    {
     "data": {
      "text/plain": [
       "City                    44.000\n",
       "Location_Score          75.624\n",
       "Internal_Audit_Score    12.000\n",
       "External_Audit_Score    12.000\n",
       "Fin_Score               12.000\n",
       "Loss_score              10.000\n",
       "Past_Results            10.000\n",
       "dtype: float64"
      ]
     },
     "execution_count": 29,
     "metadata": {},
     "output_type": "execute_result"
    }
   ],
   "source": [
    "# Range\n",
    "max_ - min_"
   ]
  },
  {
   "cell_type": "code",
   "execution_count": null,
   "id": "90844af9",
   "metadata": {},
   "outputs": [],
   "source": []
  },
  {
   "cell_type": "code",
   "execution_count": 30,
   "id": "edb7d777",
   "metadata": {},
   "outputs": [
    {
     "data": {
      "text/plain": [
       "18     0\n",
       "421    1\n",
       "159    1\n",
       "135    0\n",
       "115    1\n",
       "Name: IsUnderRisk, dtype: int64"
      ]
     },
     "execution_count": 30,
     "metadata": {},
     "output_type": "execute_result"
    }
   ],
   "source": [
    "y_train.head()"
   ]
  },
  {
   "cell_type": "code",
   "execution_count": 31,
   "id": "8ef35fbb",
   "metadata": {},
   "outputs": [],
   "source": [
    "# Classification models\n",
    "# Tree-Based\n",
    "from sklearn.tree import DecisionTreeClassifier\n",
    "from sklearn.ensemble import RandomForestClassifier\n",
    "\n",
    "# Logistic Regression\n",
    "from sklearn.linear_model import LogisticRegression\n",
    "\n",
    "# Distance_Based\n",
    "from sklearn.neighbors import KNeighborsClassifier\n",
    "from sklearn.svm import SVC\n",
    "\n",
    "# Preprocessing\n",
    "from sklearn.preprocessing import StandardScaler\n",
    "\n",
    "# Evaluation Metrics\n",
    "from sklearn import metrics"
   ]
  },
  {
   "cell_type": "markdown",
   "id": "ed200596",
   "metadata": {},
   "source": [
    "##  DecisionTreeClassifier"
   ]
  },
  {
   "cell_type": "code",
   "execution_count": 32,
   "id": "f05f191f",
   "metadata": {},
   "outputs": [
    {
     "data": {
      "text/plain": [
       "DecisionTreeClassifier(random_state=22)"
      ]
     },
     "execution_count": 32,
     "metadata": {},
     "output_type": "execute_result"
    }
   ],
   "source": [
    "model_dt = DecisionTreeClassifier(random_state = 22)\n",
    "\n",
    "model_dt.fit(X_train, y_train)"
   ]
  },
  {
   "cell_type": "code",
   "execution_count": 33,
   "id": "421ac1ff",
   "metadata": {},
   "outputs": [],
   "source": [
    "preds_dt = model_dt.predict(X_valid)"
   ]
  },
  {
   "cell_type": "code",
   "execution_count": 34,
   "id": "e1dd97d7",
   "metadata": {},
   "outputs": [
    {
     "name": "stdout",
     "output_type": "stream",
     "text": [
      "Accuracy Score: 0.8440366972477065\n"
     ]
    }
   ],
   "source": [
    "# DT Accuracy\n",
    "acc_dt = metrics.accuracy_score(preds_dt, y_valid)\n",
    "print(f'Accuracy Score: {acc_dt}')"
   ]
  },
  {
   "cell_type": "code",
   "execution_count": 35,
   "id": "baac43a6",
   "metadata": {},
   "outputs": [],
   "source": [
    "# # DT Recall\n",
    "# recall_dt = metrics.f1_recall(preds_dt, y_valid)\n",
    "# print(f'Recall : {recall_dt}')"
   ]
  },
  {
   "cell_type": "markdown",
   "id": "c6f1e039",
   "metadata": {},
   "source": [
    "## RandomForestClassifier"
   ]
  },
  {
   "cell_type": "code",
   "execution_count": 36,
   "id": "7849d592",
   "metadata": {},
   "outputs": [
    {
     "data": {
      "text/plain": [
       "RandomForestClassifier(random_state=11)"
      ]
     },
     "execution_count": 36,
     "metadata": {},
     "output_type": "execute_result"
    }
   ],
   "source": [
    "model_rf = RandomForestClassifier(random_state = 11)\n",
    "model_rf.fit(X_train, y_train)"
   ]
  },
  {
   "cell_type": "code",
   "execution_count": 37,
   "id": "775564be",
   "metadata": {},
   "outputs": [],
   "source": [
    "preds_rf = model_rf.predict(X_valid)"
   ]
  },
  {
   "cell_type": "code",
   "execution_count": 38,
   "id": "d67475f3",
   "metadata": {},
   "outputs": [
    {
     "name": "stdout",
     "output_type": "stream",
     "text": [
      "Accuracy Score: 0.8623853211009175\n"
     ]
    }
   ],
   "source": [
    "acc_rf = metrics.accuracy_score(preds_rf, y_valid)\n",
    "print(f'Accuracy Score: {acc_rf}')"
   ]
  },
  {
   "cell_type": "code",
   "execution_count": null,
   "id": "b771dc36",
   "metadata": {},
   "outputs": [],
   "source": []
  },
  {
   "cell_type": "markdown",
   "id": "26c32ef1",
   "metadata": {},
   "source": [
    "## LogisticRegression"
   ]
  },
  {
   "cell_type": "code",
   "execution_count": 39,
   "id": "9580e799",
   "metadata": {},
   "outputs": [
    {
     "data": {
      "text/plain": [
       "LogisticRegression()"
      ]
     },
     "execution_count": 39,
     "metadata": {},
     "output_type": "execute_result"
    }
   ],
   "source": [
    "model_lr = LogisticRegression()\n",
    "model_lr.fit(X_train, y_train)"
   ]
  },
  {
   "cell_type": "code",
   "execution_count": 40,
   "id": "155fb182",
   "metadata": {},
   "outputs": [],
   "source": [
    "preds_lr = model_lr.predict(X_valid)"
   ]
  },
  {
   "cell_type": "code",
   "execution_count": 41,
   "id": "bebffa3b",
   "metadata": {},
   "outputs": [
    {
     "name": "stdout",
     "output_type": "stream",
     "text": [
      "Accuracy Score: 0.8256880733944955\n"
     ]
    }
   ],
   "source": [
    "acc_lr = metrics.accuracy_score(preds_lr, y_valid)\n",
    "print(f'Accuracy Score: {acc_lr}')"
   ]
  },
  {
   "cell_type": "code",
   "execution_count": null,
   "id": "a39b44f6",
   "metadata": {},
   "outputs": [],
   "source": []
  },
  {
   "cell_type": "markdown",
   "id": "8404f1f1",
   "metadata": {},
   "source": [
    "## KNeighborsClassifier"
   ]
  },
  {
   "cell_type": "code",
   "execution_count": 42,
   "id": "af487708",
   "metadata": {},
   "outputs": [
    {
     "data": {
      "text/plain": [
       "KNeighborsClassifier()"
      ]
     },
     "execution_count": 42,
     "metadata": {},
     "output_type": "execute_result"
    }
   ],
   "source": [
    "model_knn = KNeighborsClassifier()\n",
    "model_knn.fit(X_train, y_train)"
   ]
  },
  {
   "cell_type": "code",
   "execution_count": 43,
   "id": "e4381ed2",
   "metadata": {},
   "outputs": [],
   "source": [
    "preds_knn = model_knn.predict(X_valid)"
   ]
  },
  {
   "cell_type": "code",
   "execution_count": 44,
   "id": "7a6052bf",
   "metadata": {},
   "outputs": [
    {
     "name": "stdout",
     "output_type": "stream",
     "text": [
      "Accuracy Score: 0.7889908256880734\n"
     ]
    }
   ],
   "source": [
    "acc_knn = metrics.accuracy_score(preds_knn, y_valid)\n",
    "print(f'Accuracy Score: {acc_knn}')"
   ]
  },
  {
   "cell_type": "markdown",
   "id": "862dc553",
   "metadata": {},
   "source": [
    "## SupportVectorClassifier"
   ]
  },
  {
   "cell_type": "code",
   "execution_count": 45,
   "id": "be6c8b13",
   "metadata": {},
   "outputs": [
    {
     "data": {
      "text/plain": [
       "SVC()"
      ]
     },
     "execution_count": 45,
     "metadata": {},
     "output_type": "execute_result"
    }
   ],
   "source": [
    "model_svc = SVC()\n",
    "model_svc.fit(X_train, y_train)"
   ]
  },
  {
   "cell_type": "code",
   "execution_count": 46,
   "id": "ff62143c",
   "metadata": {},
   "outputs": [],
   "source": [
    "preds_svc = model_svc.predict(X_valid)"
   ]
  },
  {
   "cell_type": "code",
   "execution_count": 47,
   "id": "8d7de365",
   "metadata": {},
   "outputs": [
    {
     "name": "stdout",
     "output_type": "stream",
     "text": [
      "Accuracy Score: 0.7889908256880734\n"
     ]
    }
   ],
   "source": [
    "acc_svc = metrics.accuracy_score(preds_svc, y_valid)\n",
    "print(f'Accuracy Score: {acc_svc}')"
   ]
  },
  {
   "cell_type": "markdown",
   "id": "0c6590d6",
   "metadata": {},
   "source": [
    "Without scaling the data, the RandomForestClassifier produces the best performance.\n",
    "Distance-based model seems to be struggling in their classification due to the disparities in scale of the features."
   ]
  },
  {
   "cell_type": "markdown",
   "id": "3acae638",
   "metadata": {},
   "source": [
    "## Using Scaled Data"
   ]
  },
  {
   "cell_type": "code",
   "execution_count": 48,
   "id": "ba5fad14",
   "metadata": {},
   "outputs": [],
   "source": [
    "models = ['decisiontree', 'randomforest', 'logisticregression', 'knn', 'svc']"
   ]
  },
  {
   "cell_type": "code",
   "execution_count": 49,
   "id": "134ae34e",
   "metadata": {},
   "outputs": [],
   "source": [
    "def train_evaluate_model(list, df, target):\n",
    "    \n",
    "    # Splitting the training and validation sets    \n",
    "    train = df.sample(frac = 0.8)\n",
    "    valid = df.drop(train.index)\n",
    "    \n",
    "    # Separating features and target\n",
    "    features = df.columns.drop(str(target))\n",
    "    \n",
    "    X_train, y_train = train[features], train[target]\n",
    "    X_valid, y_valid = valid[features], valid[target]\n",
    "    \n",
    "    # Scaling the data\n",
    "    scaler = StandardScaler()\n",
    "    \n",
    "    features = X_train.columns\n",
    "    \n",
    "    X_train = pd.DataFrame(scaler.fit_transform(X_train), columns = features)\n",
    "    X_valid = pd.DataFrame(scaler.transform(X_valid), columns = features)\n",
    "    \n",
    "    print(X_train.head())\n",
    "    print('\\n-----------------------------------------------')\n",
    "    \n",
    "    # Training & Evaluating the models\n",
    "    for model in list:\n",
    "        \n",
    "        if model == 'decisiontree':\n",
    "            model_dt = DecisionTreeClassifier(random_state = 11)\n",
    "            \n",
    "            print('Training DecisionTreeClassifier........')\n",
    "            model_dt.fit(X_train, y_train)\n",
    "            print('-----------------------------------------------')\n",
    "            \n",
    "            print('Evaluating the model*********')\n",
    "            preds_dt = model_dt.predict(X_valid)\n",
    "            acc_score = metrics.accuracy_score(preds_dt, y_valid)            \n",
    "            print('-----------------------------------------------')\n",
    "            print(f'Accuracy: {acc_score}')\n",
    "            \n",
    "            print('\\n-----------------------------------------------')\n",
    "        \n",
    "        elif model == 'randomforest':\n",
    "            model_rf = RandomForestClassifier(random_state = 22)\n",
    "            \n",
    "            print('Training RandomForestClassifier........')\n",
    "            model_rf.fit(X_train, y_train)\n",
    "            print('-----------------------------------------------')\n",
    "            \n",
    "            print('Evaluating the model*********')\n",
    "            preds_rf = model_rf.predict(X_valid)            \n",
    "            print('-----------------------------------------------')\n",
    "            acc_score = metrics.accuracy_score(preds_rf, y_valid)\n",
    "            print(f'Accuracy: {acc_score}')\n",
    "            \n",
    "            print('\\n-----------------------------------------------')\n",
    "        \n",
    "        elif model == 'logisticregression':\n",
    "            model_lr = LogisticRegression()\n",
    "            \n",
    "            print('Training LogisticRegression........')\n",
    "            model_lr.fit(X_train, y_train)\n",
    "            print('-----------------------------------------------')\n",
    "            print('Evaluating the model*********')\n",
    "            preds_lr = model_lr.predict(X_valid)\n",
    "            print('-----------------------------------------------')\n",
    "            acc_score = metrics.accuracy_score(preds_lr, y_valid)\n",
    "            print(f'Accuracy: {acc_score}')\n",
    "            \n",
    "            print('\\n-----------------------------------------------')\n",
    "            \n",
    "        elif model == 'knn':\n",
    "            model_knn = LogisticRegression()\n",
    "            \n",
    "            print('Training KNeighborsClassifier........')\n",
    "            model_knn.fit(X_train, y_train)\n",
    "            print('-----------------------------------------------')\n",
    "            print('Evaluating the model*********')\n",
    "            preds_knn = model_knn.predict(X_valid)\n",
    "            print('-----------------------------------------------')            \n",
    "            acc_score = metrics.accuracy_score(preds_knn, y_valid)\n",
    "            print(f'Accuracy: {acc_score}')\n",
    "            \n",
    "            print('\\n-----------------------------------------------')\n",
    "            \n",
    "        elif model == 'svc':\n",
    "            model_svc = SVC()\n",
    "            \n",
    "            print('Training SupportVectorClassifier........')\n",
    "            model_svc.fit(X_train, y_train)\n",
    "            print('-----------------------------------------------')\n",
    "            print('Evaluating the model*********')\n",
    "            preds_svc = model_svc.predict(X_valid)\n",
    "            print('-----------------------------------------------')\n",
    "            \n",
    "            acc_score = metrics.accuracy_score(preds_svc, y_valid)\n",
    "            print(f'Accuracy: {acc_score}')\n",
    "            \n",
    "        "
   ]
  },
  {
   "cell_type": "code",
   "execution_count": 50,
   "id": "532720fa",
   "metadata": {},
   "outputs": [
    {
     "name": "stdout",
     "output_type": "stream",
     "text": [
      "       City  Location_Score  Internal_Audit_Score  External_Audit_Score  \\\n",
      "0 -0.048720        1.538610             -0.053220             -0.707544   \n",
      "1 -0.048720       -0.913884             -1.553046             -0.132499   \n",
      "2 -0.726422       -0.345302             -1.553046              0.155024   \n",
      "3  1.374455        1.491532             -0.053220             -0.995067   \n",
      "4 -1.133043        1.630640             -0.653150             -0.995067   \n",
      "\n",
      "   Fin_Score  Loss_score  Past_Results  \n",
      "0  -1.280126   -1.343334     -0.761656  \n",
      "1  -0.653067    0.823978     -0.761656  \n",
      "2  -1.280126   -0.259678      0.514632  \n",
      "3  -0.026007    0.282150     -0.761656  \n",
      "4  -0.026007    1.365807      0.514632  \n",
      "\n",
      "-----------------------------------------------\n",
      "Training DecisionTreeClassifier........\n",
      "-----------------------------------------------\n",
      "Evaluating the model*********\n",
      "-----------------------------------------------\n",
      "Accuracy: 0.7614678899082569\n",
      "\n",
      "-----------------------------------------------\n",
      "Training RandomForestClassifier........\n",
      "-----------------------------------------------\n",
      "Evaluating the model*********\n",
      "-----------------------------------------------\n",
      "Accuracy: 0.8715596330275229\n",
      "\n",
      "-----------------------------------------------\n",
      "Training LogisticRegression........\n",
      "-----------------------------------------------\n",
      "Evaluating the model*********\n",
      "-----------------------------------------------\n",
      "Accuracy: 0.8165137614678899\n",
      "\n",
      "-----------------------------------------------\n",
      "Training KNeighborsClassifier........\n",
      "-----------------------------------------------\n",
      "Evaluating the model*********\n",
      "-----------------------------------------------\n",
      "Accuracy: 0.8165137614678899\n",
      "\n",
      "-----------------------------------------------\n",
      "Training SupportVectorClassifier........\n",
      "-----------------------------------------------\n",
      "Evaluating the model*********\n",
      "-----------------------------------------------\n",
      "Accuracy: 0.8623853211009175\n"
     ]
    }
   ],
   "source": [
    "# Training and Evaluating the Models\n",
    "train_evaluate_model(models, data, 'IsUnderRisk')"
   ]
  },
  {
   "cell_type": "markdown",
   "id": "e4c6c4e8",
   "metadata": {},
   "source": [
    "After scaling the data, distance-based models improved their performance significantly, with SupportVectorClassifier being almost as good as the RandomForestClassifier. However, the RandomForestClassifier still outperforms all the other models with a slight improvement in the performance.\n",
    "\n",
    "The DecisionTreeClassifier performs poorly using scaled data.  "
   ]
  },
  {
   "cell_type": "code",
   "execution_count": 56,
   "id": "28a68b61",
   "metadata": {},
   "outputs": [
    {
     "data": {
      "text/plain": [
       "<AxesSubplot:>"
      ]
     },
     "execution_count": 56,
     "metadata": {},
     "output_type": "execute_result"
    },
    {
     "data": {
      "image/png": "[encoded data removed]",
      "text/plain": [
       "<Figure size 432x288 with 2 Axes>"
      ]
     },
     "metadata": {
      "needs_background": "light"
     },
     "output_type": "display_data"
    }
   ],
   "source": [
    "sns.heatmap(data[columns])"
   ]
  },
  {
   "cell_type": "code",
   "execution_count": null,
   "id": "aff243ac",
   "metadata": {},
   "outputs": [],
   "source": []
  },
  {
   "cell_type": "code",
   "execution_count": null,
   "id": "797ff364",
   "metadata": {},
   "outputs": [],
   "source": []
  },
  {
   "cell_type": "code",
   "execution_count": null,
   "id": "8a0a06ec",
   "metadata": {},
   "outputs": [],
   "source": []
  },
  {
   "cell_type": "code",
   "execution_count": null,
   "id": "1822849f",
   "metadata": {},
   "outputs": [],
   "source": []
  },
  {
   "cell_type": "code",
   "execution_count": null,
   "id": "b434a380",
   "metadata": {},
   "outputs": [],
   "source": []
  },
  {
   "cell_type": "code",
   "execution_count": null,
   "id": "af3c09be",
   "metadata": {},
   "outputs": [],
   "source": []
  }
 ],
 "metadata": {
  "kernelspec": {
   "display_name": "Python 3",
   "language": "python",
   "name": "python3"
  },
  "language_info": {
   "codemirror_mode": {
    "name": "ipython",
    "version": 3
   },
   "file_extension": ".py",
   "mimetype": "text/x-python",
   "name": "python",
   "nbconvert_exporter": "python",
   "pygments_lexer": "ipython3",
   "version": "3.8.8"
  }
 },
 "nbformat": 4,
 "nbformat_minor": 5
}
